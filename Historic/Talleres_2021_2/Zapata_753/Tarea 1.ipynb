{
 "cells": [
  {
   "cell_type": "markdown",
   "id": "7f239f14",
   "metadata": {},
   "source": [
    "### Definir una función que permita determinar m valores de entrenamiento dado un m, para f1, f2. Definidos como:\n",
    "\n",
    "####  f1 = stats.norm(loc =mean1,scale = desv1) \n",
    "#### f2 = stats.norm(loc =mean1,scale = desv1)\n",
    "\n",
    "### emplear los valores mean1 = 12, mean2 = 17, desv1 = 1 , desv2 = 2)\n"
   ]
  },
  {
   "cell_type": "code",
   "execution_count": 7,
   "id": "f0d3fb7c",
   "metadata": {},
   "outputs": [],
   "source": [
    "import numpy as np\n",
    "from scipy import stats\n",
    "import matplotlib.pylab as plt\n",
    "from sklearn.tree import DecisionTreeClassifier #libreria de maching learning\n",
    "\n",
    "f1 = stats.norm(loc = 12, scale = 1)\n",
    "f2 = stats.norm(loc = 17, scale = 2)\n",
    "\n",
    "# funcion que define m valores de entranamiento dado un m\n",
    "def train_values(m):\n",
    "    \n",
    "    random_1 = f1.rvs(m)  #m variables aleatorias pertenecientes a la clase 1\n",
    "    random_2 = f2.rvs(m)  #m variables aleatorias pertenecientes a la clase 2\n",
    "    \n",
    "    \n",
    "    X = np.zeros(2*m)\n",
    "    X[0:m] = random_1     # Construccion de vector con la caracteristica 1\n",
    "    X[m:2*m] = random_2\n",
    "    \n",
    "    y = np.zeros(2*m)      # Valor asociada a la caracteristica 1\n",
    "    y[m:2*m] = np.ones(m)\n",
    "    \n",
    "    return X, y\n",
    "    \n",
    "#  construya una función de python, que permita determinar la predicción empleando un DesicionTreeClasifier\n",
    "\n",
    "def main(X, y, Xr, m):\n",
    "    #X, y = train_values(100)\n",
    "    clf = DecisionTreeClassifier(max_depth = 1)\n",
    "    clf = clf.fit(X.reshape(-1, 1), y)\n",
    "\n",
    "    # Xr = np.linspace(8,25, 100 ).reshape(-1, 1)\n",
    "    yr = clf.predict(Xr)\n",
    "    \n",
    "\n",
    "\n",
    "    plt.figure(figsize=(14,1))\n",
    "    plt.plot(Xr[yr==0], np.zeros(len(Xr[yr==0]) ), color=\"g\", alpha=0.6, lw=3 )  # GRaficando la prediccion para el conjunto de datos, para los de tipo 0\n",
    "    plt.plot(Xr[yr==1], np.zeros(len(Xr[yr==1]) ), color=\"b\", alpha=0.6, lw =3 ) #  GRaficando la prediccion para el conjunto de datos, para los de tipo 1\n",
    "    plt.plot(X[y==0],np.zeros(m),\"g.\", alpha = 0.4) # Valores aleatorios # Valores de entrenamiento\n",
    "    plt.plot(X[y==1],np.zeros(m),\"b.\", alpha = 0.4)                      # Valores de test\n",
    "    plt.yticks([])\n",
    "    plt.show()\n",
    "    \n",
    "    return yr\n",
    "\n",
    "    \n",
    "    \n",
    "    \n",
    "    "
   ]
  },
  {
   "cell_type": "code",
   "execution_count": null,
   "id": "c044568b",
   "metadata": {},
   "outputs": [],
   "source": []
  },
  {
   "cell_type": "code",
   "execution_count": 8,
   "id": "90226a9b",
   "metadata": {},
   "outputs": [
    {
     "data": {
      "image/png": "[encoded data removed]",
      "text/plain": [
       "<Figure size 1008x72 with 1 Axes>"
      ]
     },
     "metadata": {},
     "output_type": "display_data"
    },
    {
     "data": {
      "image/png": "[encoded data removed]",
      "text/plain": [
       "<Figure size 1008x72 with 1 Axes>"
      ]
     },
     "metadata": {},
     "output_type": "display_data"
    },
    {
     "data": {
      "image/png": "[encoded data removed]",
      "text/plain": [
       "<Figure size 1008x72 with 1 Axes>"
      ]
     },
     "metadata": {},
     "output_type": "display_data"
    },
    {
     "data": {
      "image/png": "[encoded data removed]",
      "text/plain": [
       "<Figure size 1008x72 with 1 Axes>"
      ]
     },
     "metadata": {},
     "output_type": "display_data"
    },
    {
     "data": {
      "image/png": "[encoded data removed]",
      "text/plain": [
       "<Figure size 1008x72 with 1 Axes>"
      ]
     },
     "metadata": {},
     "output_type": "display_data"
    }
   ],
   "source": [
    "# Para diferentes valores de entrenamiento, el resultado es el siguiente:\n",
    "m = np.arange(10, 60, 10)\n",
    "\n",
    "for m_ in m:\n",
    "    X, y = train_values(m_)\n",
    "    Xr = np.linspace(8,25, 100 ).reshape(-1, 1)\n",
    "    main(X, y, Xr,m_)"
   ]
  },
  {
   "cell_type": "code",
   "execution_count": null,
   "id": "d3804b57",
   "metadata": {},
   "outputs": [],
   "source": []
  },
  {
   "cell_type": "markdown",
   "id": "64855624",
   "metadata": {},
   "source": [
    "1. Con la función construida realice los siguientes experimentos:\n",
    "* Elija diferentes valores m entre (10 , 100). ¿Cómo se compara la frontera Bayesiana respecto a los valores      determinados?\n",
    "* Eliga m=100, realice un muestreo para 10 experimentos, ¿Cómo se compara la frontera Bayesiana respecto a los  valores determinados?\n",
    "\n"
   ]
  },
  {
   "cell_type": "code",
   "execution_count": 15,
   "id": "9a2e0c96",
   "metadata": {},
   "outputs": [
    {
     "name": "stdout",
     "output_type": "stream",
     "text": [
      "[10 20 30 60 80 90]\n"
     ]
    }
   ],
   "source": [
    "# m entre 10 y 100, ¿Cómo se compara la frontera Ballesiana?\n",
    "mm = np.array([10,20,30,60,80,90])\n",
    "\n",
    "for i in mm:\n",
    "    main(X, y, Xr, i)"
   ]
  },
  {
   "cell_type": "code",
   "execution_count": null,
   "id": "d90731a5",
   "metadata": {},
   "outputs": [],
   "source": []
  }
 ],
 "metadata": {
  "kernelspec": {
   "display_name": "Python 3",
   "language": "python",
   "name": "python3"
  },
  "language_info": {
   "codemirror_mode": {
    "name": "ipython",
    "version": 3
   },
   "file_extension": ".py",
   "mimetype": "text/x-python",
   "name": "python",
   "nbconvert_exporter": "python",
   "pygments_lexer": "ipython3",
   "version": "3.6.9"
  }
 },
 "nbformat": 4,
 "nbformat_minor": 5
}
