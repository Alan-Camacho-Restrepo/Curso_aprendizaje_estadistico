{
  "nbformat": 4,
  "nbformat_minor": 0,
  "metadata": {
    "colab": {
      "name": "Laboratorio_10_EspecificidadSensibilidadROC.ipynb",
      "provenance": []
    },
    "kernelspec": {
      "name": "python3",
      "display_name": "Python 3"
    },
    "language_info": {
      "name": "python"
    }
  },
  "cells": [
    {
      "cell_type": "markdown",
      "source": [
        "\n",
        "[Sensibilidad y Especificidad](https://es.wikipedia.org/wiki/Sensibilidad_y_especificidad)\n",
        "\n",
        "\n",
        "*Sensiblidad*:  capacidad de la prueba para detectar un sujeto enfermo, en otras palabras, ¿Cual es la probabilidad de que el resultado sea postivo?.\n",
        "\n",
        "Probabilidad de que la prueba indentifique como enfermo aquel que realmente esta:\n",
        "\n",
        "$S = \\frac{Verdadedor Positivos}{Total Enfermos}=\\frac{VP}{VP+FN}$\n",
        "\n",
        "\n",
        "*Especificidad*: Indentifiar como sanos a los que realmente lo son.\n",
        "\n",
        "$E = \\frac{Verdadedor Negativos}{Total  de NO Enfermos}=\\frac{VN}{VN+FP}$\n",
        "\n",
        "\n"
      ],
      "metadata": {
        "id": "kVCuIkKLfmCI"
      }
    },
    {
      "cell_type": "code",
      "source": [
        "import sklearn\n",
        "import numpy as np\n",
        "import pandas as pd\n",
        "import matplotlib.pylab as plt\n",
        "import seaborn as sns\n",
        "from scipy import stats\n",
        "from scipy import optimize\n",
        "from scipy.stats import norm"
      ],
      "metadata": {
        "id": "whVVU_Rcorup"
      },
      "execution_count": 28,
      "outputs": []
    },
    {
      "cell_type": "code",
      "source": [
        "def pdf(x, mean1 = 10, mean2=16, desv1=2, desv2=2):\n",
        "  fig, ax = plt.subplots(1, 1)\n",
        "  \n",
        "  f1 = stats.norm(loc = mean1, scale = desv1)\n",
        "  f2 = stats.norm(loc = mean2, scale = desv2)\n",
        "  ax.plot(x, f1.pdf(x),'g-', lw = 3, alpha = 0.6, label='pdf 1')\n",
        "  ax.plot(x, f2.pdf(x),'b-', lw = 3, alpha = 0.6, label='pdf 2')  \n",
        "  ax.set_xlabel(\"x\")\n",
        "  ax.set_ylabel(\"PDF(X)\")\n",
        "  return \"Done\", f1, f2"
      ],
      "metadata": {
        "id": "MOWbDsHUqVQU"
      },
      "execution_count": 29,
      "outputs": []
    },
    {
      "cell_type": "code",
      "source": [
        "x=np.linspace(5, 30,100)\n",
        "_, f1, f2 = pdf(x, mean1 = 12, mean2 = 13, desv1 = 1, desv2 = 1)\n",
        "plt.legend()"
      ],
      "metadata": {
        "colab": {
          "base_uri": "https://localhost:8080/",
          "height": 297
        },
        "id": "9jpWKgaGqVly",
        "outputId": "5af772d0-757f-4ee3-fe76-0b57ccc12fde"
      },
      "execution_count": 44,
      "outputs": [
        {
          "output_type": "execute_result",
          "data": {
            "text/plain": [
              "<matplotlib.legend.Legend at 0x7f6ab2ac43d0>"
            ]
          },
          "metadata": {},
          "execution_count": 44
        },
        {
          "output_type": "display_data",
          "data": {
            "text/plain": [
              "<Figure size 432x288 with 1 Axes>"
            ],
            "image/png": "[encoded data removed]"
          },
          "metadata": {
            "needs_background": "light"
          }
        }
      ]
    },
    {
      "cell_type": "code",
      "source": [
        "random_1 = f1.rvs(1000)\n",
        "random_2 = f2.rvs(1000)\n"
      ],
      "metadata": {
        "id": "hNRVuXBKtNqQ"
      },
      "execution_count": 45,
      "outputs": []
    },
    {
      "cell_type": "code",
      "source": [
        "boundary = 10\n",
        "plt.figure()\n",
        "plt.hist(random_1, density=True, label=\"Sanos\")\n",
        "#plt.plot(x, f1.pdf(x))\n",
        "plt.hist(random_2, density=True, label=\"Enfermos\")\n",
        "plt.vlines(boundary, 0, 1, alpha=0.8)\n",
        "#plt.plot(x, f2.pdf(x))\n",
        "plt.ylim(0,0.45)\n",
        "plt.legend()\n",
        "plt.show()"
      ],
      "metadata": {
        "colab": {
          "base_uri": "https://localhost:8080/",
          "height": 269
        },
        "id": "sOlv_ejdqXSW",
        "outputId": "6071318b-4874-4d9e-aa23-42f4727b63f3"
      },
      "execution_count": 46,
      "outputs": [
        {
          "output_type": "display_data",
          "data": {
            "text/plain": [
              "<Figure size 432x288 with 1 Axes>"
            ],
            "image/png": "[encoded data removed]"
          },
          "metadata": {
            "needs_background": "light"
          }
        }
      ]
    },
    {
      "cell_type": "markdown",
      "source": [
        "Especificidad:\n",
        "Probabilidad de indentifiar como sanos a los que realmente lo son.\n",
        "\n",
        "\n",
        "$E = \\frac{VN}{VN+FP}$"
      ],
      "metadata": {
        "id": "hrLBR8gdscVl"
      }
    },
    {
      "cell_type": "code",
      "source": [
        "VN = (random_1<boundary).sum()\n",
        "FP = (random_1>boundary).sum()\n",
        "E = VN/(VN+FP)\n",
        "E"
      ],
      "metadata": {
        "colab": {
          "base_uri": "https://localhost:8080/"
        },
        "id": "xSJQVm3nqfpG",
        "outputId": "b6148713-5ca2-414b-b645-2162d2863e60"
      },
      "execution_count": 47,
      "outputs": [
        {
          "output_type": "execute_result",
          "data": {
            "text/plain": [
              "0.017"
            ]
          },
          "metadata": {},
          "execution_count": 47
        }
      ]
    },
    {
      "cell_type": "markdown",
      "source": [
        "Sensibilidad\n",
        "\n",
        "Probabilidad de que la prueba indentifique como enfermo aquel que realmente esta\n",
        "\n",
        "$S = \\frac{VP}{VP+FN}$"
      ],
      "metadata": {
        "id": "lGIHrSQ2swl3"
      }
    },
    {
      "cell_type": "code",
      "source": [
        "VP = (random_2>boundary).sum()\n",
        "FN = (random_2<boundary).sum()\n",
        "S = VP/(VP+FN)\n",
        "S"
      ],
      "metadata": {
        "colab": {
          "base_uri": "https://localhost:8080/"
        },
        "id": "sIBW0ZyYrCLB",
        "outputId": "b7173aa3-3d25-4d3f-b8e4-e3c8f9a21b9b"
      },
      "execution_count": 48,
      "outputs": [
        {
          "output_type": "execute_result",
          "data": {
            "text/plain": [
              "0.997"
            ]
          },
          "metadata": {},
          "execution_count": 48
        }
      ]
    },
    {
      "cell_type": "markdown",
      "source": [
        "Para diferentes fronteras como es la sensiblidad como funcion de la especificidad 1-E. \n",
        "Curvas Roc https://es.wikipedia.org/wiki/Curva_ROC"
      ],
      "metadata": {
        "id": "k-tH-T_PD_EZ"
      }
    },
    {
      "cell_type": "code",
      "source": [
        "boundary_=np.linspace(2,20,100)\n",
        "E_=[]\n",
        "S_=[]\n",
        "for b in boundary_:\n",
        "  VN = (random_1<b).sum()\n",
        "  FP = (random_1>b).sum()\n",
        "  E = VN/(VN+FP)\n",
        "  E_.append(E)\n",
        "\n",
        "  VP = (random_2>b).sum()\n",
        "  FN = (random_2<b).sum()\n",
        "  S = VP/(VP+FN)  \n",
        "  S_.append(S)"
      ],
      "metadata": {
        "id": "4piyDE6nsGHt"
      },
      "execution_count": 49,
      "outputs": []
    },
    {
      "cell_type": "code",
      "source": [
        "plt.plot( (1-np.array(E_)), np.array(S_),\"ro\")\n",
        "plt.xlabel(\"1-E\")\n",
        "plt.ylabel(\"S\")"
      ],
      "metadata": {
        "colab": {
          "base_uri": "https://localhost:8080/",
          "height": 297
        },
        "id": "MohRxn_IuF6r",
        "outputId": "394f2213-94b8-47a5-e7fd-f6ec0863cb30"
      },
      "execution_count": 50,
      "outputs": [
        {
          "output_type": "execute_result",
          "data": {
            "text/plain": [
              "Text(0, 0.5, 'S')"
            ]
          },
          "metadata": {},
          "execution_count": 50
        },
        {
          "output_type": "display_data",
          "data": {
            "text/plain": [
              "<Figure size 432x288 with 1 Axes>"
            ],
            "image/png": "[encoded data removed]"
          },
          "metadata": {
            "needs_background": "light"
          }
        }
      ]
    },
    {
      "cell_type": "code",
      "source": [
        "      ¿¡(1-np.array(E_))"
      ],
      "metadata": {
        "colab": {
          "base_uri": "https://localhost:8080/"
        },
        "id": "EeA2yCEaEhNQ",
        "outputId": "44b4c97b-0df7-482c-918c-5fcb0f906004"
      },
      "execution_count": 22,
      "outputs": [
        {
          "output_type": "execute_result",
          "data": {
            "text/plain": [
              "array([1.   , 1.   , 1.   , 1.   , 1.   , 1.   , 1.   , 1.   , 1.   ,\n",
              "       1.   , 1.   , 1.   , 1.   , 1.   , 1.   , 1.   , 1.   , 1.   ,\n",
              "       1.   , 1.   , 1.   , 1.   , 1.   , 1.   , 1.   , 1.   , 1.   ,\n",
              "       1.   , 1.   , 1.   , 1.   , 1.   , 1.   , 0.999, 0.999, 0.999,\n",
              "       0.998, 0.998, 0.998, 0.997, 0.995, 0.994, 0.989, 0.984, 0.974,\n",
              "       0.962, 0.942, 0.925, 0.902, 0.863, 0.823, 0.763, 0.707, 0.651,\n",
              "       0.581, 0.509, 0.435, 0.371, 0.303, 0.236, 0.185, 0.135, 0.102,\n",
              "       0.072, 0.051, 0.036, 0.025, 0.019, 0.01 , 0.004, 0.002, 0.002,\n",
              "       0.001, 0.   , 0.   , 0.   , 0.   , 0.   , 0.   , 0.   , 0.   ,\n",
              "       0.   , 0.   , 0.   , 0.   , 0.   , 0.   , 0.   , 0.   , 0.   ,\n",
              "       0.   , 0.   , 0.   , 0.   , 0.   , 0.   , 0.   , 0.   , 0.   ,\n",
              "       0.   ])"
            ]
          },
          "metadata": {},
          "execution_count": 22
        }
      ]
    },
    {
      "cell_type": "code",
      "source": [
        "#¿Que pasa si las distribuciones estan muy juntas?"
      ],
      "metadata": {
        "id": "xgvjoV8kuJrr"
      },
      "execution_count": null,
      "outputs": []
    }
  ]
}