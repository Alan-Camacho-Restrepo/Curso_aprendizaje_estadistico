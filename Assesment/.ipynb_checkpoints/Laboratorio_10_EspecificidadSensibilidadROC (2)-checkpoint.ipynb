{
 "cells": [
  {
   "cell_type": "markdown",
   "metadata": {
    "id": "kVCuIkKLfmCI"
   },
   "source": [
    "\n",
    "[Sensibilidad y Especificidad](https://es.wikipedia.org/wiki/Sensibilidad_y_especificidad)\n",
    "\n",
    "\n",
    "*Sensiblidad*:  capacidad de la prueba para detectar un sujeto enfermo, en otras palabras, ¿Cual es la probabilidad de que el resultado sea postivo?.\n",
    "\n",
    "Probabilidad de que la prueba indentifique como enfermo aquel que realmente esta:\n",
    "\n",
    "$S = \\frac{Verdadedor Positivos}{Total Enfermos}=\\frac{VP}{VP+FN}$\n",
    "\n",
    "\n",
    "*Especificidad*: Indentifiar como sanos a los que realmente lo son.\n",
    "\n",
    "$E = \\frac{Verdadedor Negativos}{Total  de NO Enfermos}=\\frac{VN}{VN+FP}$\n",
    "\n",
    "\n"
   ]
  },
  {
   "cell_type": "code",
   "execution_count": 1,
   "metadata": {
    "id": "whVVU_Rcorup"
   },
   "outputs": [],
   "source": [
    "import sklearn\n",
    "import numpy as np\n",
    "import pandas as pd\n",
    "import matplotlib.pylab as plt\n",
    "import seaborn as sns\n",
    "from scipy import stats\n",
    "from scipy import optimize\n",
    "from scipy.stats import norm"
   ]
  },
  {
   "cell_type": "code",
   "execution_count": 2,
   "metadata": {
    "id": "MOWbDsHUqVQU"
   },
   "outputs": [],
   "source": [
    "def pdf(x, mean1 = 10, mean2=16, desv1=2, desv2=2):\n",
    "  fig, ax = plt.subplots(1, 1)\n",
    "  \n",
    "  f1 = stats.norm(loc = mean1, scale = desv1)\n",
    "  f2 = stats.norm(loc = mean2, scale = desv2)\n",
    "  ax.plot(x, f1.pdf(x),'g-', lw = 3, alpha = 0.6, label='pdf 1')\n",
    "  ax.plot(x, f2.pdf(x),'b-', lw = 3, alpha = 0.6, label='pdf 2')  \n",
    "  ax.set_xlabel(\"x\")\n",
    "  ax.set_ylabel(\"PDF(X)\")\n",
    "  return \"Done\", f1, f2"
   ]
  },
  {
   "cell_type": "code",
   "execution_count": 3,
   "metadata": {
    "colab": {
     "base_uri": "https://localhost:8080/",
     "height": 297
    },
    "id": "9jpWKgaGqVly",
    "outputId": "5af772d0-757f-4ee3-fe76-0b57ccc12fde"
   },
   "outputs": [
    {
     "data": {
      "text/plain": [
       "<matplotlib.legend.Legend at 0x7f43344e0a90>"
      ]
     },
     "execution_count": 3,
     "metadata": {},
     "output_type": "execute_result"
    },
    {
     "data": {
      "image/png": "[encoded data removed]",
      "text/plain": [
       "<Figure size 432x288 with 1 Axes>"
      ]
     },
     "metadata": {
      "needs_background": "light"
     },
     "output_type": "display_data"
    }
   ],
   "source": [
    "x=np.linspace(5, 30,100)\n",
    "_, f1, f2 = pdf(x, mean1 = 12, mean2 = 15, desv1 = 1, desv2 = 1)\n",
    "plt.legend()"
   ]
  },
  {
   "cell_type": "code",
   "execution_count": 4,
   "metadata": {
    "id": "hNRVuXBKtNqQ"
   },
   "outputs": [],
   "source": [
    "random_1 = f1.rvs(1000)\n",
    "random_2 = f2.rvs(1000)\n"
   ]
  },
  {
   "cell_type": "code",
   "execution_count": 5,
   "metadata": {
    "colab": {
     "base_uri": "https://localhost:8080/",
     "height": 269
    },
    "id": "sOlv_ejdqXSW",
    "outputId": "6071318b-4874-4d9e-aa23-42f4727b63f3"
   },
   "outputs": [
    {
     "data": {
      "image/png": "[encoded data removed]",
      "text/plain": [
       "<Figure size 432x288 with 1 Axes>"
      ]
     },
     "metadata": {
      "needs_background": "light"
     },
     "output_type": "display_data"
    }
   ],
   "source": [
    "boundary = 10\n",
    "plt.figure()\n",
    "plt.hist(random_1, density=True, label=\"Sanos\")\n",
    "#plt.plot(x, f1.pdf(x))\n",
    "plt.hist(random_2, density=True, label=\"Enfermos\")\n",
    "plt.vlines(boundary, 0, 1, alpha=0.8)\n",
    "#plt.plot(x, f2.pdf(x))\n",
    "plt.ylim(0,0.45)\n",
    "plt.legend()\n",
    "plt.show()"
   ]
  },
  {
   "cell_type": "markdown",
   "metadata": {
    "id": "hrLBR8gdscVl"
   },
   "source": [
    "Especificidad:\n",
    "Probabilidad de indentifiar como sanos a los que realmente lo son.\n",
    "\n",
    "\n",
    "$E = \\frac{VN}{VN+FP}$"
   ]
  },
  {
   "cell_type": "code",
   "execution_count": 6,
   "metadata": {
    "colab": {
     "base_uri": "https://localhost:8080/"
    },
    "id": "xSJQVm3nqfpG",
    "outputId": "b6148713-5ca2-414b-b645-2162d2863e60"
   },
   "outputs": [
    {
     "data": {
      "text/plain": [
       "0.021"
      ]
     },
     "execution_count": 6,
     "metadata": {},
     "output_type": "execute_result"
    }
   ],
   "source": [
    "VN = (random_1<boundary).sum()\n",
    "FP = (random_1>boundary).sum()\n",
    "E = VN/(VN+FP)\n",
    "E"
   ]
  },
  {
   "cell_type": "markdown",
   "metadata": {
    "id": "lGIHrSQ2swl3"
   },
   "source": [
    "Sensibilidad\n",
    "\n",
    "Probabilidad de que la prueba indentifique como enfermo aquel que realmente esta\n",
    "\n",
    "$S = \\frac{VP}{VP+FN}$"
   ]
  },
  {
   "cell_type": "code",
   "execution_count": 7,
   "metadata": {
    "colab": {
     "base_uri": "https://localhost:8080/"
    },
    "id": "sIBW0ZyYrCLB",
    "outputId": "b7173aa3-3d25-4d3f-b8e4-e3c8f9a21b9b"
   },
   "outputs": [
    {
     "data": {
      "text/plain": [
       "1.0"
      ]
     },
     "execution_count": 7,
     "metadata": {},
     "output_type": "execute_result"
    }
   ],
   "source": [
    "VP = (random_2>boundary).sum()\n",
    "FN = (random_2<boundary).sum()\n",
    "S = VP/(VP+FN)\n",
    "S"
   ]
  },
  {
   "cell_type": "markdown",
   "metadata": {
    "id": "k-tH-T_PD_EZ"
   },
   "source": [
    "Para diferentes fronteras como es la sensiblidad como funcion de la especificidad 1-E. \n",
    "Curvas Roc https://es.wikipedia.org/wiki/Curva_ROC"
   ]
  },
  {
   "cell_type": "code",
   "execution_count": 8,
   "metadata": {
    "id": "4piyDE6nsGHt"
   },
   "outputs": [],
   "source": [
    "boundary_=np.linspace(2,20,100)\n",
    "E_=[]\n",
    "S_=[]\n",
    "for b in boundary_:\n",
    "  VN = (random_1<b).sum()\n",
    "  FP = (random_1>b).sum()\n",
    "  E = VN/(VN+FP)\n",
    "  E_.append(E)\n",
    "\n",
    "  VP = (random_2>b).sum()\n",
    "  FN = (random_2<b).sum()\n",
    "  S = VP/(VP+FN)  \n",
    "  S_.append(S)"
   ]
  },
  {
   "cell_type": "code",
   "execution_count": 9,
   "metadata": {
    "colab": {
     "base_uri": "https://localhost:8080/",
     "height": 297
    },
    "id": "MohRxn_IuF6r",
    "outputId": "394f2213-94b8-47a5-e7fd-f6ec0863cb30"
   },
   "outputs": [
    {
     "data": {
      "text/plain": [
       "Text(0, 0.5, 'S')"
      ]
     },
     "execution_count": 9,
     "metadata": {},
     "output_type": "execute_result"
    },
    {
     "data": {
      "image/png": "[encoded data removed]",
      "text/plain": [
       "<Figure size 432x288 with 1 Axes>"
      ]
     },
     "metadata": {
      "needs_background": "light"
     },
     "output_type": "display_data"
    }
   ],
   "source": [
    "plt.plot( (1-np.array(E_)), np.array(S_),\"ro\")\n",
    "plt.xlabel(\"1-E\")\n",
    "plt.ylabel(\"S\")"
   ]
  },
  {
   "cell_type": "code",
   "execution_count": 22,
   "metadata": {
    "colab": {
     "base_uri": "https://localhost:8080/"
    },
    "id": "EeA2yCEaEhNQ",
    "outputId": "44b4c97b-0df7-482c-918c-5fcb0f906004"
   },
   "outputs": [
    {
     "data": {
      "text/plain": [
       "array([1.   , 1.   , 1.   , 1.   , 1.   , 1.   , 1.   , 1.   , 1.   ,\n",
       "       1.   , 1.   , 1.   , 1.   , 1.   , 1.   , 1.   , 1.   , 1.   ,\n",
       "       1.   , 1.   , 1.   , 1.   , 1.   , 1.   , 1.   , 1.   , 1.   ,\n",
       "       1.   , 1.   , 1.   , 1.   , 1.   , 1.   , 0.999, 0.999, 0.999,\n",
       "       0.998, 0.998, 0.998, 0.997, 0.995, 0.994, 0.989, 0.984, 0.974,\n",
       "       0.962, 0.942, 0.925, 0.902, 0.863, 0.823, 0.763, 0.707, 0.651,\n",
       "       0.581, 0.509, 0.435, 0.371, 0.303, 0.236, 0.185, 0.135, 0.102,\n",
       "       0.072, 0.051, 0.036, 0.025, 0.019, 0.01 , 0.004, 0.002, 0.002,\n",
       "       0.001, 0.   , 0.   , 0.   , 0.   , 0.   , 0.   , 0.   , 0.   ,\n",
       "       0.   , 0.   , 0.   , 0.   , 0.   , 0.   , 0.   , 0.   , 0.   ,\n",
       "       0.   , 0.   , 0.   , 0.   , 0.   , 0.   , 0.   , 0.   , 0.   ,\n",
       "       0.   ])"
      ]
     },
     "execution_count": 22,
     "metadata": {},
     "output_type": "execute_result"
    }
   ],
   "source": [
    "      ¿¡(1-np.array(E_))"
   ]
  },
  {
   "cell_type": "code",
   "execution_count": null,
   "metadata": {
    "id": "xgvjoV8kuJrr"
   },
   "outputs": [],
   "source": [
    "#¿Que pasa si las distribuciones estan muy juntas?"
   ]
  }
 ],
 "metadata": {
  "colab": {
   "name": "Laboratorio_10_EspecificidadSensibilidadROC.ipynb",
   "provenance": []
  },
  "kernelspec": {
   "display_name": "Python 3",
   "language": "python",
   "name": "python3"
  },
  "language_info": {
   "codemirror_mode": {
    "name": "ipython",
    "version": 3
   },
   "file_extension": ".py",
   "mimetype": "text/x-python",
   "name": "python",
   "nbconvert_exporter": "python",
   "pygments_lexer": "ipython3",
   "version": "3.8.10"
  }
 },
 "nbformat": 4,
 "nbformat_minor": 1
}
