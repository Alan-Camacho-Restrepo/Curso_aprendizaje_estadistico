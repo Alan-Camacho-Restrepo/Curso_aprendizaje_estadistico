{
 "cells": [
  {
   "cell_type": "markdown",
   "metadata": {
    "id": "BuGPbfFoAeSY"
   },
   "source": [
    "# Laboratorio 02: \n",
    "\n",
    "### Intuición estadística modelos de *machine learning*\n",
    "\n",
    "1. Generar dos distribuciones de probabilidad centradas en 5.0,  7.5 con desviación estandar de 2.5 y 1.5 respectivamente. Realizar un gráfico de ambas distribuciones de probabilidad. \n",
    "\n",
    "  a). Emplear el objeto [stats.norm](https://docs.scipy.org/doc/scipy/reference/generated/scipy.stats.norm.html) y el metodo *Probability density function* (pdf)\n",
    "\n",
    "  b) Realizar un gráfico de ambas distribuciones\n",
    "\n",
    "2.  ¿Qué frontera analítica puede separar los datos?. Determine una expresión analítica en este caso. \n",
    "\n",
    "\n",
    "### Modelo de *machine learning*\n",
    "\n",
    "3. Empleando el metodo *Random variates*(rvs), genere 100 muestas aleatorias para cada distribución, estos seran los datos de entrenamiento\n",
    "\n",
    "4. Realice un gráfico en el que pueda superponer ambas distribuciones, estas 200 muestas serán las caracteristicas (*features*) de nuestro data frame, para cada característica tendremos una etiqueta(*labels*) correspondiente a  0 ó 1. \n",
    "\n",
    "\n",
    "\n",
    "5. Con los datos anteriores construya un DataFrame con los *features* y *labels* de la siguiente forma:\n",
    "\n",
    "\n",
    " |Y(*labels*)         | X_1(*feature*)       |\n",
    " |----------|----------|\n",
    " |$Y^{1}$ | $X_1^{1}$|\n",
    " |$Y^{2}$ | $X_1^{2}$|\n",
    " |.         | .        |\n",
    " |.         | .        |\n",
    " |.         | .        |\n",
    " |$Y^{m}$ | $X_1^{m}$  |\n",
    "\n",
    "- Se sugiere emplear las claves Y, X para los labels y features respectivamente.\n",
    "- $Y^{1},Y^{2}... Y^{m} $ son los  label de entrenamiento.\n",
    "- $X_1^{1},X_1^{2}... X_1^{m} $ es el conjunto de datos de entrenamiento asociado a la característica 1 en el entrenamiento m. \n",
    "- Este dataframe será el dataset de entrenamiento, para los datos de test construiremos 50 variables aleatorias. \n",
    "\n",
    "\n",
    "\n",
    "6. Construye un segundo data frame con 50 datos de test, asociados a las   muestras de  las dos distribuciones, estos serán los datos de test empleados para validar los algoritmos de clasificación df_test con claves  Y, X_1.\n",
    "\n",
    "### Modelo de machining learning \n",
    "7. Por ahora, emplearemos  clasificadores bajo un modelo de caja negra. La forma para implementar el modelo es la siguiente:\n",
    "  - Definir el modelo y realizar el fit:\n",
    "  ```\n",
    "    clf = LinearRegression()\n",
    "    clf.fit(X_train, Y_train)\n",
    "  ```\n",
    "  - Determinar el score de los datos de entrenamiento \n",
    " \n",
    "  ```\n",
    "  score = clf.score(X_train, Y_train)\n",
    "  ```\n",
    "  - Determinar el score para los datos de test, ¿que puede concluir mirando los scores?\n",
    "\n",
    "  Nota: \n",
    "  Emplear los siguientes clasificadores de machine learning y determinar los score para cada modelo. \n",
    "  \n",
    "  ```\n",
    "    - DecisionTreeClassifier(max_depth=3),\n",
    "    - SVC(kernel=\"linear\", C=0.025)\n",
    "  ```\n",
    "\n",
    "8. Existen librerias que pueden optmizar los hyperparametros de cualquier modelo:   [GridSearchCV](https://scikit-learn.org/stable/modules/generated/sklearn.model_selection.GridSearchCV.html) prueba a implementar las siguientes lineas de código con el siguiente modelo:\n",
    "\n",
    "```\n",
    "from sklearn.model_selection import GridSearchCV\n",
    "\n",
    "  param_grid = { \n",
    "    'n_estimators': [200, 500],\n",
    "    'max_features': ['auto', 'sqrt', 'log2'],\n",
    "    'max_depth' : [4,5,6,7,8],\n",
    "    'criterion' :['gini', 'entropy']\n",
    "}\n",
    "\n",
    "  CV_rfc = GridSearchCV(estimator=rfc, param_grid=param_grid, cv= 5)\n",
    "  CV_rfc.fit(x_train, y_train)\n",
    "```\n",
    "\n",
    "9. En los algoritmos de *machining learning* es de suma importancia conocer las curvas de aprendizaje para decidir si el algoritmo funciona de manera optima, emplea las siguiente lineas de código para mostrar las curvas de aprendizaje de la regresion lineal. \n",
    "\n",
    "```\n",
    "title = \"Learning Curves (RandomForestRegressor)\"\n",
    "plot_learning_curve(\n",
    "    regr, title, Xtr_, ytr_,  ylim=(0.8, 1.01),  n_jobs=4\n",
    ")\n",
    "```\n",
    "\n",
    "\n",
    "10. Pruea a construir curvas de aprendizaje para los siguientes valores en las distribuciones(emplea una regresion lineal):\n",
    "  - Datos de entrenamiento 30. media1=7.5, media2=10, desv1=1, desv1=1\n",
    "  - Datos de entrenamiento 100. media1=7.5, media2=10, desv1=1, desv1=1\n",
    "  - Datos de entrenamiento 200. media1=7.5, media2=7.0, desv1 = 2, desv1 = 2  \n",
    "  - Datos de entrenamiento 200. media1=7.5, media2=7.0, desv1 = 0.5, desv1 = 0.5  \n",
    "  -¿Qué puede concluir? de cada prueba.\n",
    "\n",
    "\n",
    "Nota: Busca siempre la manera de construir tus codigos de forma estructurada  de tal forma que puedar variar parametros con facilidad.\n",
    "\n",
    "\n"
   ]
  },
  {
   "cell_type": "code",
   "execution_count": 17,
   "metadata": {
    "executionInfo": {
     "elapsed": 2,
     "status": "ok",
     "timestamp": 1655224270063,
     "user": {
      "displayName": "HERNAN DAVID SALINAS JIMENEZ",
      "userId": "00408651407692255291"
     },
     "user_tz": 300
    },
    "id": "llRyfgPzAi08"
   },
   "outputs": [],
   "source": [
    "import sklearn \n",
    "from sklearn.linear_model import LinearRegression\n",
    "from sklearn.tree import DecisionTreeClassifier\n",
    "from sklearn.svm import SVC\n",
    "from sklearn.model_selection import GridSearchCV\n",
    "from sklearn.ensemble import RandomForestClassifier\n",
    "from sklearn.model_selection import learning_curve\n",
    "from sklearn.model_selection import learning_curve\n",
    "\n",
    "import numpy as np\n",
    "import pandas as pd\n",
    "import matplotlib.pylab as plt\n",
    "import seaborn as sns\n",
    "from scipy import stats\n",
    "from scipy import optimize\n",
    "from scipy.stats import norm\n"
   ]
  },
  {
   "cell_type": "code",
   "execution_count": 3,
   "metadata": {
    "executionInfo": {
     "elapsed": 239,
     "status": "ok",
     "timestamp": 1655224333666,
     "user": {
      "displayName": "HERNAN DAVID SALINAS JIMENEZ",
      "userId": "00408651407692255291"
     },
     "user_tz": 300
    },
    "id": "3vZ_1jc-DC-t"
   },
   "outputs": [],
   "source": [
    "# 1. Construir dos distribuciones \n",
    "x = np.linspace(-5, 15,1000)\n",
    "mean1 = 5\n",
    "mean2=10\n",
    "desv1 = 2.5\n",
    "desv2=1.5\n",
    "f1 = stats.norm(loc = mean1, scale = desv1)\n",
    "f2=stats.norm(loc=mean2, scale=desv2)\n"
   ]
  },
  {
   "cell_type": "code",
   "execution_count": 4,
   "metadata": {
    "colab": {
     "base_uri": "https://localhost:8080/",
     "height": 286
    },
    "executionInfo": {
     "elapsed": 371,
     "status": "ok",
     "timestamp": 1655224335058,
     "user": {
      "displayName": "HERNAN DAVID SALINAS JIMENEZ",
      "userId": "00408651407692255291"
     },
     "user_tz": 300
    },
    "id": "19MODM8EDq7H",
    "outputId": "7ada3115-f03f-4aa2-ba97-7bb038e48e86"
   },
   "outputs": [
    {
     "data": {
      "text/plain": [
       "[<matplotlib.lines.Line2D at 0x7f814f28a0a0>]"
      ]
     },
     "execution_count": 4,
     "metadata": {},
     "output_type": "execute_result"
    },
    {
     "data": {
      "image/png": "[encoded data removed]",
      "text/plain": [
       "<Figure size 432x288 with 1 Axes>"
      ]
     },
     "metadata": {
      "needs_background": "light"
     },
     "output_type": "display_data"
    }
   ],
   "source": [
    "plt.plot(x,f1.pdf(x))\n",
    "plt.plot(x,f2.pdf(x))\n"
   ]
  },
  {
   "cell_type": "code",
   "execution_count": 5,
   "metadata": {
    "id": "yj9mDtafDtsM"
   },
   "outputs": [
    {
     "data": {
      "image/png": "[encoded data removed]",
      "text/plain": [
       "<Figure size 432x288 with 1 Axes>"
      ]
     },
     "metadata": {
      "needs_background": "light"
     },
     "output_type": "display_data"
    }
   ],
   "source": [
    "m=100\n",
    "n=25\n",
    "random_1 = f1.rvs(m)\n",
    "random_2 = f2.rvs(m)\n",
    "test_1=f1.rvs(n)\n",
    "test_2=f2.rvs(n)\n",
    "\n",
    "plt.figure()\n",
    "plt.hist(random_1, density=True)\n",
    "plt.plot(x, f1.pdf(x))\n",
    "plt.hist(random_2, density=True)\n",
    "plt.plot(x, f2.pdf(x))\n",
    "plt.show()"
   ]
  },
  {
   "cell_type": "code",
   "execution_count": 6,
   "metadata": {},
   "outputs": [],
   "source": [
    "X=np.zeros(2*m)\n",
    "Y=np.zeros(2*m)\n",
    "\n",
    "X_test=np.zeros(2*n)\n",
    "Y_test=np.zeros(2*n)\n",
    "\n",
    "X[0:m]=random_1\n",
    "X[m:2*m]=random_2\n",
    "X_test[0:n]=test_1\n",
    "X_test[n:2*n]=test_2\n",
    "\n",
    "Y[0:m]=np.zeros(m)\n",
    "Y[m:2*m]=np.ones(m)\n",
    "Y_test[0:n]=np.zeros(n)\n",
    "Y_test[n:2*n]=np.ones(n)\n"
   ]
  },
  {
   "cell_type": "code",
   "execution_count": 7,
   "metadata": {},
   "outputs": [],
   "source": [
    "data_muestra=np.array([X,Y]).T\n",
    "data_test=np.array([X_test,Y_test]).T\n",
    "columns_muestra=['X', 'Y']\n",
    "columns_test=['X_test', 'Y_test']\n",
    "\n",
    "df_muestra=pd.DataFrame(data=data_muestra, columns=columns_muestra)\n",
    "df_test=pd.DataFrame(data=data_test, columns=columns_test)"
   ]
  },
  {
   "cell_type": "code",
   "execution_count": 8,
   "metadata": {},
   "outputs": [
    {
     "name": "stdout",
     "output_type": "stream",
     "text": [
      "0.6302796883139946\n"
     ]
    }
   ],
   "source": [
    "clf=LinearRegression()\n",
    "clf.fit(X.reshape(2*m,1), Y.reshape(2*m,1))\n",
    "score = clf.score(X.reshape(2*m,1), Y.reshape(2*m,1))\n",
    "print(score)"
   ]
  },
  {
   "cell_type": "code",
   "execution_count": 9,
   "metadata": {},
   "outputs": [
    {
     "name": "stdout",
     "output_type": "stream",
     "text": [
      "0.6051902780448049\n"
     ]
    }
   ],
   "source": [
    "clf_test=LinearRegression()\n",
    "clf_test.fit(X_test.reshape(2*n,1), Y_test.reshape(2*n,1))\n",
    "score_test = clf_test.score(X_test.reshape(2*n,1), Y_test.reshape(2*n,1))\n",
    "print(score_test)"
   ]
  },
  {
   "cell_type": "code",
   "execution_count": 10,
   "metadata": {},
   "outputs": [
    {
     "name": "stdout",
     "output_type": "stream",
     "text": [
      "0.94\n"
     ]
    }
   ],
   "source": [
    "Treeclf=DecisionTreeClassifier(max_depth=3)\n",
    "Treeclf.fit(X.reshape(2*m,1), Y.reshape(2*m,1))\n",
    "scoreTree= Treeclf.score(X.reshape(2*m,1), Y.reshape(2*m,1))\n",
    "print(scoreTree)"
   ]
  },
  {
   "cell_type": "code",
   "execution_count": 11,
   "metadata": {},
   "outputs": [
    {
     "name": "stdout",
     "output_type": "stream",
     "text": [
      "0.96\n"
     ]
    }
   ],
   "source": [
    "Treeclf_test=DecisionTreeClassifier(max_depth=3)\n",
    "Treeclf_test.fit(X_test.reshape(2*n,1), Y_test.reshape(2*n,1))\n",
    "scoreTree_test= Treeclf_test.score(X_test.reshape(2*n,1), Y_test.reshape(2*n,1))\n",
    "print(scoreTree_test)"
   ]
  },
  {
   "cell_type": "code",
   "execution_count": 12,
   "metadata": {},
   "outputs": [
    {
     "name": "stdout",
     "output_type": "stream",
     "text": [
      "0.91\n"
     ]
    },
    {
     "name": "stderr",
     "output_type": "stream",
     "text": [
      "/home/samuel/.local/lib/python3.8/site-packages/sklearn/utils/validation.py:63: DataConversionWarning: A column-vector y was passed when a 1d array was expected. Please change the shape of y to (n_samples, ), for example using ravel().\n",
      "  return f(*args, **kwargs)\n"
     ]
    }
   ],
   "source": [
    "svcclf=SVC(kernel=\"linear\", C=0.025)\n",
    "svcclf.fit(X.reshape(2*m,1), Y.reshape(2*m,1))\n",
    "scoresvc= svcclf.score(X.reshape(2*m,1), Y.reshape(2*m,1))\n",
    "print(scoresvc)"
   ]
  },
  {
   "cell_type": "code",
   "execution_count": 13,
   "metadata": {},
   "outputs": [
    {
     "name": "stdout",
     "output_type": "stream",
     "text": [
      "0.92\n"
     ]
    },
    {
     "name": "stderr",
     "output_type": "stream",
     "text": [
      "/home/samuel/.local/lib/python3.8/site-packages/sklearn/utils/validation.py:63: DataConversionWarning: A column-vector y was passed when a 1d array was expected. Please change the shape of y to (n_samples, ), for example using ravel().\n",
      "  return f(*args, **kwargs)\n"
     ]
    }
   ],
   "source": [
    "svcclf_test=SVC(kernel=\"linear\", C=0.025)\n",
    "svcclf_test.fit(X_test.reshape(2*n,1), Y_test.reshape(2*n,1))\n",
    "scoresvc_test= svcclf_test.score(X_test.reshape(2*n,1), Y_test.reshape(2*n,1))\n",
    "print(scoresvc_test)"
   ]
  },
  {
   "cell_type": "code",
   "execution_count": 14,
   "metadata": {},
   "outputs": [
    {
     "data": {
      "text/plain": [
       "GridSearchCV(cv=5, estimator=RandomForestClassifier(),\n",
       "             param_grid={'criterion': ['gini', 'entropy'],\n",
       "                         'max_depth': [4, 5, 6, 7, 8],\n",
       "                         'max_features': ['auto', 'sqrt', 'log2'],\n",
       "                         'n_estimators': [200, 500]})"
      ]
     },
     "execution_count": 14,
     "metadata": {},
     "output_type": "execute_result"
    }
   ],
   "source": [
    "param_grid = { \n",
    "'n_estimators': [200, 500],\n",
    "'max_features': ['auto', 'sqrt', 'log2'],\n",
    "'max_depth' : [4,5,6,7,8],\n",
    "'criterion' :['gini', 'entropy']\n",
    "}\n",
    "\n",
    "CV_rfc = GridSearchCV(estimator=RandomForestClassifier(), param_grid=param_grid, cv= 5)\n",
    "CV_rfc.fit(X.reshape(2*m,1),Y.reshape(2*m,))"
   ]
  },
  {
   "cell_type": "code",
   "execution_count": 16,
   "metadata": {},
   "outputs": [],
   "source": [
    "def plot_learning_curve(\n",
    "    estimator,\n",
    "    title,\n",
    "    X,\n",
    "    y,\n",
    "    axes=None,\n",
    "    ylim=None,\n",
    "    cv=None,\n",
    "    n_jobs=None,\n",
    "    train_sizes=np.linspace(0.1, 1.0, 5),\n",
    "):\n",
    "    \"\"\"\n",
    "    Generate 3 plots: the test and training learning curve, the training\n",
    "    samples vs fit times curve, the fit times vs score curve.\n",
    "\n",
    "    Parameters\n",
    "    ----------\n",
    "    estimator : estimator instance\n",
    "        An estimator instance implementing `fit` and `predict` methods which\n",
    "        will be cloned for each validation.\n",
    "\n",
    "    title : str\n",
    "        Title for the chart.\n",
    "\n",
    "    X : array-like of shape (n_samples, n_features)\n",
    "        Training vector, where ``n_samples`` is the number of samples and\n",
    "        ``n_features`` is the number of features.\n",
    "\n",
    "    y : array-like of shape (n_samples) or (n_samples, n_features)\n",
    "        Target relative to ``X`` for classification or regression;\n",
    "        None for unsupervised learning.\n",
    "\n",
    "    axes : array-like of shape (3,), default=None\n",
    "        Axes to use for plotting the curves.\n",
    "\n",
    "    ylim : tuple of shape (2,), default=None\n",
    "        Defines minimum and maximum y-values plotted, e.g. (ymin, ymax).\n",
    "\n",
    "    cv : int, cross-validation generator or an iterable, default=None\n",
    "        Determines the cross-validation splitting strategy.\n",
    "        Possible inputs for cv are:\n",
    "\n",
    "          - None, to use the default 5-fold cross-validation,\n",
    "          - integer, to specify the number of folds.\n",
    "          - :term:`CV splitter`,\n",
    "          - An iterable yielding (train, test) splits as arrays of indices.\n",
    "\n",
    "        For integer/None inputs, if ``y`` is binary or multiclass,\n",
    "        :class:`StratifiedKFold` used. If the estimator is not a classifier\n",
    "        or if ``y`` is neither binary nor multiclass, :class:`KFold` is used.\n",
    "\n",
    "        Refer :ref:`User Guide <cross_validation>` for the various\n",
    "        cross-validators that can be used here.\n",
    "\n",
    "    n_jobs : int or None, default=None\n",
    "        Number of jobs to run in parallel.\n",
    "        ``None`` means 1 unless in a :obj:`joblib.parallel_backend` context.\n",
    "        ``-1`` means using all processors. See :term:`Glossary <n_jobs>`\n",
    "        for more details.\n",
    "\n",
    "    train_sizes : array-like of shape (n_ticks,)\n",
    "        Relative or absolute numbers of training examples that will be used to\n",
    "        generate the learning curve. If the ``dtype`` is float, it is regarded\n",
    "        as a fraction of the maximum size of the training set (that is\n",
    "        determined by the selected validation method), i.e. it has to be within\n",
    "        (0, 1]. Otherwise it is interpreted as absolute sizes of the training\n",
    "        sets. Note that for classification the number of samples usually have\n",
    "        to be big enough to contain at least one sample from each class.\n",
    "        (default: np.linspace(0.1, 1.0, 5))\n",
    "    \"\"\"\n",
    "    if axes is None:\n",
    "        _, axes = plt.subplots(1, 3, figsize=(20, 5))\n",
    "\n",
    "    axes[0].set_title(title)\n",
    "    if ylim is not None:\n",
    "        axes[0].set_ylim(*ylim)\n",
    "    axes[0].set_xlabel(\"Training examples\")\n",
    "    axes[0].set_ylabel(\"Score\")\n",
    "\n",
    "    train_sizes, train_scores, test_scores, fit_times, _ = learning_curve(\n",
    "        estimator,\n",
    "        X,\n",
    "        y,\n",
    "        cv=cv,\n",
    "        n_jobs=n_jobs,\n",
    "        train_sizes=train_sizes,\n",
    "        return_times=True,\n",
    "    )\n",
    "    train_scores_mean = np.mean(train_scores, axis=1)\n",
    "    train_scores_std = np.std(train_scores, axis=1)\n",
    "    test_scores_mean = np.mean(test_scores, axis=1)\n",
    "    test_scores_std = np.std(test_scores, axis=1)\n",
    "    fit_times_mean = np.mean(fit_times, axis=1)\n",
    "    fit_times_std = np.std(fit_times, axis=1)\n",
    "\n",
    "    # Plot learning curve\n",
    "    axes[0].grid()\n",
    "    axes[0].fill_between(\n",
    "        train_sizes,\n",
    "        train_scores_mean - train_scores_std,\n",
    "        train_scores_mean + train_scores_std,\n",
    "        alpha=0.1,\n",
    "        color=\"r\",\n",
    "    )\n",
    "    axes[0].fill_between(\n",
    "        train_sizes,\n",
    "        test_scores_mean - test_scores_std,\n",
    "        test_scores_mean + test_scores_std,\n",
    "        alpha=0.1,\n",
    "        color=\"g\",\n",
    "    )\n",
    "    axes[0].plot(\n",
    "        train_sizes, train_scores_mean, \"o-\", color=\"r\", label=\"Training score\"\n",
    "    )\n",
    "    axes[0].plot(\n",
    "        train_sizes, test_scores_mean, \"o-\", color=\"g\", label=\"Cross-validation score\"\n",
    "    )\n",
    "    axes[0].legend(loc=\"best\")\n",
    "\n",
    "    # Plot n_samples vs fit_times\n",
    "    axes[1].grid()\n",
    "    axes[1].plot(train_sizes, fit_times_mean, \"o-\")\n",
    "    axes[1].fill_between(\n",
    "        train_sizes,\n",
    "        fit_times_mean - fit_times_std,\n",
    "        fit_times_mean + fit_times_std,\n",
    "        alpha=0.1,\n",
    "    )\n",
    "    axes[1].set_xlabel(\"Training examples\")\n",
    "    axes[1].set_ylabel(\"fit_times\")\n",
    "    axes[1].set_title(\"Scalability of the model\")\n",
    "\n",
    "    # Plot fit_time vs score\n",
    "    fit_time_argsort = fit_times_mean.argsort()\n",
    "    fit_time_sorted = fit_times_mean[fit_time_argsort]\n",
    "    test_scores_mean_sorted = test_scores_mean[fit_time_argsort]\n",
    "    test_scores_std_sorted = test_scores_std[fit_time_argsort]\n",
    "    axes[2].grid()\n",
    "    axes[2].plot(fit_time_sorted, test_scores_mean_sorted, \"o-\")\n",
    "    axes[2].fill_between(\n",
    "        fit_time_sorted,\n",
    "        test_scores_mean_sorted - test_scores_std_sorted,\n",
    "        test_scores_mean_sorted + test_scores_std_sorted,\n",
    "        alpha=0.1,\n",
    "    )\n",
    "    axes[2].set_xlabel(\"fit_times\")\n",
    "    axes[2].set_ylabel(\"Score\")\n",
    "    axes[2].set_title(\"Performance of the model\")\n",
    "\n",
    "    return plt"
   ]
  },
  {
   "cell_type": "code",
   "execution_count": 24,
   "metadata": {},
   "outputs": [
    {
     "data": {
      "text/plain": [
       "<module 'matplotlib.pylab' from '/home/samuel/.local/lib/python3.8/site-packages/matplotlib/pylab.py'>"
      ]
     },
     "execution_count": 24,
     "metadata": {},
     "output_type": "execute_result"
    },
    {
     "data": {
      "image/png": "[encoded data removed]",
      "text/plain": [
       "<Figure size 1440x360 with 3 Axes>"
      ]
     },
     "metadata": {
      "needs_background": "light"
     },
     "output_type": "display_data"
    }
   ],
   "source": [
    "title = \"Learning Curves (RandomForestRegressor)\"\n",
    "plot_learning_curve(\n",
    "   LinearRegression(), title, X, Y,  ylim=(0, 1.01),  n_jobs=4\n",
    ")\n",
    "\n"
   ]
  },
  {
   "cell_type": "code",
   "execution_count": null,
   "metadata": {},
   "outputs": [],
   "source": []
  }
 ],
 "metadata": {
  "colab": {
   "authorship_tag": "ABX9TyNY75uiUnf/nvqzLm9dYRE4",
   "name": "Laboratorio_02.ipynb",
   "provenance": []
  },
  "kernelspec": {
   "display_name": "Python 3",
   "language": "python",
   "name": "python3"
  },
  "language_info": {
   "codemirror_mode": {
    "name": "ipython",
    "version": 3
   },
   "file_extension": ".py",
   "mimetype": "text/x-python",
   "name": "python",
   "nbconvert_exporter": "python",
   "pygments_lexer": "ipython3",
   "version": "3.8.10"
  }
 },
 "nbformat": 4,
 "nbformat_minor": 1
}
