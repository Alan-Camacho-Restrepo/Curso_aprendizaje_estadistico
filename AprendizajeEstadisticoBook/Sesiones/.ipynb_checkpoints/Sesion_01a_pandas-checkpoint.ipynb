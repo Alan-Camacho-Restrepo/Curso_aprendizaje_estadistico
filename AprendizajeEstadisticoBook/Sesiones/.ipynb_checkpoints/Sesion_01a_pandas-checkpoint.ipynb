{
 "cells": [
  {
   "cell_type": "markdown",
   "metadata": {
    "id": "PJboKaObx6Pc"
   },
   "source": [
    "\n",
    "<a href=\"https://colab.research.google.com/github/hernansalinas/Curso_aprendizaje_estadistico/blob/main/Sesiones/Sesion_01a_pandas.ipynb\" target=\"_parent\"><img src=\"https://colab.research.google.com/assets/colab-badge.svg\" alt=\"Open In Colab\"/></a>\n"
   ]
  },
  {
   "cell_type": "markdown",
   "metadata": {
    "id": "M_pmPd7FQo3b"
   },
   "source": [
    "# Repaso de python. \n",
    "Objetivo: El objetivo de esta sesion es estudiar conceptos basicos de python necesarios para realizar modelos de maching learning\n",
    "\n",
    "0. Python Básico\n",
    "1. Objetos \n",
    "2. Operación filter, map, reduce \n",
    "3. Pandas,  \n",
    "4. Matplotlib , Sea born\n",
    "5. Aplicaciones\n",
    "\n",
    "\n"
   ]
  },
  {
   "cell_type": "markdown",
   "metadata": {
    "id": "dPiUkstlT--d"
   },
   "source": [
    "## Python Philosophy..\n",
    "\n",
    "https://www.python.org/dev/peps/pep-0020/#abstract\n"
   ]
  },
  {
   "cell_type": "code",
   "execution_count": null,
   "metadata": {
    "colab": {
     "base_uri": "https://localhost:8080/"
    },
    "id": "W9nHy2K0UJLc",
    "outputId": "d1499bc9-2ebd-485c-d99f-6d4050b414e5"
   },
   "outputs": [
    {
     "name": "stdout",
     "output_type": "stream",
     "text": [
      "The Zen of Python, by Tim Peters\n",
      "\n",
      "Beautiful is better than ugly.\n",
      "Explicit is better than implicit.\n",
      "Simple is better than complex.\n",
      "Complex is better than complicated.\n",
      "Flat is better than nested.\n",
      "Sparse is better than dense.\n",
      "Readability counts.\n",
      "Special cases aren't special enough to break the rules.\n",
      "Although practicality beats purity.\n",
      "Errors should never pass silently.\n",
      "Unless explicitly silenced.\n",
      "In the face of ambiguity, refuse the temptation to guess.\n",
      "There should be one-- and preferably only one --obvious way to do it.\n",
      "Although that way may not be obvious at first unless you're Dutch.\n",
      "Now is better than never.\n",
      "Although never is often better than *right* now.\n",
      "If the implementation is hard to explain, it's a bad idea.\n",
      "If the implementation is easy to explain, it may be a good idea.\n",
      "Namespaces are one honking great idea -- let's do more of those!\n"
     ]
    }
   ],
   "source": [
    "import this"
   ]
  },
  {
   "cell_type": "markdown",
   "metadata": {
    "id": "jvEOhIH5Sofa"
   },
   "source": [
    "## funciones, ciclos, condicionales y **list comprenhensions** \n"
   ]
  },
  {
   "cell_type": "code",
   "execution_count": null,
   "metadata": {
    "colab": {
     "base_uri": "https://localhost:8080/"
    },
    "id": "hymnhk7QXWzg",
    "outputId": "7d98360f-4342-4769-f4fe-859034948af3"
   },
   "outputs": [
    {
     "data": {
      "text/plain": [
       "[0, 2, 4, 6, 8]"
      ]
     },
     "execution_count": 17,
     "metadata": {},
     "output_type": "execute_result"
    }
   ],
   "source": [
    "my_list = []\n",
    "for number in range(0, 10):\n",
    "  if number % 2 == 0:\n",
    "    my_list.append(number)\n",
    "my_list"
   ]
  },
  {
   "cell_type": "code",
   "execution_count": null,
   "metadata": {
    "id": "TAnWuG9-XW3A"
   },
   "outputs": [],
   "source": [
    "my_list = [number for number in range(0, 10)  if number %2 ==0]"
   ]
  },
  {
   "cell_type": "code",
   "execution_count": null,
   "metadata": {
    "colab": {
     "base_uri": "https://localhost:8080/"
    },
    "id": "OmXoV4zgYYX5",
    "outputId": "73b812a9-1be6-475f-a774-93cae59a8c0d"
   },
   "outputs": [
    {
     "data": {
      "text/plain": [
       "[0, 2, 4, 6, 8]"
      ]
     },
     "execution_count": 19,
     "metadata": {},
     "output_type": "execute_result"
    }
   ],
   "source": [
    "my_list"
   ]
  },
  {
   "cell_type": "code",
   "execution_count": null,
   "metadata": {
    "id": "paSRrjoRTSqP"
   },
   "outputs": [],
   "source": [
    "def times_tables():\n",
    "    \"\"\"\n",
    "    \n",
    "    Params \n",
    "\n",
    "    output\n",
    "\n",
    "    \"\"\"\n",
    "    lst = []\n",
    "    for i in range(10):\n",
    "        for j in range (10):\n",
    "            lst.append(i*j)\n",
    "    return lst"
   ]
  },
  {
   "cell_type": "code",
   "execution_count": null,
   "metadata": {
    "colab": {
     "base_uri": "https://localhost:8080/"
    },
    "id": "UDO9UDK4VluP",
    "outputId": "ae21a020-be5c-4b53-e46e-bf6c4a71497b"
   },
   "outputs": [
    {
     "data": {
      "text/plain": [
       "True"
      ]
     },
     "execution_count": 21,
     "metadata": {},
     "output_type": "execute_result"
    }
   ],
   "source": [
    "times_tables() == [j*i for i in range(10) for j in range(10)]"
   ]
  },
  {
   "cell_type": "code",
   "execution_count": null,
   "metadata": {
    "id": "GHDKZznlWXiO"
   },
   "outputs": [],
   "source": [
    "def squares_0():\n",
    "  squares = []\n",
    "  for x in range(10):\n",
    "    squares.append(x**2)\n",
    "  return squares\n",
    "\n",
    "\n",
    "# Operation use in big data files\n",
    "def squares_1():\n",
    "  return list(map(lambda x: x**2, range(10)))\n",
    "\n",
    "\n",
    "def squares_2():\n",
    "  return [x**2 for x in range(10)]\n",
    "\n"
   ]
  },
  {
   "cell_type": "code",
   "execution_count": null,
   "metadata": {
    "colab": {
     "base_uri": "https://localhost:8080/"
    },
    "id": "MvyIqqPFF1KV",
    "outputId": "606b2e88-3498-4dd8-c760-923661577fab"
   },
   "outputs": [
    {
     "data": {
      "text/plain": [
       "[0, 1, 4, 9, 16, 25, 36, 49, 64, 81]"
      ]
     },
     "execution_count": 4,
     "metadata": {},
     "output_type": "execute_result"
    }
   ],
   "source": [
    "squares_0()"
   ]
  },
  {
   "cell_type": "code",
   "execution_count": null,
   "metadata": {
    "id": "vLxSzCvKcfBT"
   },
   "outputs": [],
   "source": [
    "import numpy as np\n",
    "import time"
   ]
  },
  {
   "cell_type": "code",
   "execution_count": null,
   "metadata": {
    "id": "TFWeRErjYDkt"
   },
   "outputs": [],
   "source": [
    "times = [] \n",
    "tmax = 100000\n",
    "for i in range(0,tmax):\n",
    "  # Common for\n",
    "  tini0 = time.time()\n",
    "  squares_0()\n",
    "  tend0 = time.time()\n",
    "  # Operation map\n",
    "  tini1 = time.time()\n",
    "  squares_1()\n",
    "  tend1 = time.time()\n",
    "  # Comprhension expresion \n",
    "  tini2 = time.time()\n",
    "  squares_2()\n",
    "  tend2 = time.time()    \n",
    "  times.append([tend0-tini0, tend1-tini1, tend2-tini2] )\n",
    "\n",
    "t=np.array(times)"
   ]
  },
  {
   "cell_type": "code",
   "execution_count": null,
   "metadata": {
    "colab": {
     "base_uri": "https://localhost:8080/"
    },
    "id": "tOkkxfwKWaln",
    "outputId": "1ad34290-d040-42fc-b933-54ad0c34f47d"
   },
   "outputs": [
    {
     "name": "stdout",
     "output_type": "stream",
     "text": [
      "[3.22166204e-06 3.87732267e-06 2.89383888e-06]\n"
     ]
    }
   ],
   "source": [
    "mean = np.mean(t, axis = 0)\n",
    "print(mean)"
   ]
  },
  {
   "cell_type": "markdown",
   "metadata": {
    "id": "_xKkl4MjRu-q"
   },
   "source": [
    "# OBJETOS"
   ]
  },
  {
   "cell_type": "code",
   "execution_count": null,
   "metadata": {
    "id": "35EazM8UQqx8"
   },
   "outputs": [],
   "source": [
    "class auto:\n",
    "  \"\"\"\n",
    "  Esta clase asigna un color y un tipo \n",
    "  a un clase tipo carro\n",
    "  \"\"\"\n",
    "  var = \"taller de carros\"\n",
    "\n",
    "  def set_name_tipo(self, new_tipo):\n",
    "    self.tipo = new_tipo\n",
    "\n",
    "  def set_name_color(self, new_color ):\n",
    "    self.color = new_color\n",
    "\n"
   ]
  },
  {
   "cell_type": "code",
   "execution_count": null,
   "metadata": {
    "colab": {
     "base_uri": "https://localhost:8080/"
    },
    "id": "MYflvQjmRXCh",
    "outputId": "0cd11a04-107e-4bb3-8c80-4946b646904b"
   },
   "outputs": [
    {
     "name": "stdout",
     "output_type": "stream",
     "text": [
      "El carro es rojo y es un  bus  \n"
     ]
    }
   ],
   "source": [
    "carro = auto()\n",
    "carro.set_name_color=\"rojo\"\n",
    "carro.set_name_tipo=\"bus \"\n",
    "print(f\"El carro es {carro.set_name_color} y es un  {carro.set_name_tipo} \" )"
   ]
  },
  {
   "cell_type": "markdown",
   "metadata": {
    "id": "K13ggXVfeeok"
   },
   "source": [
    "# FUNCION LAMBDA\n"
   ]
  },
  {
   "cell_type": "code",
   "execution_count": null,
   "metadata": {
    "id": "9dqLl9g1faLn"
   },
   "outputs": [],
   "source": [
    "f = lambda x: (x+2) "
   ]
  },
  {
   "cell_type": "code",
   "execution_count": null,
   "metadata": {
    "colab": {
     "base_uri": "https://localhost:8080/"
    },
    "id": "bP6zGQrHfeq4",
    "outputId": "b58ca487-0c3b-4797-ad25-a13854ddd5c4"
   },
   "outputs": [
    {
     "data": {
      "text/plain": [
       "4"
      ]
     },
     "execution_count": 75,
     "metadata": {},
     "output_type": "execute_result"
    }
   ],
   "source": [
    "f(2)"
   ]
  },
  {
   "cell_type": "markdown",
   "metadata": {
    "id": "qtzyYhQxeccP"
   },
   "source": [
    "# FUNCION FILTER\n"
   ]
  },
  {
   "cell_type": "markdown",
   "metadata": {
    "id": "u197w84Ke8nw"
   },
   "source": [
    "Filtros avanzados en python a través de programacion funcional\n",
    "\n",
    "Ref = https://docs.hektorprofe.net/python/funcionalidades-avanzadas/funcion-filter/, \n",
    "\n",
    "https://docs.python.org/3/library/functions.html#filter"
   ]
  },
  {
   "cell_type": "code",
   "execution_count": null,
   "metadata": {
    "id": "h1KI0K4VenNb"
   },
   "outputs": [],
   "source": [
    "def multiple(numero):    # Primero declaramos una función condicional\n",
    "    if numero % 5 == 0:  # Comprobamos si un numero es múltiple de cinco\n",
    "        return True      # Sólo devolvemos True si lo es\n",
    "\n",
    "numeros = [2, 5, 10, 23, 50, 33, 5000]\n",
    "a = filter(multiple, numeros)"
   ]
  },
  {
   "cell_type": "code",
   "execution_count": null,
   "metadata": {
    "colab": {
     "base_uri": "https://localhost:8080/"
    },
    "id": "OwbBOobre5sf",
    "outputId": "1c0b07ba-c513-4553-a956-a54771cc5362"
   },
   "outputs": [
    {
     "data": {
      "text/plain": [
       "<filter at 0x7f8f23b449d0>"
      ]
     },
     "execution_count": 19,
     "metadata": {},
     "output_type": "execute_result"
    }
   ],
   "source": [
    "a"
   ]
  },
  {
   "cell_type": "code",
   "execution_count": null,
   "metadata": {
    "colab": {
     "base_uri": "https://localhost:8080/"
    },
    "id": "7ndNjkCMeq5X",
    "outputId": "6a845212-bd61-44d4-a7e9-05d39c7bf130"
   },
   "outputs": [
    {
     "data": {
      "text/plain": [
       "[5, 10, 50, 5000]"
      ]
     },
     "execution_count": 20,
     "metadata": {},
     "output_type": "execute_result"
    }
   ],
   "source": [
    "list(a)"
   ]
  },
  {
   "cell_type": "code",
   "execution_count": null,
   "metadata": {
    "colab": {
     "base_uri": "https://localhost:8080/"
    },
    "id": "XoJcW7ocIHdz",
    "outputId": "aa1ef925-e959-42ab-da36-64e4903903c7"
   },
   "outputs": [
    {
     "data": {
      "text/plain": [
       "[]"
      ]
     },
     "execution_count": 22,
     "metadata": {},
     "output_type": "execute_result"
    }
   ],
   "source": [
    "list(a)"
   ]
  },
  {
   "cell_type": "markdown",
   "metadata": {
    "id": "2NqVCPBFXCJs"
   },
   "source": [
    "# FUNCIÓN MAP"
   ]
  },
  {
   "cell_type": "code",
   "execution_count": null,
   "metadata": {
    "id": "3ztLN7BPRaCV"
   },
   "outputs": [],
   "source": [
    "a = [10.00, 11.00, 12.34, 2.0 ]\n",
    "b = [9.8, 11.10, 12.34, 2.01 ]"
   ]
  },
  {
   "cell_type": "code",
   "execution_count": null,
   "metadata": {
    "colab": {
     "base_uri": "https://localhost:8080/"
    },
    "id": "C_xMijhPSfJ_",
    "outputId": "988725a3-24ee-49d9-99a0-8b498d4874db"
   },
   "outputs": [
    {
     "data": {
      "text/plain": [
       "<map at 0x7f8f23b16fd0>"
      ]
     },
     "execution_count": 28,
     "metadata": {},
     "output_type": "execute_result"
    }
   ],
   "source": [
    "var = map(min, a, b)\n",
    "var"
   ]
  },
  {
   "cell_type": "code",
   "execution_count": null,
   "metadata": {
    "colab": {
     "base_uri": "https://localhost:8080/"
    },
    "id": "WhYpLZ3lSh2B",
    "outputId": "ec886479-6234-43d2-e4a0-ab339c67a938"
   },
   "outputs": [
    {
     "data": {
      "text/plain": [
       "[9.8, 11.0, 12.34, 2.0]"
      ]
     },
     "execution_count": 29,
     "metadata": {},
     "output_type": "execute_result"
    }
   ],
   "source": [
    "list(var)"
   ]
  },
  {
   "cell_type": "code",
   "execution_count": null,
   "metadata": {
    "colab": {
     "base_uri": "https://localhost:8080/"
    },
    "id": "crHi24HHgijG",
    "outputId": "28a4a90c-5231-4491-9136-cb80a357e6aa"
   },
   "outputs": [
    {
     "data": {
      "text/plain": [
       "<map at 0x7f8f23b16fd0>"
      ]
     },
     "execution_count": 30,
     "metadata": {},
     "output_type": "execute_result"
    }
   ],
   "source": [
    "var"
   ]
  },
  {
   "cell_type": "code",
   "execution_count": null,
   "metadata": {
    "colab": {
     "base_uri": "https://localhost:8080/"
    },
    "id": "niI4Wf1Xgkiy",
    "outputId": "0cd51b69-2a52-4abb-d5c1-4e739450e6b0"
   },
   "outputs": [
    {
     "data": {
      "text/plain": [
       "[]"
      ]
     },
     "execution_count": 31,
     "metadata": {},
     "output_type": "execute_result"
    }
   ],
   "source": [
    "list(var)"
   ]
  },
  {
   "cell_type": "code",
   "execution_count": null,
   "metadata": {
    "id": "dnnulGm3U0dt"
   },
   "outputs": [],
   "source": [
    "# Este resultado no muestra nada, ¿porqué?. \n",
    "#La variable var ya fue evaluada a través de elementos funcionales\n",
    "for item in var:\n",
    "  print(item)"
   ]
  },
  {
   "cell_type": "markdown",
   "metadata": {
    "id": "v1gr1dlbguof"
   },
   "source": [
    "Otro ejemplo con la operación map"
   ]
  },
  {
   "cell_type": "code",
   "execution_count": null,
   "metadata": {
    "colab": {
     "base_uri": "https://localhost:8080/"
    },
    "id": "disOxwNFhN3c",
    "outputId": "357b9eb1-5286-4b99-89eb-6ac3713aec75"
   },
   "outputs": [
    {
     "data": {
      "text/plain": [
       "['Dr.', 'Simon', 'Einstein']"
      ]
     },
     "execution_count": 34,
     "metadata": {},
     "output_type": "execute_result"
    }
   ],
   "source": [
    "people = ['Dr. Simon Einstein', 'Dr. Pedro Euler  ', 'Dr. Juan Tesla', 'Dr. Daniel Maxwell']\n",
    "people[0].split()"
   ]
  },
  {
   "cell_type": "code",
   "execution_count": null,
   "metadata": {
    "colab": {
     "base_uri": "https://localhost:8080/"
    },
    "id": "hqaWx2zlSpDM",
    "outputId": "80794a40-7b02-49be-ba4e-9684c87a25ea"
   },
   "outputs": [
    {
     "data": {
      "text/plain": [
       "['Dr. Einstein', 'Dr. Euler', 'Dr. Tesla', 'Dr. Maxwell']"
      ]
     },
     "execution_count": 35,
     "metadata": {},
     "output_type": "execute_result"
    }
   ],
   "source": [
    "def split_title_and_name(person):  \n",
    "    title = person.split()[0]\n",
    "    lastname = person.split()[-1]\n",
    "    return f'{title} {lastname}'\n",
    "\n",
    "last_names = map(split_title_and_name, people)\n",
    "list(last_names)"
   ]
  },
  {
   "cell_type": "code",
   "execution_count": null,
   "metadata": {
    "colab": {
     "base_uri": "https://localhost:8080/"
    },
    "id": "xolOsk1lTOWB",
    "outputId": "0096b96a-40fa-40bf-b841-3d811db619fc"
   },
   "outputs": [
    {
     "data": {
      "text/plain": [
       "['Dr. Einstein', 'Dr. Euler', 'Dr. Tesla', 'Dr. Maxwell']"
      ]
     },
     "execution_count": 36,
     "metadata": {},
     "output_type": "execute_result"
    }
   ],
   "source": [
    "a = []\n",
    "for p in people:\n",
    "  a.append(split_title_and_name(p))\n",
    "a"
   ]
  },
  {
   "cell_type": "markdown",
   "metadata": {
    "id": "zj47ncCIZNnN"
   },
   "source": [
    "# Diccionarios\n",
    "\n",
    "Elementos basicos con diccionarios"
   ]
  },
  {
   "cell_type": "code",
   "execution_count": null,
   "metadata": {
    "id": "LM2T5BWbn2vJ"
   },
   "outputs": [],
   "source": [
    "students_class = { \"Bob\": \"Physics\",\"Alice\": \"Physics\",\"Ana\": \"Biology\" }"
   ]
  },
  {
   "cell_type": "code",
   "execution_count": null,
   "metadata": {
    "colab": {
     "base_uri": "https://localhost:8080/"
    },
    "id": "hrF6TAQvn_Gg",
    "outputId": "c24eb211-87b2-41d9-9003-e4d4b8dd5524"
   },
   "outputs": [
    {
     "name": "stdout",
     "output_type": "stream",
     "text": [
      "0 Bob Physics\n",
      "1 Alice Physics\n",
      "2 Ana Biology\n"
     ]
    }
   ],
   "source": [
    "for i, s in enumerate(students_class):\n",
    "  print(i, s, students_class[s])\n"
   ]
  },
  {
   "cell_type": "code",
   "execution_count": null,
   "metadata": {
    "colab": {
     "base_uri": "https://localhost:8080/"
    },
    "id": "s5N8Y8SEpH9n",
    "outputId": "7478158a-a04a-4dbf-a091-64d7cc773d81"
   },
   "outputs": [
    {
     "data": {
      "text/plain": [
       "dict_items([('Bob', 'Physics'), ('Alice', 'Physics'), ('Ana', 'Biology')])"
      ]
     },
     "execution_count": 39,
     "metadata": {},
     "output_type": "execute_result"
    }
   ],
   "source": [
    "students_class.items()"
   ]
  },
  {
   "cell_type": "markdown",
   "metadata": {
    "id": "3d_guWnUpebu"
   },
   "source": [
    "Otra forma de iteraciones para los diccionarios a través del metodo items()"
   ]
  },
  {
   "cell_type": "code",
   "execution_count": null,
   "metadata": {
    "colab": {
     "base_uri": "https://localhost:8080/"
    },
    "id": "rML1OpTnoPHU",
    "outputId": "8fd62a42-6457-44ce-e374-0ef51a00ab5c"
   },
   "outputs": [
    {
     "name": "stdout",
     "output_type": "stream",
     "text": [
      "Bob Physics\n",
      "Alice Physics\n",
      "Ana Biology\n"
     ]
    }
   ],
   "source": [
    "for key, val in students_class.items():\n",
    "  print(key, val)"
   ]
  },
  {
   "cell_type": "markdown",
   "metadata": {
    "id": "2VscterwrNDC"
   },
   "source": [
    "Accediendo a los valores del diccionario\n",
    "Accediendo a las claves\n",
    "- metodo keys()\n",
    "- metodo values()"
   ]
  },
  {
   "cell_type": "code",
   "execution_count": null,
   "metadata": {
    "colab": {
     "base_uri": "https://localhost:8080/"
    },
    "id": "TtOBYAFprEjY",
    "outputId": "fdd876a8-dd60-4658-acc6-1cde874787ec"
   },
   "outputs": [
    {
     "name": "stdout",
     "output_type": "stream",
     "text": [
      "dict_values(['Physics', 'Physics', 'Biology'])\n",
      "dict_keys(['Bob', 'Alice', 'Ana'])\n"
     ]
    }
   ],
   "source": [
    "print(students_class.values())\n",
    "print(students_class.keys())"
   ]
  },
  {
   "cell_type": "markdown",
   "metadata": {
    "id": "evxWmeLapzte"
   },
   "source": [
    "# Pandas.\n",
    "\n",
    "## Series\n",
    "## Data Frame"
   ]
  },
  {
   "cell_type": "code",
   "execution_count": null,
   "metadata": {
    "id": "WCZ2lA7mbYay"
   },
   "outputs": [],
   "source": [
    "import pandas as pd\n",
    "students_class = { \"Bob\": \"Physics\",\n",
    "                  \"Alice\": \"Chemistry\",\n",
    "                  \"Ana\": \"Biology\" }"
   ]
  },
  {
   "cell_type": "code",
   "execution_count": null,
   "metadata": {
    "colab": {
     "base_uri": "https://localhost:8080/"
    },
    "id": "DW8FFVxVbv2Z",
    "outputId": "8084c5ee-a1ec-4e3b-bd8a-c0758b2912b1"
   },
   "outputs": [
    {
     "data": {
      "text/plain": [
       "Bob        Physics\n",
       "Alice    Chemistry\n",
       "Ana        Biology\n",
       "dtype: object"
      ]
     },
     "execution_count": 47,
     "metadata": {},
     "output_type": "execute_result"
    }
   ],
   "source": [
    "# Ndarray unidimensional con ejes etiquetados\n",
    "s = pd.Series(students_class)\n",
    "s"
   ]
  },
  {
   "cell_type": "code",
   "execution_count": null,
   "metadata": {
    "colab": {
     "base_uri": "https://localhost:8080/"
    },
    "id": "HV2fbiqHk4Qg",
    "outputId": "69d656fc-7023-4c77-afd0-37b0e760c5a4"
   },
   "outputs": [
    {
     "name": "stdout",
     "output_type": "stream",
     "text": [
      "<class 'pandas.core.indexes.base.Index'>\n"
     ]
    },
    {
     "data": {
      "text/plain": [
       "Index(['Bob', 'Alice', 'Ana'], dtype='object')"
      ]
     },
     "execution_count": 48,
     "metadata": {},
     "output_type": "execute_result"
    }
   ],
   "source": [
    "# https://pandas.pydata.org/docs/reference/series.html\n",
    "print(type(s.index))\n",
    "s.index"
   ]
  },
  {
   "cell_type": "code",
   "execution_count": null,
   "metadata": {
    "colab": {
     "base_uri": "https://localhost:8080/",
     "height": 35
    },
    "id": "f_TeyjXibzI2",
    "outputId": "22d4770e-d80e-44ea-b593-949fdf20bdf8"
   },
   "outputs": [
    {
     "data": {
      "application/vnd.google.colaboratory.intrinsic+json": {
       "type": "string"
      },
      "text/plain": [
       "'Biology'"
      ]
     },
     "execution_count": 50,
     "metadata": {},
     "output_type": "execute_result"
    }
   ],
   "source": [
    "#Forma de acceder a los elementos con el número del indice\n",
    "s.iloc[2]"
   ]
  },
  {
   "cell_type": "code",
   "execution_count": null,
   "metadata": {
    "colab": {
     "base_uri": "https://localhost:8080/",
     "height": 35
    },
    "id": "2X_9PPi3b0Qx",
    "outputId": "b283ac68-7eb1-426f-feaf-7fe5c21df27e"
   },
   "outputs": [
    {
     "data": {
      "application/vnd.google.colaboratory.intrinsic+json": {
       "type": "string"
      },
      "text/plain": [
       "'Chemistry'"
      ]
     },
     "execution_count": 52,
     "metadata": {},
     "output_type": "execute_result"
    }
   ],
   "source": [
    "#Forma de acceder a los indices\n",
    "s.loc[\"Alice\"]"
   ]
  },
  {
   "cell_type": "code",
   "execution_count": null,
   "metadata": {
    "colab": {
     "base_uri": "https://localhost:8080/",
     "height": 35
    },
    "id": "Z2iaUH29cAVP",
    "outputId": "95b20f50-cb12-4cd7-b048-8cb22927369c"
   },
   "outputs": [
    {
     "data": {
      "application/vnd.google.colaboratory.intrinsic+json": {
       "type": "string"
      },
      "text/plain": [
       "'Physics'"
      ]
     },
     "execution_count": 53,
     "metadata": {},
     "output_type": "execute_result"
    }
   ],
   "source": [
    "s.Bob"
   ]
  },
  {
   "cell_type": "markdown",
   "metadata": {
    "id": "K3-4mKmwlNOr"
   },
   "source": [
    "### Definición clave valor con enteros como clave. "
   ]
  },
  {
   "cell_type": "code",
   "execution_count": null,
   "metadata": {
    "id": "CSrYMM2ucNf_"
   },
   "outputs": [],
   "source": [
    "class_code = {99:\"Physics\", \n",
    "              100:\"Chemistry\", \n",
    "              101:\"English\" }"
   ]
  },
  {
   "cell_type": "code",
   "execution_count": null,
   "metadata": {
    "id": "ssGqGBnvc6Bp"
   },
   "outputs": [],
   "source": [
    "s = pd.Series(class_code)"
   ]
  },
  {
   "cell_type": "code",
   "execution_count": null,
   "metadata": {
    "colab": {
     "base_uri": "https://localhost:8080/"
    },
    "id": "-xKFxyIJdBDS",
    "outputId": "c865ded5-c6f1-4a14-b319-5fb7a3df62ff"
   },
   "outputs": [
    {
     "data": {
      "text/plain": [
       "99       Physics\n",
       "100    Chemistry\n",
       "101      English\n",
       "dtype: object"
      ]
     },
     "execution_count": 57,
     "metadata": {},
     "output_type": "execute_result"
    }
   ],
   "source": [
    "s"
   ]
  },
  {
   "cell_type": "code",
   "execution_count": null,
   "metadata": {
    "colab": {
     "base_uri": "https://localhost:8080/",
     "height": 35
    },
    "id": "TeL8q3VTdBe2",
    "outputId": "7a429d1d-fc97-4363-bcf3-3bebb0912d7f"
   },
   "outputs": [
    {
     "data": {
      "application/vnd.google.colaboratory.intrinsic+json": {
       "type": "string"
      },
      "text/plain": [
       "'English'"
      ]
     },
     "execution_count": 58,
     "metadata": {},
     "output_type": "execute_result"
    }
   ],
   "source": [
    "s.iloc[2]"
   ]
  },
  {
   "cell_type": "code",
   "execution_count": null,
   "metadata": {
    "colab": {
     "base_uri": "https://localhost:8080/",
     "height": 35
    },
    "id": "9JeQGKjsdNrF",
    "outputId": "d0a00990-27df-4626-bd95-4f1e1787076d"
   },
   "outputs": [
    {
     "data": {
      "application/vnd.google.colaboratory.intrinsic+json": {
       "type": "string"
      },
      "text/plain": [
       "'Physics'"
      ]
     },
     "execution_count": 185,
     "metadata": {},
     "output_type": "execute_result"
    }
   ],
   "source": [
    "s.loc[99]"
   ]
  },
  {
   "cell_type": "markdown",
   "metadata": {
    "id": "KmI05BxTdl_W"
   },
   "source": [
    "Tambien podemos definir el objeto Serie  a partir de una lista"
   ]
  },
  {
   "cell_type": "code",
   "execution_count": null,
   "metadata": {
    "id": "A97AGDVldPfv"
   },
   "outputs": [],
   "source": [
    "grades = pd.Series([8,7,10,1])"
   ]
  },
  {
   "cell_type": "code",
   "execution_count": null,
   "metadata": {
    "colab": {
     "base_uri": "https://localhost:8080/"
    },
    "id": "IOc6qEF-d2-k",
    "outputId": "44c1660a-e6a5-4c16-c791-a0480b641938"
   },
   "outputs": [
    {
     "data": {
      "text/plain": [
       "0     8\n",
       "1     7\n",
       "2    10\n",
       "3     1\n",
       "dtype: int64"
      ]
     },
     "execution_count": 60,
     "metadata": {},
     "output_type": "execute_result"
    }
   ],
   "source": [
    "grades"
   ]
  },
  {
   "cell_type": "code",
   "execution_count": null,
   "metadata": {
    "colab": {
     "base_uri": "https://localhost:8080/"
    },
    "id": "FrPVqFNad9z_",
    "outputId": "b73532bf-89b2-406d-eb3b-0b753a6f4b68"
   },
   "outputs": [
    {
     "name": "stdout",
     "output_type": "stream",
     "text": [
      "0 8\n",
      "1 7\n",
      "2 10\n",
      "3 1\n"
     ]
    }
   ],
   "source": [
    "for i, g in enumerate(grades):\n",
    "  print(i,g)"
   ]
  },
  {
   "cell_type": "code",
   "execution_count": null,
   "metadata": {
    "colab": {
     "base_uri": "https://localhost:8080/"
    },
    "id": "TOlaxXXNeIjT",
    "outputId": "d298eb85-69f8-481c-86b0-344fadb8cd51"
   },
   "outputs": [
    {
     "data": {
      "text/plain": [
       "6.5"
      ]
     },
     "execution_count": 63,
     "metadata": {},
     "output_type": "execute_result"
    }
   ],
   "source": [
    "grades.mean()"
   ]
  },
  {
   "cell_type": "code",
   "execution_count": null,
   "metadata": {
    "colab": {
     "base_uri": "https://localhost:8080/"
    },
    "id": "qMmfqok3eRZt",
    "outputId": "77300ec4-f0bb-458c-b307-e4178ba36a90"
   },
   "outputs": [
    {
     "data": {
      "text/plain": [
       "count     4.000000\n",
       "mean      6.500000\n",
       "std       3.872983\n",
       "min       1.000000\n",
       "25%       5.500000\n",
       "50%       7.500000\n",
       "75%       8.500000\n",
       "max      10.000000\n",
       "dtype: float64"
      ]
     },
     "execution_count": 64,
     "metadata": {},
     "output_type": "execute_result"
    }
   ],
   "source": [
    "grades.describe()"
   ]
  },
  {
   "cell_type": "markdown",
   "metadata": {
    "id": "-M9Np-tbr1h4"
   },
   "source": [
    "Definicion a través de un  numpy array \n",
    "\n"
   ]
  },
  {
   "cell_type": "code",
   "execution_count": null,
   "metadata": {
    "id": "GEgR04p-eo8c"
   },
   "outputs": [],
   "source": [
    "x = np.random.randint(0,20, 100)\n",
    "random_s = pd.Series(x)"
   ]
  },
  {
   "cell_type": "code",
   "execution_count": null,
   "metadata": {
    "colab": {
     "base_uri": "https://localhost:8080/"
    },
    "id": "bLz2QP41sFAF",
    "outputId": "e37cbcff-5da8-4f30-eae9-1d68b9ddc7d4"
   },
   "outputs": [
    {
     "data": {
      "text/plain": [
       "0     18\n",
       "1     11\n",
       "2     13\n",
       "3     16\n",
       "4     18\n",
       "      ..\n",
       "95    11\n",
       "96     7\n",
       "97     1\n",
       "98    18\n",
       "99     1\n",
       "Length: 100, dtype: int64"
      ]
     },
     "execution_count": 66,
     "metadata": {},
     "output_type": "execute_result"
    }
   ],
   "source": [
    "random_s"
   ]
  },
  {
   "cell_type": "code",
   "execution_count": null,
   "metadata": {
    "colab": {
     "base_uri": "https://localhost:8080/"
    },
    "id": "M8enRxs5fDDJ",
    "outputId": "c514e821-320a-4ff5-aed4-b9cd5152cc1b"
   },
   "outputs": [
    {
     "data": {
      "text/plain": [
       "0    18\n",
       "1    11\n",
       "2    13\n",
       "3    16\n",
       "4    18\n",
       "dtype: int64"
      ]
     },
     "execution_count": 67,
     "metadata": {},
     "output_type": "execute_result"
    }
   ],
   "source": [
    "random_s.head()"
   ]
  },
  {
   "cell_type": "code",
   "execution_count": null,
   "metadata": {
    "colab": {
     "base_uri": "https://localhost:8080/"
    },
    "id": "DS9gbor_fPkT",
    "outputId": "d8d840f2-36dd-42c5-b2d5-aae9a3d5ad83"
   },
   "outputs": [
    {
     "name": "stdout",
     "output_type": "stream",
     "text": [
      "0 18\n",
      "1 11\n",
      "2 13\n",
      "3 16\n",
      "4 18\n"
     ]
    }
   ],
   "source": [
    "#Recorrido por las claves y valores, el metodo head es considerado para mostrar pocos valores\n",
    "\n",
    "for index, values in random_s.head().iteritems():\n",
    "  print(index, values)"
   ]
  },
  {
   "cell_type": "code",
   "execution_count": null,
   "metadata": {
    "colab": {
     "base_uri": "https://localhost:8080/"
    },
    "id": "l9y1xRJEftXz",
    "outputId": "8df1565b-cc68-4d14-9b48-e9cc38e3f4e0"
   },
   "outputs": [
    {
     "name": "stdout",
     "output_type": "stream",
     "text": [
      "100 loops, best of 5: 226 µs per loop\n"
     ]
    }
   ],
   "source": [
    "%%timeit -n 100\n",
    "x = np.random.randint(0,20, 100)\n",
    "random_s = pd.Series(x)\n",
    "random_s+=2 # OPeraciones vectoriales a todo el data frame, más eficiente.\n",
    "\n",
    "#Comparar cuando se tiene un ciclo para realizar la suma, ¿cuál es mas eficiente?"
   ]
  },
  {
   "cell_type": "markdown",
   "metadata": {
    "id": "KEZ9NHFxgicZ"
   },
   "source": [
    "Agregando nuevos valores con indices diferentes\n",
    "\n"
   ]
  },
  {
   "cell_type": "code",
   "execution_count": null,
   "metadata": {
    "id": "owkHGsBYgUmm"
   },
   "outputs": [],
   "source": [
    "s = pd.Series([1,2,3,4,9])"
   ]
  },
  {
   "cell_type": "code",
   "execution_count": null,
   "metadata": {
    "id": "yZqLXaT_goNW"
   },
   "outputs": [],
   "source": [
    "s.loc[\"nuevo\"]=2"
   ]
  },
  {
   "cell_type": "code",
   "execution_count": null,
   "metadata": {
    "colab": {
     "base_uri": "https://localhost:8080/"
    },
    "id": "AcJmAE5lgqcw",
    "outputId": "5aa8c89e-b9e7-40ad-c034-fabd3a90e9e9"
   },
   "outputs": [
    {
     "data": {
      "text/plain": [
       "0        1\n",
       "1        2\n",
       "2        3\n",
       "3        4\n",
       "4        9\n",
       "nuevo    2\n",
       "dtype: int64"
      ]
     },
     "execution_count": 73,
     "metadata": {},
     "output_type": "execute_result"
    }
   ],
   "source": [
    "s"
   ]
  },
  {
   "cell_type": "code",
   "execution_count": null,
   "metadata": {
    "colab": {
     "base_uri": "https://localhost:8080/"
    },
    "id": "O3-MpdiEguFK",
    "outputId": "785cd09a-60c0-4f30-9bb3-4da6db51f1ae"
   },
   "outputs": [
    {
     "data": {
      "text/plain": [
       "2"
      ]
     },
     "execution_count": 74,
     "metadata": {},
     "output_type": "execute_result"
    }
   ],
   "source": [
    "s.loc[\"nuevo\"]"
   ]
  },
  {
   "cell_type": "code",
   "execution_count": null,
   "metadata": {
    "colab": {
     "base_uri": "https://localhost:8080/"
    },
    "id": "wKxQBmBPgxnY",
    "outputId": "b16c3c59-3f99-4565-8944-9db167fa5552"
   },
   "outputs": [
    {
     "data": {
      "text/plain": [
       "2"
      ]
     },
     "execution_count": 75,
     "metadata": {},
     "output_type": "execute_result"
    }
   ],
   "source": [
    "s[\"nuevo\"]"
   ]
  },
  {
   "cell_type": "code",
   "execution_count": null,
   "metadata": {
    "colab": {
     "base_uri": "https://localhost:8080/"
    },
    "id": "lpd3ATYmg4-I",
    "outputId": "88d5aad6-d787-463c-eec3-c4e1b468eb8c"
   },
   "outputs": [
    {
     "data": {
      "text/plain": [
       "2"
      ]
     },
     "execution_count": 76,
     "metadata": {},
     "output_type": "execute_result"
    }
   ],
   "source": [
    "s.iloc[-1]\n"
   ]
  },
  {
   "cell_type": "markdown",
   "metadata": {
    "id": "_1TG3YenhY_T"
   },
   "source": [
    "Otra *forma* de definir una serie es a través de :"
   ]
  },
  {
   "cell_type": "code",
   "execution_count": null,
   "metadata": {
    "id": "rHoYhdRvhFHN"
   },
   "outputs": [],
   "source": [
    "juan_class = pd.Series([\"a\", \"b\",\"c\"], index=[\"0\",\"1\",\"2\"])"
   ]
  },
  {
   "cell_type": "code",
   "execution_count": null,
   "metadata": {
    "colab": {
     "base_uri": "https://localhost:8080/"
    },
    "id": "-G0vDfiAhnIf",
    "outputId": "76f0b026-b4f7-403c-def5-a4b4d323ea7e"
   },
   "outputs": [
    {
     "data": {
      "text/plain": [
       "0    a\n",
       "1    b\n",
       "2    c\n",
       "dtype: object"
      ]
     },
     "execution_count": 78,
     "metadata": {},
     "output_type": "execute_result"
    }
   ],
   "source": [
    "juan_class"
   ]
  },
  {
   "cell_type": "markdown",
   "metadata": {
    "id": "Tg43IXL_hudt"
   },
   "source": [
    "# Data Frame \n",
    "\n",
    "\n",
    "\n",
    "Un DataFrame es una lista  de series\n",
    "\n"
   ]
  },
  {
   "cell_type": "code",
   "execution_count": null,
   "metadata": {
    "id": "ovkWNjZxhn70"
   },
   "outputs": [],
   "source": [
    "d1 = { \"Name\":\"Juan\", \"Topic\":\"Quantum Mechanics\", \"Score\" : 10}\n",
    "d2 = { \"Name\":\"Pedro\", \"Topic\":\"statistical\", \"Score\" : 10}\n",
    "d3 = { \"Name\":\"Ana\", \"Topic\":\"Clasical Mechanics\", \"Score\" : 10}\n",
    "\n",
    "record1 = pd.Series(d1)\n",
    "record2 = pd.Series(d2)\n",
    "record3 = pd.Series(d3)"
   ]
  },
  {
   "cell_type": "code",
   "execution_count": null,
   "metadata": {
    "colab": {
     "base_uri": "https://localhost:8080/",
     "height": 143
    },
    "id": "g3fdEPDyv6Pe",
    "outputId": "a0eabb25-a038-4216-e2da-9e81705dea22"
   },
   "outputs": [
    {
     "data": {
      "text/html": [
       "<div>\n",
       "<style scoped>\n",
       "    .dataframe tbody tr th:only-of-type {\n",
       "        vertical-align: middle;\n",
       "    }\n",
       "\n",
       "    .dataframe tbody tr th {\n",
       "        vertical-align: top;\n",
       "    }\n",
       "\n",
       "    .dataframe thead th {\n",
       "        text-align: right;\n",
       "    }\n",
       "</style>\n",
       "<table border=\"1\" class=\"dataframe\">\n",
       "  <thead>\n",
       "    <tr style=\"text-align: right;\">\n",
       "      <th></th>\n",
       "      <th>Name</th>\n",
       "      <th>Topic</th>\n",
       "      <th>Score</th>\n",
       "    </tr>\n",
       "  </thead>\n",
       "  <tbody>\n",
       "    <tr>\n",
       "      <th>0</th>\n",
       "      <td>Juan</td>\n",
       "      <td>Quantum Mechanics</td>\n",
       "      <td>10</td>\n",
       "    </tr>\n",
       "    <tr>\n",
       "      <th>1</th>\n",
       "      <td>Pedro</td>\n",
       "      <td>statistical</td>\n",
       "      <td>10</td>\n",
       "    </tr>\n",
       "    <tr>\n",
       "      <th>2</th>\n",
       "      <td>Ana</td>\n",
       "      <td>Clasical Mechanics</td>\n",
       "      <td>10</td>\n",
       "    </tr>\n",
       "  </tbody>\n",
       "</table>\n",
       "</div>"
      ],
      "text/plain": [
       "    Name               Topic  Score\n",
       "0   Juan   Quantum Mechanics     10\n",
       "1  Pedro         statistical     10\n",
       "2    Ana  Clasical Mechanics     10"
      ]
     },
     "execution_count": 81,
     "metadata": {},
     "output_type": "execute_result"
    }
   ],
   "source": [
    "# indices con números enteros\n",
    "df1 = pd.DataFrame( [record1, record2, record3] )\n",
    "df1"
   ]
  },
  {
   "cell_type": "code",
   "execution_count": null,
   "metadata": {
    "colab": {
     "base_uri": "https://localhost:8080/",
     "height": 143
    },
    "id": "aWjRtB9WwGCq",
    "outputId": "bc00e3d7-9d14-4323-92c0-3e40c0d3b3a2"
   },
   "outputs": [
    {
     "data": {
      "text/html": [
       "<div>\n",
       "<style scoped>\n",
       "    .dataframe tbody tr th:only-of-type {\n",
       "        vertical-align: middle;\n",
       "    }\n",
       "\n",
       "    .dataframe tbody tr th {\n",
       "        vertical-align: top;\n",
       "    }\n",
       "\n",
       "    .dataframe thead th {\n",
       "        text-align: right;\n",
       "    }\n",
       "</style>\n",
       "<table border=\"1\" class=\"dataframe\">\n",
       "  <thead>\n",
       "    <tr style=\"text-align: right;\">\n",
       "      <th></th>\n",
       "      <th>Name</th>\n",
       "      <th>Topic</th>\n",
       "      <th>Score</th>\n",
       "    </tr>\n",
       "  </thead>\n",
       "  <tbody>\n",
       "    <tr>\n",
       "      <th>UdeA</th>\n",
       "      <td>Juan</td>\n",
       "      <td>Quantum Mechanics</td>\n",
       "      <td>10</td>\n",
       "    </tr>\n",
       "    <tr>\n",
       "      <th>Unal</th>\n",
       "      <td>Pedro</td>\n",
       "      <td>statistical</td>\n",
       "      <td>10</td>\n",
       "    </tr>\n",
       "    <tr>\n",
       "      <th>ITM</th>\n",
       "      <td>Ana</td>\n",
       "      <td>Clasical Mechanics</td>\n",
       "      <td>10</td>\n",
       "    </tr>\n",
       "  </tbody>\n",
       "</table>\n",
       "</div>"
      ],
      "text/plain": [
       "       Name               Topic  Score\n",
       "UdeA   Juan   Quantum Mechanics     10\n",
       "Unal  Pedro         statistical     10\n",
       "ITM     Ana  Clasical Mechanics     10"
      ]
     },
     "execution_count": 82,
     "metadata": {},
     "output_type": "execute_result"
    }
   ],
   "source": [
    "# Asignando nombre a los indices\n",
    "df2 = pd.DataFrame( [record1, record2, record3] , index = [\"UdeA\",\"Unal\", \"ITM\"] )\n",
    "df2"
   ]
  },
  {
   "cell_type": "code",
   "execution_count": null,
   "metadata": {
    "colab": {
     "base_uri": "https://localhost:8080/"
    },
    "id": "kkFfZ2ugwj3j",
    "outputId": "466a68d3-c312-49df-9a48-477e1aad6ddf"
   },
   "outputs": [
    {
     "data": {
      "text/plain": [
       "Name                  Juan\n",
       "Topic    Quantum Mechanics\n",
       "Score                   10\n",
       "Name: UdeA, dtype: object"
      ]
     },
     "execution_count": 83,
     "metadata": {},
     "output_type": "execute_result"
    }
   ],
   "source": [
    "#Accediendo a los indices por el nombre\n",
    "df2.loc[\"UdeA\"]"
   ]
  },
  {
   "cell_type": "code",
   "execution_count": null,
   "metadata": {
    "colab": {
     "base_uri": "https://localhost:8080/"
    },
    "id": "9_kCMLcMxjt9",
    "outputId": "610b5cac-de27-4386-90b8-635308816b86"
   },
   "outputs": [
    {
     "data": {
      "text/plain": [
       "Name                  Juan\n",
       "Topic    Quantum Mechanics\n",
       "Score                   10\n",
       "Name: UdeA, dtype: object"
      ]
     },
     "execution_count": 84,
     "metadata": {},
     "output_type": "execute_result"
    }
   ],
   "source": [
    "#Accediendo a los indices por el numero\n",
    "df2.iloc[0]"
   ]
  },
  {
   "cell_type": "code",
   "execution_count": null,
   "metadata": {
    "colab": {
     "base_uri": "https://localhost:8080/",
     "height": 35
    },
    "id": "r1M0oSEjyuaK",
    "outputId": "16f16182-bb1a-4b28-d5f3-d9f4d3793992"
   },
   "outputs": [
    {
     "data": {
      "application/vnd.google.colaboratory.intrinsic+json": {
       "type": "string"
      },
      "text/plain": [
       "'Juan'"
      ]
     },
     "execution_count": 85,
     "metadata": {},
     "output_type": "execute_result"
    }
   ],
   "source": [
    "#Accediendo a un elemento en particular\n",
    "df2.loc[\"UdeA\", \"Name\"]\n"
   ]
  },
  {
   "cell_type": "code",
   "execution_count": null,
   "metadata": {
    "colab": {
     "base_uri": "https://localhost:8080/",
     "height": 143
    },
    "id": "OjPRLmYlzCCV",
    "outputId": "6baf8823-b4a1-4617-a408-0b9cd94296ad"
   },
   "outputs": [
    {
     "data": {
      "text/html": [
       "<div>\n",
       "<style scoped>\n",
       "    .dataframe tbody tr th:only-of-type {\n",
       "        vertical-align: middle;\n",
       "    }\n",
       "\n",
       "    .dataframe tbody tr th {\n",
       "        vertical-align: top;\n",
       "    }\n",
       "\n",
       "    .dataframe thead th {\n",
       "        text-align: right;\n",
       "    }\n",
       "</style>\n",
       "<table border=\"1\" class=\"dataframe\">\n",
       "  <thead>\n",
       "    <tr style=\"text-align: right;\">\n",
       "      <th></th>\n",
       "      <th>Name</th>\n",
       "      <th>Topic</th>\n",
       "    </tr>\n",
       "  </thead>\n",
       "  <tbody>\n",
       "    <tr>\n",
       "      <th>UdeA</th>\n",
       "      <td>Juan</td>\n",
       "      <td>Quantum Mechanics</td>\n",
       "    </tr>\n",
       "    <tr>\n",
       "      <th>Unal</th>\n",
       "      <td>Pedro</td>\n",
       "      <td>statistical</td>\n",
       "    </tr>\n",
       "    <tr>\n",
       "      <th>ITM</th>\n",
       "      <td>Ana</td>\n",
       "      <td>Clasical Mechanics</td>\n",
       "    </tr>\n",
       "  </tbody>\n",
       "</table>\n",
       "</div>"
      ],
      "text/plain": [
       "       Name               Topic\n",
       "UdeA   Juan   Quantum Mechanics\n",
       "Unal  Pedro         statistical\n",
       "ITM     Ana  Clasical Mechanics"
      ]
     },
     "execution_count": 87,
     "metadata": {},
     "output_type": "execute_result"
    }
   ],
   "source": [
    "#Accediendo a algunas columnas del data frame\n",
    "df2.loc[:, [\"Name\", \"Topic\"]]"
   ]
  },
  {
   "cell_type": "markdown",
   "metadata": {
    "id": "DCOcOY3a03jC"
   },
   "source": [
    "Se recomienda crear copias del data frame cuando se esta trabajando con pandas a traves del metodo copy() y no con el operador =, dado que se comparte el mismo espacio de memoria"
   ]
  },
  {
   "cell_type": "code",
   "execution_count": null,
   "metadata": {
    "colab": {
     "base_uri": "https://localhost:8080/",
     "height": 143
    },
    "id": "sVWEr9jeNHa0",
    "outputId": "61ee3a90-0964-4a55-8d32-ab6e8002d20c"
   },
   "outputs": [
    {
     "data": {
      "text/html": [
       "<div>\n",
       "<style scoped>\n",
       "    .dataframe tbody tr th:only-of-type {\n",
       "        vertical-align: middle;\n",
       "    }\n",
       "\n",
       "    .dataframe tbody tr th {\n",
       "        vertical-align: top;\n",
       "    }\n",
       "\n",
       "    .dataframe thead th {\n",
       "        text-align: right;\n",
       "    }\n",
       "</style>\n",
       "<table border=\"1\" class=\"dataframe\">\n",
       "  <thead>\n",
       "    <tr style=\"text-align: right;\">\n",
       "      <th></th>\n",
       "      <th>Name</th>\n",
       "      <th>Topic</th>\n",
       "      <th>Score</th>\n",
       "    </tr>\n",
       "  </thead>\n",
       "  <tbody>\n",
       "    <tr>\n",
       "      <th>UdeA</th>\n",
       "      <td>Juan</td>\n",
       "      <td>Quantum Mechanics</td>\n",
       "      <td>10</td>\n",
       "    </tr>\n",
       "    <tr>\n",
       "      <th>Unal</th>\n",
       "      <td>Pedro</td>\n",
       "      <td>statistical</td>\n",
       "      <td>10</td>\n",
       "    </tr>\n",
       "    <tr>\n",
       "      <th>ITM</th>\n",
       "      <td>Ana</td>\n",
       "      <td>Clasical Mechanics</td>\n",
       "      <td>10</td>\n",
       "    </tr>\n",
       "  </tbody>\n",
       "</table>\n",
       "</div>"
      ],
      "text/plain": [
       "       Name               Topic  Score\n",
       "UdeA   Juan   Quantum Mechanics     10\n",
       "Unal  Pedro         statistical     10\n",
       "ITM     Ana  Clasical Mechanics     10"
      ]
     },
     "execution_count": 89,
     "metadata": {},
     "output_type": "execute_result"
    }
   ],
   "source": [
    "df2"
   ]
  },
  {
   "cell_type": "code",
   "execution_count": null,
   "metadata": {
    "id": "vapYlhwyzf_D"
   },
   "outputs": [],
   "source": [
    "a = df2"
   ]
  },
  {
   "cell_type": "code",
   "execution_count": null,
   "metadata": {
    "colab": {
     "base_uri": "https://localhost:8080/",
     "height": 143
    },
    "id": "arbg1baWzlMq",
    "outputId": "e7c485c7-fc11-466b-d947-78d8c36ae97c"
   },
   "outputs": [
    {
     "data": {
      "text/html": [
       "<div>\n",
       "<style scoped>\n",
       "    .dataframe tbody tr th:only-of-type {\n",
       "        vertical-align: middle;\n",
       "    }\n",
       "\n",
       "    .dataframe tbody tr th {\n",
       "        vertical-align: top;\n",
       "    }\n",
       "\n",
       "    .dataframe thead th {\n",
       "        text-align: right;\n",
       "    }\n",
       "</style>\n",
       "<table border=\"1\" class=\"dataframe\">\n",
       "  <thead>\n",
       "    <tr style=\"text-align: right;\">\n",
       "      <th></th>\n",
       "      <th>Name</th>\n",
       "      <th>Topic</th>\n",
       "      <th>Score</th>\n",
       "    </tr>\n",
       "  </thead>\n",
       "  <tbody>\n",
       "    <tr>\n",
       "      <th>UdeA</th>\n",
       "      <td>Juan</td>\n",
       "      <td>Quantum Mechanics</td>\n",
       "      <td>10</td>\n",
       "    </tr>\n",
       "    <tr>\n",
       "      <th>Unal</th>\n",
       "      <td>Pedro</td>\n",
       "      <td>statistical</td>\n",
       "      <td>10</td>\n",
       "    </tr>\n",
       "    <tr>\n",
       "      <th>ITM</th>\n",
       "      <td>Ana</td>\n",
       "      <td>Clasical Mechanics</td>\n",
       "      <td>10</td>\n",
       "    </tr>\n",
       "  </tbody>\n",
       "</table>\n",
       "</div>"
      ],
      "text/plain": [
       "       Name               Topic  Score\n",
       "UdeA   Juan   Quantum Mechanics     10\n",
       "Unal  Pedro         statistical     10\n",
       "ITM     Ana  Clasical Mechanics     10"
      ]
     },
     "execution_count": 91,
     "metadata": {},
     "output_type": "execute_result"
    }
   ],
   "source": [
    "a"
   ]
  },
  {
   "cell_type": "code",
   "execution_count": null,
   "metadata": {
    "id": "mP_rQf4i0og9"
   },
   "outputs": [],
   "source": [
    "a.loc[\"UdeA\", \"Name\"] = \"JuanB\""
   ]
  },
  {
   "cell_type": "code",
   "execution_count": null,
   "metadata": {
    "colab": {
     "base_uri": "https://localhost:8080/",
     "height": 143
    },
    "id": "1iGo718u0vSI",
    "outputId": "ddafeb97-6101-4435-8cb5-e32eeff93b94"
   },
   "outputs": [
    {
     "data": {
      "text/html": [
       "<div>\n",
       "<style scoped>\n",
       "    .dataframe tbody tr th:only-of-type {\n",
       "        vertical-align: middle;\n",
       "    }\n",
       "\n",
       "    .dataframe tbody tr th {\n",
       "        vertical-align: top;\n",
       "    }\n",
       "\n",
       "    .dataframe thead th {\n",
       "        text-align: right;\n",
       "    }\n",
       "</style>\n",
       "<table border=\"1\" class=\"dataframe\">\n",
       "  <thead>\n",
       "    <tr style=\"text-align: right;\">\n",
       "      <th></th>\n",
       "      <th>Name</th>\n",
       "      <th>Topic</th>\n",
       "      <th>Score</th>\n",
       "    </tr>\n",
       "  </thead>\n",
       "  <tbody>\n",
       "    <tr>\n",
       "      <th>UdeA</th>\n",
       "      <td>JuanB</td>\n",
       "      <td>Quantum Mechanics</td>\n",
       "      <td>10</td>\n",
       "    </tr>\n",
       "    <tr>\n",
       "      <th>Unal</th>\n",
       "      <td>Pedro</td>\n",
       "      <td>statistical</td>\n",
       "      <td>10</td>\n",
       "    </tr>\n",
       "    <tr>\n",
       "      <th>ITM</th>\n",
       "      <td>Ana</td>\n",
       "      <td>Clasical Mechanics</td>\n",
       "      <td>10</td>\n",
       "    </tr>\n",
       "  </tbody>\n",
       "</table>\n",
       "</div>"
      ],
      "text/plain": [
       "       Name               Topic  Score\n",
       "UdeA  JuanB   Quantum Mechanics     10\n",
       "Unal  Pedro         statistical     10\n",
       "ITM     Ana  Clasical Mechanics     10"
      ]
     },
     "execution_count": 93,
     "metadata": {},
     "output_type": "execute_result"
    }
   ],
   "source": [
    "a"
   ]
  },
  {
   "cell_type": "code",
   "execution_count": null,
   "metadata": {
    "colab": {
     "base_uri": "https://localhost:8080/",
     "height": 143
    },
    "id": "v_qWv-iH0z5d",
    "outputId": "a9ca86c9-64ef-45cd-984f-0a09c6894647"
   },
   "outputs": [
    {
     "data": {
      "text/html": [
       "<div>\n",
       "<style scoped>\n",
       "    .dataframe tbody tr th:only-of-type {\n",
       "        vertical-align: middle;\n",
       "    }\n",
       "\n",
       "    .dataframe tbody tr th {\n",
       "        vertical-align: top;\n",
       "    }\n",
       "\n",
       "    .dataframe thead th {\n",
       "        text-align: right;\n",
       "    }\n",
       "</style>\n",
       "<table border=\"1\" class=\"dataframe\">\n",
       "  <thead>\n",
       "    <tr style=\"text-align: right;\">\n",
       "      <th></th>\n",
       "      <th>Name</th>\n",
       "      <th>Topic</th>\n",
       "      <th>Score</th>\n",
       "    </tr>\n",
       "  </thead>\n",
       "  <tbody>\n",
       "    <tr>\n",
       "      <th>UdeA</th>\n",
       "      <td>JuanB</td>\n",
       "      <td>Quantum Mechanics</td>\n",
       "      <td>10</td>\n",
       "    </tr>\n",
       "    <tr>\n",
       "      <th>Unal</th>\n",
       "      <td>Pedro</td>\n",
       "      <td>statistical</td>\n",
       "      <td>10</td>\n",
       "    </tr>\n",
       "    <tr>\n",
       "      <th>ITM</th>\n",
       "      <td>Ana</td>\n",
       "      <td>Clasical Mechanics</td>\n",
       "      <td>10</td>\n",
       "    </tr>\n",
       "  </tbody>\n",
       "</table>\n",
       "</div>"
      ],
      "text/plain": [
       "       Name               Topic  Score\n",
       "UdeA  JuanB   Quantum Mechanics     10\n",
       "Unal  Pedro         statistical     10\n",
       "ITM     Ana  Clasical Mechanics     10"
      ]
     },
     "execution_count": 94,
     "metadata": {},
     "output_type": "execute_result"
    }
   ],
   "source": [
    "df2"
   ]
  },
  {
   "cell_type": "code",
   "execution_count": null,
   "metadata": {
    "id": "_QXrdYew00ww"
   },
   "outputs": [],
   "source": [
    "b = df2.copy()"
   ]
  },
  {
   "cell_type": "code",
   "execution_count": null,
   "metadata": {
    "id": "0S9TtX691KIk"
   },
   "outputs": [],
   "source": []
  },
  {
   "cell_type": "markdown",
   "metadata": {
    "id": "6hBPLVNK1Ovr"
   },
   "source": [
    "Eliminacion de columnas"
   ]
  },
  {
   "cell_type": "code",
   "execution_count": null,
   "metadata": {
    "id": "GZ_M6UKr1QLU"
   },
   "outputs": [],
   "source": [
    "del b[\"Topic\"]"
   ]
  },
  {
   "cell_type": "code",
   "execution_count": null,
   "metadata": {
    "colab": {
     "base_uri": "https://localhost:8080/",
     "height": 143
    },
    "id": "ydfC7JHX1TID",
    "outputId": "5a0dd0bd-4b38-4ba9-fd1f-fddbf6e5a63f"
   },
   "outputs": [
    {
     "data": {
      "text/html": [
       "<div>\n",
       "<style scoped>\n",
       "    .dataframe tbody tr th:only-of-type {\n",
       "        vertical-align: middle;\n",
       "    }\n",
       "\n",
       "    .dataframe tbody tr th {\n",
       "        vertical-align: top;\n",
       "    }\n",
       "\n",
       "    .dataframe thead th {\n",
       "        text-align: right;\n",
       "    }\n",
       "</style>\n",
       "<table border=\"1\" class=\"dataframe\">\n",
       "  <thead>\n",
       "    <tr style=\"text-align: right;\">\n",
       "      <th></th>\n",
       "      <th>Name</th>\n",
       "      <th>Score</th>\n",
       "    </tr>\n",
       "  </thead>\n",
       "  <tbody>\n",
       "    <tr>\n",
       "      <th>UdeA</th>\n",
       "      <td>JuanB</td>\n",
       "      <td>10</td>\n",
       "    </tr>\n",
       "    <tr>\n",
       "      <th>Unal</th>\n",
       "      <td>Pedro</td>\n",
       "      <td>10</td>\n",
       "    </tr>\n",
       "    <tr>\n",
       "      <th>ITM</th>\n",
       "      <td>Ana</td>\n",
       "      <td>10</td>\n",
       "    </tr>\n",
       "  </tbody>\n",
       "</table>\n",
       "</div>"
      ],
      "text/plain": [
       "       Name  Score\n",
       "UdeA  JuanB     10\n",
       "Unal  Pedro     10\n",
       "ITM     Ana     10"
      ]
     },
     "execution_count": 97,
     "metadata": {},
     "output_type": "execute_result"
    }
   ],
   "source": [
    "b"
   ]
  },
  {
   "cell_type": "markdown",
   "metadata": {
    "id": "r3mP9iJZ1dB2"
   },
   "source": [
    " Agregando nuevas columnas al data frame"
   ]
  },
  {
   "cell_type": "code",
   "execution_count": null,
   "metadata": {
    "id": "c2vM5M8c1Tmj"
   },
   "outputs": [],
   "source": [
    "b[\"Nueva\"] = [10, 8, 3]"
   ]
  },
  {
   "cell_type": "code",
   "execution_count": null,
   "metadata": {
    "colab": {
     "base_uri": "https://localhost:8080/",
     "height": 143
    },
    "id": "xoVHl1jK1Zgo",
    "outputId": "9ad8fbfc-d0a2-4b3a-ef95-59dab9570281"
   },
   "outputs": [
    {
     "data": {
      "text/html": [
       "<div>\n",
       "<style scoped>\n",
       "    .dataframe tbody tr th:only-of-type {\n",
       "        vertical-align: middle;\n",
       "    }\n",
       "\n",
       "    .dataframe tbody tr th {\n",
       "        vertical-align: top;\n",
       "    }\n",
       "\n",
       "    .dataframe thead th {\n",
       "        text-align: right;\n",
       "    }\n",
       "</style>\n",
       "<table border=\"1\" class=\"dataframe\">\n",
       "  <thead>\n",
       "    <tr style=\"text-align: right;\">\n",
       "      <th></th>\n",
       "      <th>Name</th>\n",
       "      <th>Score</th>\n",
       "      <th>Nueva</th>\n",
       "    </tr>\n",
       "  </thead>\n",
       "  <tbody>\n",
       "    <tr>\n",
       "      <th>UdeA</th>\n",
       "      <td>JuanB</td>\n",
       "      <td>10</td>\n",
       "      <td>10</td>\n",
       "    </tr>\n",
       "    <tr>\n",
       "      <th>Unal</th>\n",
       "      <td>Pedro</td>\n",
       "      <td>10</td>\n",
       "      <td>8</td>\n",
       "    </tr>\n",
       "    <tr>\n",
       "      <th>ITM</th>\n",
       "      <td>Ana</td>\n",
       "      <td>10</td>\n",
       "      <td>3</td>\n",
       "    </tr>\n",
       "  </tbody>\n",
       "</table>\n",
       "</div>"
      ],
      "text/plain": [
       "       Name  Score  Nueva\n",
       "UdeA  JuanB     10     10\n",
       "Unal  Pedro     10      8\n",
       "ITM     Ana     10      3"
      ]
     },
     "execution_count": 100,
     "metadata": {},
     "output_type": "execute_result"
    }
   ],
   "source": [
    "b"
   ]
  },
  {
   "cell_type": "code",
   "execution_count": null,
   "metadata": {
    "id": "NRxnk8ZgNhRd"
   },
   "outputs": [],
   "source": []
  }
 ],
 "metadata": {
  "colab": {
   "name": "Sesion_01a_pandas.ipynb",
   "provenance": []
  },
  "kernelspec": {
   "display_name": "Python 3 (ipykernel)",
   "language": "python",
   "name": "python3"
  },
  "language_info": {
   "codemirror_mode": {
    "name": "ipython",
    "version": 3
   },
   "file_extension": ".py",
   "mimetype": "text/x-python",
   "name": "python",
   "nbconvert_exporter": "python",
   "pygments_lexer": "ipython3",
   "version": "3.10.0"
  }
 },
 "nbformat": 4,
 "nbformat_minor": 1
}
