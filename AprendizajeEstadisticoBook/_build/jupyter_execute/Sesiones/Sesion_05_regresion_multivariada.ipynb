{
 "cells": [
  {
   "cell_type": "markdown",
   "metadata": {
    "id": "uf3iMQfkp5bH"
   },
   "source": [
    "\n",
    "<a href=\"https://colab.research.google.com/github/hernansalinas/Curso_aprendizaje_estadistico/blob/main/Sesiones/Sesion_01a_pandas.ipynb\" target=\"_parent\"><img src=\"https://colab.research.google.com/assets/colab-badge.svg\" alt=\"Open In Colab\"/></a>"
   ]
  },
  {
   "cell_type": "markdown",
   "metadata": {
    "id": "RN4svgpF9xFa"
   },
   "source": [
    "# Regresion multivariada\n",
    "\n",
    "Supongamos que tenemos un conjunto de caracteristicas $X = X_1,X_2...X_j...X_n$ para realizar una  predicción $y$ con valores esperados $\\hat{y}$.  \n",
    "\n",
    "Cada X, puede ser escrito como:\n",
    " $X_1 = x_1^{(1)},x_1^{(2)}, x_1^{(3)}...x_1^{(m)}$, \n",
    "\n",
    " $X_2 = x_2^{(1)},x_2^{(2)}, x_2^{(3)}...x_2^{(m)}$, \n",
    " \n",
    " .\n",
    " \n",
    " .\n",
    " \n",
    " .\n",
    " \n",
    " $X_n = x_n^{(1)},x_n^{(2)}, x_n^{(3)}...x_n^{(m)}$. \n",
    " \n",
    "\n",
    "Siendo n el número de caracteristicas y m el número de datos de datos, \n",
    "$\\hat{y} = \\hat{y}_1^{(1)}, \\hat{y}_1^{(2)}...\\hat{y}_1^{(m)} $, el conjunto de datos etiquetados  y $y = y_1^{(1)}, y_1^{(2)}...y_1^{(m)} $ los valores predichos por un modelo\n",
    "\n",
    "\n",
    "\n",
    "\n",
    "Lo anterior puede ser resumido  como:\n",
    "\n",
    "\n",
    "\n",
    "|Training|$\\hat{y}$      | X_1  | X_2  |  .  | .|. |. | X_n|\n",
    "|--------|-------|------|------|-----|--|--|--|----|\n",
    "|1|$\\hat{y}_1^{1}$ | $x_1^{1}$|$x_2^{1}$| .  | .|. |. | $x_n^{1}$|\n",
    "|2|$\\hat{y}_1^{2}$ | $x_1^{2}$|$x_2^{2}$| .  | .|. |. | $x_n^{2}$|\n",
    "|.|.         | .        |.| .  | .|. |. | |\n",
    "|.|.         | .        |.| .  | .|. |. | |\n",
    "|.|.         | .        |.| .  | .|. |. | |\n",
    "|m|$\\hat{y}_1^{m}$ | $x_1^{m}$  |$x_2^{m}$| .  | .|. |. | $x_n^{m}$|\n",
    "\n",
    "\n",
    "y el el modelo puede ser ajustado como sigue: \n",
    "\n",
    "Para un solo conjunto de datos de entrenamiento tentemos que:\n",
    "\n",
    "$y = h(\\theta_0,\\theta_1,\\theta_2,...,\\theta_n ) = \\theta_0 + \\theta_1 x_1+\\theta_2 x_2 + \\theta_3 x_3 +...+ \\theta_n x_n $.\n",
    "\n",
    "\\begin{equation}\n",
    "h_{\\Theta}(x) = [\\theta_0,\\theta_1,...,\\theta_n ]\\begin{bmatrix}\n",
    "1^{(1)}\\\\\n",
    "x_1^{(1)}\\\\\n",
    "x_2^{(1)}\\\\\n",
    ".\\\\\n",
    ".\\\\\n",
    ".\\\\\n",
    "x_n^{(1)}\\\\\n",
    "\\end{bmatrix} = \\Theta^T X^{(1)}\n",
    "\\end{equation}\n",
    "\n",
    "\n",
    "\n",
    "Para todo el conjunto de datos, tenemos que:\n",
    "\n",
    "Sea $\\Theta^T = [\\theta_0,\\theta_1,\\theta_2,...,\\theta_n]$ una matrix $1 \\times (n+1)$ y  \n",
    "\n",
    "\n",
    "\\begin{equation}\n",
    "X =\n",
    "\\begin{bmatrix}\n",
    "1& 1 & 1 & .&.&.&1\\\\\n",
    "x_1^{(1)}&x_1^{(2)} & x_1^{(3)} & .&.&.&x_1^{(m)}\\\\\n",
    ".&. & . &.&.&.& .\\\\\n",
    ".&. & . & .&.&.&.\\\\\n",
    ".&. & . & .&.&.&.\\\\\n",
    "x_n^{(1)}&x_n^{(2)} & x^{(3)} & .&.&.&x_n^{(m)}\\\\\n",
    "\\end{bmatrix}_{(n+1) \\times m}\n",
    "\\end{equation}\n",
    "\n",
    "\n",
    "\n",
    "\n",
    "luego $h = \\Theta^{T} X $ con dimension $1\\times m$\n",
    "\n",
    "\n",
    "\n",
    "\n",
    "La anterior ecuación, es un hiperplano en $\\mathbb{R}^n$. Notese que en caso de tener una sola característica, la ecuación puede ser análizada según lo visto en la sesión de regresion lineal.\n",
    "\n",
    "\n",
    "Para la optimización, vamos a definir la función de coste **$J(\\theta_1,\\theta_2,\\theta_3, ...,\\theta_n )$** , como la función  asociada a la minima distancia entre dos puntos, según la metrica euclidiana. \n",
    "\n",
    "- Metrica Eculidiana\n",
    "\n",
    "\\begin{equation}\n",
    "J(\\theta_1,\\theta_2,\\theta_3, ...,\\theta_n )=\\frac{1}{2m} \\sum_{i=1}^m ( h_{\\Theta} (X)-\\hat{y}^{(i)})^2 =\\frac{1}{2m} \\sum_{i = 1}^m (\\Theta^{T} X - \\hat{y}^{(i)})^2\n",
    "\\end{equation}\n",
    "\n",
    "Otras métricas pueden ser definidas como sigue en la siguiente referencia.  [Metricas](https://jmlb.github.io/flashcards/2018/04/21/list_cost_functions_fo_neuralnets/).\n",
    "\n",
    "Nuestro objetivo será encontrar los valores mínimos \n",
    "$\\Theta = \\theta_0,\\theta_1,\\theta_2,...,\\theta_n$ que minimizan el error, respecto a los valores etiquetados y esperados $\\hat{y}$ \n",
    "\n",
    "\n",
    "Para encontrar $\\Theta$ opmitimo, se necesita  minimizar la función de coste, que permite obtener los valores más cercanos,  esta minimización podrá ser realizada a través de diferentes metodos, el más conocido es el gradiente descendente.\n",
    "\n",
    "\n",
    "\n",
    "\n",
    "\n"
   ]
  },
  {
   "cell_type": "markdown",
   "metadata": {
    "id": "iLV8uWctPd22"
   },
   "source": [
    "\n",
    "## Gradiente descendente\n",
    "\n",
    "Consideremos la función de coste sin realizar el promedio esima de funcion de coste:\n",
    "\\begin{equation}\n",
    "\\Lambda =\n",
    "\\begin{bmatrix}\n",
    "(\\theta_0 1 + \\theta_1 x_1^1+\\theta_2 x_2^2 + \\theta_3 x_3^3 +...+ \\theta_n x_n^n - \\hat{y}^{1})^2 \\\\\n",
    "(\\theta_0 1+ \\theta_1 x_1^1+\\theta_2 x_2^2 + \\theta_3 x_3^3 +...+ \\theta_n x_n^n - \\hat{y}^{2})^2\\\\\n",
    ".\\\\\n",
    ".\\\\\n",
    ".\\\\\n",
    "(\\theta_0 1 + \\theta_1 x_1^m+\\theta_2 x_2^m + \\theta_3 x_3^m +...+ \\theta_n x_n^m - \\hat{y}^{m})^2\\\\\n",
    "\\end{bmatrix}\n",
    "\\end{equation}\n",
    "\n",
    "$\\Lambda= [\\Lambda_1,\\Lambda_2, ...,\\Lambda_m]$\n",
    "\n",
    "$J = \\frac{1}{2m} \\sum_{i}^m \\Lambda_i $\n",
    "\n",
    "El gradiente descente, puede ser escrito como:\n",
    "\n",
    "\\begin{equation}\n",
    "\\Delta \\vec{\\Theta} =  - \\alpha \\nabla J(\\theta_0, \\theta_1,...,\\theta_n)\n",
    "\\end{equation}\n",
    "\n",
    "escogiendo el valor j-esimo tenemos que:\n",
    "\n",
    "\\begin{equation}\n",
    "\\theta_j :=  - \\alpha \\frac{\\partial J(\\theta_0, \\theta_1,...\\theta_j...,\\theta_n)}{\\partial \\theta_j}\n",
    "\\end{equation}\n",
    "\n",
    "Aplicando lo anterior a a funcion de coste asociada a la metrica ecuclidiana, tenemos que:\n",
    "\n",
    "Para $j = 0$, \n",
    "\n",
    "\n",
    "\\begin{equation}\n",
    "\\theta_0 :=  - \\alpha \\frac{\\partial J(\\theta_0, \\theta_1,...\\theta_j...,\\theta_n)}{\\partial \\theta_0} = \\frac{1}{m}\\alpha \\sum_{i=1}^m (\\theta_j X_{ji} - \\hat{y}^{(i)}) 1\n",
    "\\end{equation}\n",
    "\n",
    "\n",
    "\n",
    "Para $0<j<n $\n",
    "\n",
    "\\begin{equation}\n",
    "\\theta_j :=  - \\alpha \\frac{\\partial J(\\theta_0, \\theta_1,...\\theta_j...,\\theta_n)}{\\partial \\theta_j} = \\frac{1}{m} \\alpha\\sum_{i=1}^m (\\theta_{j} X_{ji} - \\hat{y}^{(i)}) X_j\n",
    "\\end{equation}\n",
    "\n",
    "donde X_j es el vector de entrenamiento j-esimo.\n",
    "\n",
    "Lo  anterior puede ser generalizado como siguem, teniendo presente que $X_0 = \\vec{1}$\n",
    "\n",
    "\n",
    "Para $0\\leq j<n$, \n",
    "\n",
    "\\begin{equation}\n",
    "\\theta_j :=  - \\alpha \\frac{\\partial J(\\theta_0, \\theta_1,...\\theta_j...,\\theta_n)}{\\partial \\theta_j} = \\frac{1}{m} \\alpha\\sum_{i=1}^m (\\theta_j X_{ji} - \\hat{y}^{(i)}) X_j \n",
    "\\end{equation}\n",
    "\n",
    "\n"
   ]
  },
  {
   "cell_type": "markdown",
   "metadata": {
    "id": "9NDVyHfXZy4w"
   },
   "source": [
    "# Modelos polinomiales\n",
    "\n",
    "Otros modelos pueden ser ajustado. Consideremos una sola caracteristica,\n",
    "$y=h(\\theta_0,\\theta_1,\\theta_2,...,\\theta_n ) = \\theta_0 + \\theta_1 X_1$\n",
    "En este caso el exponente de la variable X habla de la complejidad del modelo, para un solo dato entrenamiento podemos lo siguiente:\n",
    "\n",
    "- Lineal\n",
    "\n",
    "  $h_{\\theta} = \\theta_0 + \\theta_1 x_1$\n",
    "\n",
    "- Orden 2\n",
    "\n",
    "  $h_{\\theta} = \\theta_0 + \\theta_1 x_1 + \\theta_2 x_1 ^2$\n",
    "\n",
    "  \n",
    "- Orden 3\n",
    "\n",
    "  $h_{\\theta} = \\theta_0 + \\theta_1 x_1 + \\theta_2 x_1 ^2 +  \\theta_2 x_1 ^3$\n",
    "\n",
    "\n"
   ]
  },
  {
   "cell_type": "code",
   "execution_count": 1,
   "metadata": {
    "id": "wy0QY6Cl3WJ6"
   },
   "outputs": [],
   "source": [
    "from sklearn.datasets import load_boston\n",
    "import pandas as pd\n",
    "import numpy as np\n",
    "import matplotlib.pyplot as plt\n",
    "from matplotlib import cm\n",
    "from matplotlib.ticker import LinearLocator\n",
    "import numpy as np\n",
    "\n",
    "#boston_dataset = load_boston()"
   ]
  },
  {
   "cell_type": "code",
   "execution_count": 2,
   "metadata": {
    "id": "QkMypmjH3WMd"
   },
   "outputs": [],
   "source": [
    "#data_url = \"http://lib.stat.cmu.edu/datasets/boston\"\n",
    "#raw_df = pd.read_csv(data_url, sep=\"\\s+\", skiprows=22, header=None)\n",
    "#data = np.hstack([raw_df.values[::2, :], raw_df.values[1::2, :2]])\n",
    "#target = raw_df.values[1::2, 2]"
   ]
  },
  {
   "cell_type": "code",
   "execution_count": 3,
   "metadata": {
    "id": "qcg4csdLvD75"
   },
   "outputs": [],
   "source": [
    "N=10\n",
    "x1 = np.linspace(-1, 1, N) \n",
    "x2 = np.linspace(-2, 2, N)\n",
    "y = 2*x1 - 3*x2 + 0.0 #+ 4*np.random.random(100) "
   ]
  },
  {
   "cell_type": "code",
   "execution_count": 4,
   "metadata": {
    "colab": {
     "base_uri": "https://localhost:8080/",
     "height": 248
    },
    "id": "MqOIUx-SvIF0",
    "outputId": "3ca41297-c499-40b9-f384-3bda73fd32f3"
   },
   "outputs": [
    {
     "data": {
      "image/png": "[encoded data removed]",
      "text/plain": [
       "<Figure size 432x288 with 1 Axes>"
      ]
     },
     "metadata": {
      "filenames": {
       "image/png": "C:\\Users\\salin\\Documents\\Docencia\\my_book\\AprendizajeEstadistico\\_build\\jupyter_execute\\Sesiones\\Sesion_05_regresion_multivariada_7_0.png"
      },
      "needs_background": "light"
     },
     "output_type": "display_data"
    }
   ],
   "source": [
    "N = 10\n",
    "X1,X2 = np.meshgrid(x1,x2)\n",
    "Y = 2*X1 - 3*X2 + 0.0\n",
    "fig, ax = plt.subplots(subplot_kw={\"projection\": \"3d\"})\n",
    "surf = ax.plot_surface(X1, X2, Y)\n",
    "#scatter = ax.scatter(x1, x2, y,\"-\")\n",
    "                       \n"
   ]
  },
  {
   "cell_type": "code",
   "execution_count": 5,
   "metadata": {
    "id": "wIxQXKLq5Qne"
   },
   "outputs": [],
   "source": [
    "# Construccion del modelo para cualquier valor de Theta y X\n",
    "# Generalizacion\n",
    "def linearRegresion(Theta_, _X_, m_training, n_features) : \n",
    "  m = m_training\n",
    "  n = n_features\n",
    "  shape_t = (n+1,1)\n",
    "  shape_x = (n+1,m)\n",
    "\n",
    "  if(shape_x != np.shape(_X_)):\n",
    "    print(f\"Revisar valores dimensiones Theta_ {_X_}\")\n",
    "    return 0  \n",
    " \n",
    "  if(shape_t != np.shape(Theta_)):\n",
    "    print(f\"Revisar valores dimensiones Theta_ {Theta_}\")\n",
    "    return 0\n",
    "  else :\n",
    "    return (Theta_.T@_X_)\n",
    "\n",
    "def cost_function(h, y):\n",
    "  J = (h-y)**2\n",
    "  \n",
    "  return J.mean()/2\n",
    "\n",
    "def gradiente_D(h,Theta_, _X_, y,alpha, m_training, n_features):  \n",
    "  grad=((h-y)*_X_.T).mean(axis=1)\n",
    "  theta=Theta_.T-alpha*grad\n",
    "  return theta"
   ]
  },
  {
   "cell_type": "code",
   "execution_count": 6,
   "metadata": {
    "id": "LnnFn44F8RdI"
   },
   "outputs": [],
   "source": [
    "N = 10\n",
    "m_training=10\n",
    "x1 = np.linspace(-1, 1, N) \n",
    "x2 = np.linspace(-1, 1, N)\n",
    "np.random.seed(30)\n",
    "y = 2*x1 - 3*x2  + 4*np.random.random(N) \n",
    "\n",
    "df = pd.DataFrame({\"Y\":y,\"X1\":x1, \"X2\":x2})\n",
    "df[\"ones\"] = np.ones(N)\n",
    "X = df[[\"ones\",\"X1\",\"X2\"]].values\n",
    "#y = np.reshape(df.Y.values, (1,N))\n",
    "\n",
    "#_X_ = np.matrix(X.T)\n",
    "Theta = np.array([2.0, 4, 5])\n",
    "Theta_ = np.reshape(Theta, (3, 1))"
   ]
  },
  {
   "cell_type": "code",
   "execution_count": 7,
   "metadata": {
    "colab": {
     "base_uri": "https://localhost:8080/",
     "height": 248
    },
    "id": "Kf-pqLPi3iBn",
    "outputId": "53dc1fba-de1f-437e-e627-2efe19144597"
   },
   "outputs": [
    {
     "data": {
      "image/png": "[encoded data removed]",
      "text/plain": [
       "<Figure size 432x288 with 1 Axes>"
      ]
     },
     "metadata": {
      "filenames": {
       "image/png": "C:\\Users\\salin\\Documents\\Docencia\\my_book\\AprendizajeEstadistico\\_build\\jupyter_execute\\Sesiones\\Sesion_05_regresion_multivariada_10_0.png"
      },
      "needs_background": "light"
     },
     "output_type": "display_data"
    }
   ],
   "source": [
    "N = 10\n",
    "X1,X2 = np.meshgrid(x1,x2)\n",
    "Y = 2*X1 - 3*X2  + 4*np.random.random(N) \n",
    "fig, ax = plt.subplots(subplot_kw={\"projection\": \"3d\"})\n",
    "surf = ax.plot_surface(X1, X2, Y)\n",
    "#scatter = ax.scatter(x1, x2, y,\"-\")"
   ]
  },
  {
   "cell_type": "code",
   "execution_count": 8,
   "metadata": {
    "id": "nIncP64T7mPq"
   },
   "outputs": [
    {
     "ename": "NameError",
     "evalue": "name 'gradD' is not defined",
     "output_type": "error",
     "traceback": [
      "\u001b[1;31m---------------------------------------------------------------------------\u001b[0m",
      "\u001b[1;31mNameError\u001b[0m                                 Traceback (most recent call last)",
      "Input \u001b[1;32mIn [8]\u001b[0m, in \u001b[0;36m<cell line: 3>\u001b[1;34m()\u001b[0m\n\u001b[0;32m      4\u001b[0m h \u001b[38;5;241m=\u001b[39m linearRegresion(Theta_, X\u001b[38;5;241m.\u001b[39mT, N, \u001b[38;5;241m2\u001b[39m)\n\u001b[0;32m      5\u001b[0m J \u001b[38;5;241m=\u001b[39m cost_function(h,y)  \n\u001b[1;32m----> 6\u001b[0m theta \u001b[38;5;241m=\u001b[39m \u001b[43mgradD\u001b[49m(h,Theta_, X,y, \u001b[38;5;241m0.1\u001b[39m, N,\u001b[38;5;241m2\u001b[39m)  \n\u001b[0;32m      7\u001b[0m Theta_ \u001b[38;5;241m=\u001b[39m theta\u001b[38;5;241m.\u001b[39mT\n\u001b[0;32m      8\u001b[0m t_\u001b[38;5;241m.\u001b[39mappend(theta[:\u001b[38;5;241m1\u001b[39m])\n",
      "\u001b[1;31mNameError\u001b[0m: name 'gradD' is not defined"
     ]
    }
   ],
   "source": [
    "cost=[]\n",
    "t_=[]\n",
    "for i in range(0, 1000):\n",
    "  h = linearRegresion(Theta_, X.T, N, 2)\n",
    "  J = cost_function(h,y)  \n",
    "  theta = gradD(h,Theta_, X,y, 0.1, N,2)  \n",
    "  Theta_ = theta.T\n",
    "  t_.append(theta[:1])\n",
    "  cost.append(J)"
   ]
  },
  {
   "cell_type": "code",
   "execution_count": null,
   "metadata": {
    "colab": {
     "base_uri": "https://localhost:8080/",
     "height": 296
    },
    "id": "xg3wgGDmJnBU",
    "outputId": "c3f67ab9-f9d5-44c2-9dce-bb64b3545a5e"
   },
   "outputs": [
    {
     "data": {
      "text/plain": [
       "Text(0.5, 0, 'iter')"
      ]
     },
     "execution_count": 316,
     "metadata": {},
     "output_type": "execute_result"
    },
    {
     "data": {
      "image/png": "[encoded data removed]",
      "text/plain": [
       "<Figure size 432x288 with 1 Axes>"
      ]
     },
     "metadata": {
      "filenames": {
       "image/png": "C:\\Users\\salin\\Documents\\Docencia\\my_book\\AprendizajeEstadistico\\_build\\jupyter_execute\\Sesiones\\Sesion_05_regresion_multivariada_12_1.png"
      },
      "needs_background": "light"
     },
     "output_type": "display_data"
    }
   ],
   "source": [
    "plt.plot(cost)\n",
    "plt.ylabel(\"J\")\n",
    "plt.xlabel(\"iter\")\n"
   ]
  },
  {
   "cell_type": "code",
   "execution_count": null,
   "metadata": {
    "colab": {
     "base_uri": "https://localhost:8080/"
    },
    "id": "62Uk4Av_Av_H",
    "outputId": "ef6f2abe-a4ee-4513-9bfc-1e8eed3b240f"
   },
   "outputs": [
    {
     "data": {
      "text/plain": [
       "array([3.25828205, 3.01244635, 2.76661066, 2.52077497, 2.27493927,\n",
       "       2.02910358, 1.78326789, 1.53743219, 1.2915965 , 1.04576081])"
      ]
     },
     "execution_count": 317,
     "metadata": {},
     "output_type": "execute_result"
    }
   ],
   "source": [
    "Theta_=np.array(Theta_)\n",
    "ymodelo = Theta_[0] + Theta_[1]*x1 + Theta_[2]*x2\n",
    "ymodelo"
   ]
  },
  {
   "cell_type": "code",
   "execution_count": null,
   "metadata": {
    "colab": {
     "base_uri": "https://localhost:8080/",
     "height": 282
    },
    "id": "vJN89y9i3JEe",
    "outputId": "74a02f57-68ed-4c23-980e-f4db46825133"
   },
   "outputs": [
    {
     "data": {
      "text/plain": [
       "[<matplotlib.lines.Line2D at 0x7ff33ffe5ed0>]"
      ]
     },
     "execution_count": 318,
     "metadata": {},
     "output_type": "execute_result"
    },
    {
     "data": {
      "image/png": "[encoded data removed]",
      "text/plain": [
       "<Figure size 432x288 with 1 Axes>"
      ]
     },
     "metadata": {
      "filenames": {
       "image/png": "C:\\Users\\salin\\Documents\\Docencia\\my_book\\AprendizajeEstadistico\\_build\\jupyter_execute\\Sesiones\\Sesion_05_regresion_multivariada_14_1.png"
      },
      "needs_background": "light"
     },
     "output_type": "display_data"
    }
   ],
   "source": [
    "error = abs((y-ymodelo))/y\n",
    "plt.plot(error)"
   ]
  },
  {
   "cell_type": "markdown",
   "metadata": {
    "id": "DQG9fcqi5euC"
   },
   "source": [
    "¿Qué sucede si las caracteristicas no estan escaladas?\n",
    "\n",
    "Es recomendable escalar en función de :\n",
    "\n",
    "\\begin{equation}\n",
    "x_i = \\frac{x_i-\\mu_i}{s_i}\n",
    "\\end{equation}\n",
    "\n",
    "\n",
    "\n",
    "$\\mu_i$:  es el promedio de los datos de la caracteristica i\n",
    "\n",
    "$s_i$:  es el rango de valores maximos o minimos o la desviacion estandar.\n",
    "\n",
    "Si el rango de valores de la caracteristica xi esta entre  [200,3000] y la media de valores es 2000, tenemos que \n",
    "\n",
    "\\begin{equation}\n",
    "x_i = \\frac{x_i-2000}{2800}\n",
    "\\end{equation}\n",
    "\n",
    "\n",
    "\n",
    "\n",
    "\n"
   ]
  },
  {
   "cell_type": "code",
   "execution_count": null,
   "metadata": {
    "id": "1ObVS6WS7FxT"
   },
   "outputs": [],
   "source": [
    "N = 10\n",
    "m_training=10\n",
    "x1 = np.linspace(-1, 1, N) \n",
    "x2 = np.linspace(-2000, 2000, N)\n",
    "np.random.seed(30)\n",
    "y = 2*x1 - 3*x2  + 4*np.random.random(N) \n",
    "\n",
    "df = pd.DataFrame({\"Y\":y,\"X1\":x1, \"X2\":x2})\n",
    "df[\"ones\"] = np.ones(N)\n",
    "X = df[[\"ones\",\"X1\",\"X2\"]].values\n",
    "#y = np.reshape(df.Y.values, (1,N))\n",
    "\n",
    "#_X_ = np.matrix(X.T)\n",
    "Theta = np.array([2.0, 4, 5])\n",
    "Theta_ = np.reshape(Theta, (3, 1))"
   ]
  },
  {
   "cell_type": "code",
   "execution_count": null,
   "metadata": {
    "id": "FdbR-Mkf7L5T"
   },
   "outputs": [],
   "source": [
    "cost=[]\n",
    "t_=[]\n",
    "for i in range(0, 1000):\n",
    "  h = linearRegresion(Theta_, X.T, N, 2)\n",
    "  J = cost_function(h,y)  \n",
    "  theta = gradD(h,Theta_, X,y, 0.1, N,2)  \n",
    "  Theta_ = theta.T\n",
    "  t_.append(theta[:1])\n",
    "  cost.append(J)\n",
    "# NO hay convergencia "
   ]
  },
  {
   "cell_type": "code",
   "execution_count": null,
   "metadata": {
    "colab": {
     "base_uri": "https://localhost:8080/",
     "height": 282
    },
    "id": "3h9y-1bJ7Owu",
    "outputId": "097dda8d-eb88-4e30-a98c-ceb1ff6d05aa"
   },
   "outputs": [
    {
     "data": {
      "text/plain": [
       "[<matplotlib.lines.Line2D at 0x7ff340057d50>]"
      ]
     },
     "execution_count": 323,
     "metadata": {},
     "output_type": "execute_result"
    },
    {
     "data": {
      "image/png": "[encoded data removed]",
      "text/plain": [
       "<Figure size 432x288 with 1 Axes>"
      ]
     },
     "metadata": {
      "filenames": {
       "image/png": "C:\\Users\\salin\\Documents\\Docencia\\my_book\\AprendizajeEstadistico\\_build\\jupyter_execute\\Sesiones\\Sesion_05_regresion_multivariada_18_1.png"
      },
      "needs_background": "light"
     },
     "output_type": "display_data"
    }
   ],
   "source": [
    "plt.plot(cost)"
   ]
  },
  {
   "cell_type": "code",
   "execution_count": null,
   "metadata": {
    "id": "zzOZM6VE7Rq6"
   },
   "outputs": [],
   "source": [
    "N = 10\n",
    "m_training=10\n",
    "x1 = np.linspace(-1, 1, N) \n",
    "x2 = np.linspace(-2000, 2000, N)\n",
    "x2 =  (x2-np.mean(x2))/(max(x2)-min(x2))\n",
    "\n",
    "np.random.seed(30)\n",
    "y = 2*x1 - 3*x2  + 4*np.random.random(N) \n",
    "\n",
    "df = pd.DataFrame({\"Y\":y,\"X1\":x1, \"X2\":x2})\n",
    "df[\"ones\"] = np.ones(N)\n",
    "X = df[[\"ones\",\"X1\",\"X2\"]].values\n",
    "#y = np.reshape(df.Y.values, (1,N))\n",
    "\n",
    "#_X_ = np.matrix(X.T)\n",
    "Theta = np.array([2.0, 4, 5])\n",
    "Theta_ = np.reshape(Theta, (3, 1))"
   ]
  },
  {
   "cell_type": "code",
   "execution_count": null,
   "metadata": {
    "colab": {
     "base_uri": "https://localhost:8080/",
     "height": 282
    },
    "id": "MKA1gNYF7mmU",
    "outputId": "083b84ae-8ade-4f57-c229-01adf8adfb6f"
   },
   "outputs": [
    {
     "data": {
      "text/plain": [
       "[<matplotlib.lines.Line2D at 0x7ff33fc2b5d0>]"
      ]
     },
     "execution_count": 331,
     "metadata": {},
     "output_type": "execute_result"
    },
    {
     "data": {
      "image/png": "[encoded data removed]",
      "text/plain": [
       "<Figure size 432x288 with 1 Axes>"
      ]
     },
     "metadata": {
      "filenames": {
       "image/png": "C:\\Users\\salin\\Documents\\Docencia\\my_book\\AprendizajeEstadistico\\_build\\jupyter_execute\\Sesiones\\Sesion_05_regresion_multivariada_20_1.png"
      },
      "needs_background": "light"
     },
     "output_type": "display_data"
    }
   ],
   "source": [
    "cost=[]\n",
    "t_=[]\n",
    "for i in range(0, 1000):\n",
    "  h = linearRegresion(Theta_, X.T, N, 2)\n",
    "  J = cost_function(h,y)  \n",
    "  theta = gradD(h,Theta_, X,y, 0.1, N,2)  \n",
    "  Theta_ = theta.T\n",
    "  t_.append(theta[:1])\n",
    "  cost.append(J)\n",
    "\n",
    "plt.plot(cost)"
   ]
  }
 ],
 "metadata": {
  "colab": {
   "name": "Sesion_05_regresion_multivariada",
   "provenance": []
  },
  "kernelspec": {
   "display_name": "Python 3",
   "name": "python3"
  },
  "language_info": {
   "codemirror_mode": {
    "name": "ipython",
    "version": 3
   },
   "file_extension": ".py",
   "mimetype": "text/x-python",
   "name": "python",
   "nbconvert_exporter": "python",
   "pygments_lexer": "ipython3",
   "version": "3.10.0"
  }
 },
 "nbformat": 4,
 "nbformat_minor": 0
}