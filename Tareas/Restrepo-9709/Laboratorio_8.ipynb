{
 "cells": [
  {
   "cell_type": "markdown",
   "id": "ec0b03c7",
   "metadata": {},
   "source": [
    "Alejandro Restrepo Giraldo CC: 1001389709\n",
    "\n",
    "# Laboratorio 8.0"
   ]
  },
  {
   "cell_type": "code",
   "execution_count": 1,
   "id": "cb2d61d1",
   "metadata": {},
   "outputs": [
    {
     "name": "stderr",
     "output_type": "stream",
     "text": [
      "2022-08-28 20:31:12.887560: W tensorflow/stream_executor/platform/default/dso_loader.cc:64] Could not load dynamic library 'libcudart.so.11.0'; dlerror: libcudart.so.11.0: cannot open shared object file: No such file or directory\n",
      "2022-08-28 20:31:12.887634: I tensorflow/stream_executor/cuda/cudart_stub.cc:29] Ignore above cudart dlerror if you do not have a GPU set up on your machine.\n"
     ]
    }
   ],
   "source": [
    "# Librerías \n",
    "import pandas as pd\n",
    "import numpy as np\n",
    "import h5py\n",
    "import matplotlib.pyplot as plt\n",
    "from tensorflow import keras"
   ]
  },
  {
   "cell_type": "markdown",
   "id": "95970d16",
   "metadata": {},
   "source": [
    "#### Se cargan los datos"
   ]
  },
  {
   "cell_type": "code",
   "execution_count": 2,
   "id": "e9aea246",
   "metadata": {},
   "outputs": [],
   "source": [
    "data_train= \"Curso_aprendizaje_estadistico/Assesment/dataset/train_catvnoncat.h5\"\n",
    "train_dataset = h5py.File(data_train, \"r\")\n",
    " \n",
    "data_test= \"Curso_aprendizaje_estadistico/Assesment/dataset/test_catvnoncat.h5\"\n",
    "test_dataset = h5py.File(data_test, \"r\")"
   ]
  },
  {
   "cell_type": "code",
   "execution_count": 3,
   "id": "0f059a39",
   "metadata": {},
   "outputs": [
    {
     "data": {
      "text/plain": [
       "<KeysViewHDF5 ['list_classes', 'train_set_x', 'train_set_y']>"
      ]
     },
     "execution_count": 3,
     "metadata": {},
     "output_type": "execute_result"
    }
   ],
   "source": [
    "train_dataset.keys()"
   ]
  },
  {
   "cell_type": "code",
   "execution_count": 4,
   "id": "acd58810",
   "metadata": {},
   "outputs": [],
   "source": [
    "# Read the data\n",
    "xtrain_classes, xtrain, train_label =\\\n",
    "train_dataset[\"list_classes\"],train_dataset[\"train_set_x\"],train_dataset[\"train_set_y\"]\n",
    "\n",
    "test_classes, xtest,test_label =\\\n",
    "test_dataset[\"list_classes\"],test_dataset[\"test_set_x\"],test_dataset[\"test_set_y\"]"
   ]
  },
  {
   "cell_type": "code",
   "execution_count": 5,
   "id": "028fac91",
   "metadata": {},
   "outputs": [
    {
     "data": {
      "text/plain": [
       "<matplotlib.image.AxesImage at 0x7fb0eaf0e3c8>"
      ]
     },
     "execution_count": 5,
     "metadata": {},
     "output_type": "execute_result"
    },
    {
     "data": {
      "image/png": "[encoded data removed]",
      "text/plain": [
       "<Figure size 432x288 with 1 Axes>"
      ]
     },
     "metadata": {
      "needs_background": "light"
     },
     "output_type": "display_data"
    }
   ],
   "source": [
    "plt.imshow(xtrain[200])"
   ]
  },
  {
   "cell_type": "code",
   "execution_count": 6,
   "id": "7ac38215",
   "metadata": {},
   "outputs": [],
   "source": [
    "# Se vectorizan los datos\n",
    "xtrain_ = np.reshape(xtrain,(209, 64*64*3))/255\n",
    "xtest_ = np.reshape(xtest,(50, 64*64*3))/255\n",
    "\n",
    "train_label_ = np.reshape(train_label,209)\n",
    "test_label_ = np.reshape(test_label,50)"
   ]
  },
  {
   "cell_type": "markdown",
   "id": "6d70f4de",
   "metadata": {},
   "source": [
    "#### Modelo de red neuronal (NN)"
   ]
  },
  {
   "cell_type": "code",
   "execution_count": 12,
   "id": "a7d3400d",
   "metadata": {},
   "outputs": [],
   "source": [
    "#  Topología de la red: [12288, 3, 4, 1] con la función de activación \n",
    "\n",
    "model = keras.models.Sequential()\n",
    "model.add(keras.layers.Dense(3, input_dim=12288, activation='relu'))\n",
    "model.add(keras.layers.Dense(4, activation = 'relu'))\n",
    "model.add(keras.layers.Dense(1, activation = 'softmax'))"
   ]
  },
  {
   "cell_type": "code",
   "execution_count": 13,
   "id": "52a3e899",
   "metadata": {},
   "outputs": [
    {
     "name": "stdout",
     "output_type": "stream",
     "text": [
      "Model: \"sequential_1\"\n",
      "_________________________________________________________________\n",
      " Layer (type)                Output Shape              Param #   \n",
      "=================================================================\n",
      " dense_4 (Dense)             (None, 3)                 36867     \n",
      "                                                                 \n",
      " dense_5 (Dense)             (None, 4)                 16        \n",
      "                                                                 \n",
      " dense_6 (Dense)             (None, 1)                 5         \n",
      "                                                                 \n",
      "=================================================================\n",
      "Total params: 36,888\n",
      "Trainable params: 36,888\n",
      "Non-trainable params: 0\n",
      "_________________________________________________________________\n"
     ]
    }
   ],
   "source": [
    "model.summary()"
   ]
  },
  {
   "cell_type": "code",
   "execution_count": 14,
   "id": "9dc7637b",
   "metadata": {},
   "outputs": [],
   "source": [
    "# Se especifica la función de coste, el optimizador y la métrica\n",
    "opt = keras.optimizers.SGD(lr=0.01)\n",
    "model.compile(loss='binary_crossentropy', optimizer=opt, metrics=['accuracy'])"
   ]
  },
  {
   "cell_type": "code",
   "execution_count": 15,
   "id": "cb27855c",
   "metadata": {
    "scrolled": true
   },
   "outputs": [
    {
     "name": "stdout",
     "output_type": "stream",
     "text": [
      "Epoch 1/20\n",
      "7/7 - 1s - loss: 0.6674 - accuracy: 0.3445 - val_loss: 0.7944 - val_accuracy: 0.6600 - 601ms/epoch - 86ms/step\n",
      "Epoch 2/20\n",
      "7/7 - 0s - loss: 0.6581 - accuracy: 0.3445 - val_loss: 0.8589 - val_accuracy: 0.6600 - 58ms/epoch - 8ms/step\n",
      "Epoch 3/20\n",
      "7/7 - 0s - loss: 0.6547 - accuracy: 0.3445 - val_loss: 0.8145 - val_accuracy: 0.6600 - 51ms/epoch - 7ms/step\n",
      "Epoch 4/20\n",
      "7/7 - 0s - loss: 0.6479 - accuracy: 0.3445 - val_loss: 0.7997 - val_accuracy: 0.6600 - 49ms/epoch - 7ms/step\n",
      "Epoch 5/20\n",
      "7/7 - 0s - loss: 0.6456 - accuracy: 0.3445 - val_loss: 0.7841 - val_accuracy: 0.6600 - 49ms/epoch - 7ms/step\n",
      "Epoch 6/20\n",
      "7/7 - 0s - loss: 0.6462 - accuracy: 0.3445 - val_loss: 0.8044 - val_accuracy: 0.6600 - 47ms/epoch - 7ms/step\n",
      "Epoch 7/20\n",
      "7/7 - 0s - loss: 0.6364 - accuracy: 0.3445 - val_loss: 0.9128 - val_accuracy: 0.6600 - 51ms/epoch - 7ms/step\n",
      "Epoch 8/20\n",
      "7/7 - 0s - loss: 0.6357 - accuracy: 0.3445 - val_loss: 0.8119 - val_accuracy: 0.6600 - 55ms/epoch - 8ms/step\n",
      "Epoch 9/20\n",
      "7/7 - 0s - loss: 0.6334 - accuracy: 0.3445 - val_loss: 0.8991 - val_accuracy: 0.6600 - 51ms/epoch - 7ms/step\n",
      "Epoch 10/20\n",
      "7/7 - 0s - loss: 0.6318 - accuracy: 0.3445 - val_loss: 0.7670 - val_accuracy: 0.6600 - 47ms/epoch - 7ms/step\n",
      "Epoch 11/20\n",
      "7/7 - 0s - loss: 0.6295 - accuracy: 0.3445 - val_loss: 0.8884 - val_accuracy: 0.6600 - 45ms/epoch - 6ms/step\n",
      "Epoch 12/20\n",
      "7/7 - 0s - loss: 0.6293 - accuracy: 0.3445 - val_loss: 0.9134 - val_accuracy: 0.6600 - 50ms/epoch - 7ms/step\n",
      "Epoch 13/20\n",
      "7/7 - 0s - loss: 0.6211 - accuracy: 0.3445 - val_loss: 0.8536 - val_accuracy: 0.6600 - 46ms/epoch - 7ms/step\n",
      "Epoch 14/20\n",
      "7/7 - 0s - loss: 0.6154 - accuracy: 0.3445 - val_loss: 0.8432 - val_accuracy: 0.6600 - 45ms/epoch - 6ms/step\n",
      "Epoch 15/20\n",
      "7/7 - 0s - loss: 0.6121 - accuracy: 0.3445 - val_loss: 0.7473 - val_accuracy: 0.6600 - 53ms/epoch - 8ms/step\n",
      "Epoch 16/20\n",
      "7/7 - 0s - loss: 0.6072 - accuracy: 0.3445 - val_loss: 0.7975 - val_accuracy: 0.6600 - 52ms/epoch - 7ms/step\n",
      "Epoch 17/20\n",
      "7/7 - 0s - loss: 0.6031 - accuracy: 0.3445 - val_loss: 0.7140 - val_accuracy: 0.6600 - 47ms/epoch - 7ms/step\n",
      "Epoch 18/20\n",
      "7/7 - 0s - loss: 0.5946 - accuracy: 0.3445 - val_loss: 0.8723 - val_accuracy: 0.6600 - 48ms/epoch - 7ms/step\n",
      "Epoch 19/20\n",
      "7/7 - 0s - loss: 0.5980 - accuracy: 0.3445 - val_loss: 0.9591 - val_accuracy: 0.6600 - 48ms/epoch - 7ms/step\n",
      "Epoch 20/20\n",
      "7/7 - 0s - loss: 0.5971 - accuracy: 0.3445 - val_loss: 0.8235 - val_accuracy: 0.6600 - 46ms/epoch - 7ms/step\n"
     ]
    }
   ],
   "source": [
    "# Se entrena la red neuronal\n",
    "history = model.fit(xtrain_, train_label_ , validation_data=(xtest_, test_label_),  epochs= 20, verbose=2)"
   ]
  },
  {
   "cell_type": "code",
   "execution_count": 16,
   "id": "df0ab8b0",
   "metadata": {},
   "outputs": [
    {
     "name": "stdout",
     "output_type": "stream",
     "text": [
      "Train: 0.344, Test: 0.660\n"
     ]
    },
    {
     "data": {
      "image/png": "[encoded data removed]",
      "text/plain": [
       "<Figure size 1008x504 with 2 Axes>"
      ]
     },
     "metadata": {
      "needs_background": "light"
     },
     "output_type": "display_data"
    }
   ],
   "source": [
    "# Evaluación del modelo\n",
    "_, train_acc = model.evaluate(xtrain_, train_label_, verbose=0)\n",
    "_, test_acc = model.evaluate(xtest_, test_label_, verbose=0)\n",
    "print('Train: %.3f, Test: %.3f' % (train_acc, test_acc))\n",
    "\n",
    "# Gráficas:\n",
    "plt.figure(figsize=(14,7))\n",
    "\n",
    "# Gráfica de pérdidas durante el entrenamiento\n",
    "plt.subplot(121)\n",
    "plt.title('Loss')\n",
    "plt.plot(history.history['loss'], label='train')\n",
    "plt.plot(history.history['val_loss'], label='test')\n",
    "plt.legend()\n",
    "\n",
    "# Gráfica de las precisión durante el entrenamiento\n",
    "plt.subplot(122)\n",
    "plt.title('Accuracy')\n",
    "plt.plot(history.history['accuracy'], label='train')\n",
    "plt.plot(history.history['val_accuracy'], label='test')\n",
    "plt.legend()\n",
    "plt.show()"
   ]
  },
  {
   "cell_type": "code",
   "execution_count": null,
   "id": "e8c579b5",
   "metadata": {},
   "outputs": [],
   "source": []
  },
  {
   "cell_type": "code",
   "execution_count": null,
   "id": "bcaeb157",
   "metadata": {},
   "outputs": [],
   "source": []
  },
  {
   "cell_type": "code",
   "execution_count": null,
   "id": "dc654a83",
   "metadata": {},
   "outputs": [],
   "source": []
  }
 ],
 "metadata": {
  "kernelspec": {
   "display_name": "Python 3 (ipykernel)",
   "language": "python",
   "name": "python3"
  },
  "language_info": {
   "codemirror_mode": {
    "name": "ipython",
    "version": 3
   },
   "file_extension": ".py",
   "mimetype": "text/x-python",
   "name": "python",
   "nbconvert_exporter": "python",
   "pygments_lexer": "ipython3",
   "version": "3.7.3"
  }
 },
 "nbformat": 4,
 "nbformat_minor": 5
}
