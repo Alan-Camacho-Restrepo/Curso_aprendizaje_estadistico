{
 "cells": [
  {
   "cell_type": "markdown",
   "id": "53681ecf",
   "metadata": {},
   "source": [
    "Alejandro Restrepo Giraldo CC: 1001389709\n",
    "\n",
    "# Laboratorio 8.0"
   ]
  },
  {
   "cell_type": "code",
   "execution_count": 2,
   "id": "92a4a4a1",
   "metadata": {},
   "outputs": [
    {
     "name": "stderr",
     "output_type": "stream",
     "text": [
      "2022-08-29 20:14:14.627759: W tensorflow/stream_executor/platform/default/dso_loader.cc:64] Could not load dynamic library 'libcudart.so.11.0'; dlerror: libcudart.so.11.0: cannot open shared object file: No such file or directory\n",
      "2022-08-29 20:14:14.627823: I tensorflow/stream_executor/cuda/cudart_stub.cc:29] Ignore above cudart dlerror if you do not have a GPU set up on your machine.\n"
     ]
    }
   ],
   "source": [
    "# Librerías \n",
    "import pandas as pd\n",
    "import numpy as np\n",
    "import h5py\n",
    "import matplotlib.pyplot as plt\n",
    "from tensorflow import keras"
   ]
  },
  {
   "cell_type": "markdown",
   "id": "b0526744",
   "metadata": {},
   "source": [
    "#### Se cargan los datos"
   ]
  },
  {
   "cell_type": "code",
   "execution_count": 3,
   "id": "8fc27e01",
   "metadata": {},
   "outputs": [],
   "source": [
    "data_train= \"Curso_aprendizaje_estadistico/Assesment/dataset/train_catvnoncat.h5\"\n",
    "train_dataset = h5py.File(data_train, \"r\")\n",
    " \n",
    "data_test= \"Curso_aprendizaje_estadistico/Assesment/dataset/test_catvnoncat.h5\"\n",
    "test_dataset = h5py.File(data_test, \"r\")"
   ]
  },
  {
   "cell_type": "code",
   "execution_count": 4,
   "id": "0f62d331",
   "metadata": {},
   "outputs": [
    {
     "data": {
      "text/plain": [
       "<KeysViewHDF5 ['list_classes', 'train_set_x', 'train_set_y']>"
      ]
     },
     "execution_count": 4,
     "metadata": {},
     "output_type": "execute_result"
    }
   ],
   "source": [
    "train_dataset.keys()"
   ]
  },
  {
   "cell_type": "code",
   "execution_count": 5,
   "id": "65dc78b7",
   "metadata": {},
   "outputs": [],
   "source": [
    "# Read the data\n",
    "xtrain_classes, xtrain, train_label =\\\n",
    "train_dataset[\"list_classes\"],train_dataset[\"train_set_x\"],train_dataset[\"train_set_y\"]\n",
    "\n",
    "test_classes, xtest,test_label =\\\n",
    "test_dataset[\"list_classes\"],test_dataset[\"test_set_x\"],test_dataset[\"test_set_y\"]"
   ]
  },
  {
   "cell_type": "code",
   "execution_count": 6,
   "id": "e4e4a151",
   "metadata": {},
   "outputs": [
    {
     "data": {
      "text/plain": [
       "<matplotlib.image.AxesImage at 0x7f980a9746d8>"
      ]
     },
     "execution_count": 6,
     "metadata": {},
     "output_type": "execute_result"
    },
    {
     "data": {
      "image/png": "[encoded data removed]",
      "text/plain": [
       "<Figure size 432x288 with 1 Axes>"
      ]
     },
     "metadata": {
      "needs_background": "light"
     },
     "output_type": "display_data"
    }
   ],
   "source": [
    "plt.imshow(xtrain[200])"
   ]
  },
  {
   "cell_type": "code",
   "execution_count": 7,
   "id": "cc978108",
   "metadata": {},
   "outputs": [],
   "source": [
    "# Se vectorizan los datos\n",
    "xtrain_ = np.reshape(xtrain,(209, 64*64*3))/255\n",
    "xtest_ = np.reshape(xtest,(50, 64*64*3))/255\n",
    "\n",
    "train_label_ = np.reshape(train_label,209)\n",
    "test_label_ = np.reshape(test_label,50)"
   ]
  },
  {
   "cell_type": "markdown",
   "id": "9fe25cc3",
   "metadata": {},
   "source": [
    "#### Modelo de red neuronal (NN)"
   ]
  },
  {
   "cell_type": "code",
   "execution_count": 8,
   "id": "576c009b",
   "metadata": {},
   "outputs": [
    {
     "name": "stderr",
     "output_type": "stream",
     "text": [
      "2022-08-29 20:14:27.538936: W tensorflow/stream_executor/platform/default/dso_loader.cc:64] Could not load dynamic library 'libcuda.so.1'; dlerror: libcuda.so.1: cannot open shared object file: No such file or directory\n",
      "2022-08-29 20:14:27.539748: W tensorflow/stream_executor/cuda/cuda_driver.cc:269] failed call to cuInit: UNKNOWN ERROR (303)\n",
      "2022-08-29 20:14:27.539780: I tensorflow/stream_executor/cuda/cuda_diagnostics.cc:156] kernel driver does not appear to be running on this host (usuario-X405UA): /proc/driver/nvidia/version does not exist\n",
      "2022-08-29 20:14:27.540829: I tensorflow/core/platform/cpu_feature_guard.cc:193] This TensorFlow binary is optimized with oneAPI Deep Neural Network Library (oneDNN) to use the following CPU instructions in performance-critical operations:  AVX2 FMA\n",
      "To enable them in other operations, rebuild TensorFlow with the appropriate compiler flags.\n"
     ]
    }
   ],
   "source": [
    "#  Topología de la red: [12288, 3, 5, 5, 1] con la función de activación relu y en la\n",
    "#  última capa la softmax\n",
    "\n",
    "model = keras.models.Sequential()\n",
    "model.add(keras.layers.Dense(3, input_dim=12288, activation='relu'))\n",
    "model.add(keras.layers.Dense(5, activation = 'relu'))\n",
    "model.add(keras.layers.Dense(5, activation = 'relu'))\n",
    "model.add(keras.layers.Dense(1, activation = 'softmax'))"
   ]
  },
  {
   "cell_type": "code",
   "execution_count": 9,
   "id": "ea87ba6b",
   "metadata": {},
   "outputs": [
    {
     "name": "stdout",
     "output_type": "stream",
     "text": [
      "Model: \"sequential\"\n",
      "_________________________________________________________________\n",
      " Layer (type)                Output Shape              Param #   \n",
      "=================================================================\n",
      " dense (Dense)               (None, 3)                 36867     \n",
      "                                                                 \n",
      " dense_1 (Dense)             (None, 5)                 20        \n",
      "                                                                 \n",
      " dense_2 (Dense)             (None, 5)                 30        \n",
      "                                                                 \n",
      " dense_3 (Dense)             (None, 1)                 6         \n",
      "                                                                 \n",
      "=================================================================\n",
      "Total params: 36,923\n",
      "Trainable params: 36,923\n",
      "Non-trainable params: 0\n",
      "_________________________________________________________________\n"
     ]
    }
   ],
   "source": [
    "model.summary()"
   ]
  },
  {
   "cell_type": "code",
   "execution_count": 10,
   "id": "24a598b2",
   "metadata": {},
   "outputs": [
    {
     "name": "stderr",
     "output_type": "stream",
     "text": [
      "/home/usuario/anaconda3/lib/python3.7/site-packages/keras/optimizers/optimizer_v2/gradient_descent.py:108: UserWarning: The `lr` argument is deprecated, use `learning_rate` instead.\n",
      "  super(SGD, self).__init__(name, **kwargs)\n"
     ]
    }
   ],
   "source": [
    "# Se especifica la función de coste, el optimizador y la métrica\n",
    "opt = keras.optimizers.SGD(lr=0.01)\n",
    "model.compile(loss='binary_crossentropy', optimizer=opt, metrics=['accuracy'])"
   ]
  },
  {
   "cell_type": "code",
   "execution_count": 11,
   "id": "088ae9aa",
   "metadata": {
    "scrolled": true
   },
   "outputs": [
    {
     "name": "stdout",
     "output_type": "stream",
     "text": [
      "Epoch 1/20\n",
      "7/7 - 1s - loss: 0.6577 - accuracy: 0.3445 - val_loss: 0.7342 - val_accuracy: 0.6600 - 1s/epoch - 150ms/step\n",
      "Epoch 2/20\n",
      "7/7 - 0s - loss: 0.6460 - accuracy: 0.3445 - val_loss: 0.7683 - val_accuracy: 0.6600 - 58ms/epoch - 8ms/step\n",
      "Epoch 3/20\n",
      "7/7 - 0s - loss: 0.6343 - accuracy: 0.3445 - val_loss: 0.7413 - val_accuracy: 0.6600 - 58ms/epoch - 8ms/step\n",
      "Epoch 4/20\n",
      "7/7 - 0s - loss: 0.6448 - accuracy: 0.3445 - val_loss: 0.7357 - val_accuracy: 0.6600 - 64ms/epoch - 9ms/step\n",
      "Epoch 5/20\n",
      "7/7 - 0s - loss: 0.6213 - accuracy: 0.3445 - val_loss: 0.8104 - val_accuracy: 0.6600 - 53ms/epoch - 8ms/step\n",
      "Epoch 6/20\n",
      "7/7 - 0s - loss: 0.6218 - accuracy: 0.3445 - val_loss: 0.7852 - val_accuracy: 0.6600 - 63ms/epoch - 9ms/step\n",
      "Epoch 7/20\n",
      "7/7 - 0s - loss: 0.6125 - accuracy: 0.3445 - val_loss: 0.7908 - val_accuracy: 0.6600 - 62ms/epoch - 9ms/step\n",
      "Epoch 8/20\n",
      "7/7 - 0s - loss: 0.6060 - accuracy: 0.3445 - val_loss: 0.7765 - val_accuracy: 0.6600 - 65ms/epoch - 9ms/step\n",
      "Epoch 9/20\n",
      "7/7 - 0s - loss: 0.6027 - accuracy: 0.3445 - val_loss: 0.8012 - val_accuracy: 0.6600 - 52ms/epoch - 7ms/step\n",
      "Epoch 10/20\n",
      "7/7 - 0s - loss: 0.6124 - accuracy: 0.3445 - val_loss: 0.8411 - val_accuracy: 0.6600 - 54ms/epoch - 8ms/step\n",
      "Epoch 11/20\n",
      "7/7 - 0s - loss: 0.5957 - accuracy: 0.3445 - val_loss: 0.8002 - val_accuracy: 0.6600 - 56ms/epoch - 8ms/step\n",
      "Epoch 12/20\n",
      "7/7 - 0s - loss: 0.6069 - accuracy: 0.3445 - val_loss: 0.8072 - val_accuracy: 0.6600 - 57ms/epoch - 8ms/step\n",
      "Epoch 13/20\n",
      "7/7 - 0s - loss: 0.5821 - accuracy: 0.3445 - val_loss: 0.8156 - val_accuracy: 0.6600 - 67ms/epoch - 10ms/step\n",
      "Epoch 14/20\n",
      "7/7 - 0s - loss: 0.5862 - accuracy: 0.3445 - val_loss: 0.9476 - val_accuracy: 0.6600 - 58ms/epoch - 8ms/step\n",
      "Epoch 15/20\n",
      "7/7 - 0s - loss: 0.5758 - accuracy: 0.3445 - val_loss: 0.8201 - val_accuracy: 0.6600 - 53ms/epoch - 8ms/step\n",
      "Epoch 16/20\n",
      "7/7 - 0s - loss: 0.5747 - accuracy: 0.3445 - val_loss: 0.8410 - val_accuracy: 0.6600 - 52ms/epoch - 7ms/step\n",
      "Epoch 17/20\n",
      "7/7 - 0s - loss: 0.5901 - accuracy: 0.3445 - val_loss: 0.8513 - val_accuracy: 0.6600 - 55ms/epoch - 8ms/step\n",
      "Epoch 18/20\n",
      "7/7 - 0s - loss: 0.5823 - accuracy: 0.3445 - val_loss: 0.8291 - val_accuracy: 0.6600 - 60ms/epoch - 9ms/step\n",
      "Epoch 19/20\n",
      "7/7 - 0s - loss: 0.5962 - accuracy: 0.3445 - val_loss: 1.2518 - val_accuracy: 0.6600 - 56ms/epoch - 8ms/step\n",
      "Epoch 20/20\n",
      "7/7 - 0s - loss: 0.5915 - accuracy: 0.3445 - val_loss: 0.8568 - val_accuracy: 0.6600 - 57ms/epoch - 8ms/step\n"
     ]
    }
   ],
   "source": [
    "# Se entrena la red neuronal\n",
    "history = model.fit(xtrain_, train_label_ , validation_data=(xtest_, test_label_),  epochs= 20, verbose=2)"
   ]
  },
  {
   "cell_type": "code",
   "execution_count": 12,
   "id": "32906999",
   "metadata": {},
   "outputs": [
    {
     "name": "stdout",
     "output_type": "stream",
     "text": [
      "Train: 0.344, Test: 0.660\n"
     ]
    },
    {
     "data": {
      "image/png": "[encoded data removed]",
      "text/plain": [
       "<Figure size 1008x504 with 2 Axes>"
      ]
     },
     "metadata": {
      "needs_background": "light"
     },
     "output_type": "display_data"
    }
   ],
   "source": [
    "# Evaluación del modelo\n",
    "_, train_acc = model.evaluate(xtrain_, train_label_, verbose=0)\n",
    "_, test_acc = model.evaluate(xtest_, test_label_, verbose=0)\n",
    "print('Train: %.3f, Test: %.3f' % (train_acc, test_acc))\n",
    "\n",
    "# Gráficas:\n",
    "plt.figure(figsize=(14,7))\n",
    "\n",
    "# Gráfica de pérdidas durante el entrenamiento\n",
    "plt.subplot(121)\n",
    "plt.title('Loss')\n",
    "plt.plot(history.history['loss'], label='train')\n",
    "plt.plot(history.history['val_loss'], label='test')\n",
    "plt.legend()\n",
    "\n",
    "# Gráfica de las precisión durante el entrenamiento\n",
    "plt.subplot(122)\n",
    "plt.title('Accuracy')\n",
    "plt.plot(history.history['accuracy'], label='train')\n",
    "plt.plot(history.history['val_accuracy'], label='test')\n",
    "plt.legend()\n",
    "plt.show()"
   ]
  },
  {
   "cell_type": "code",
   "execution_count": null,
   "id": "3d5e438f",
   "metadata": {},
   "outputs": [],
   "source": []
  },
  {
   "cell_type": "code",
   "execution_count": null,
   "id": "b56973b1",
   "metadata": {},
   "outputs": [],
   "source": []
  },
  {
   "cell_type": "code",
   "execution_count": null,
   "id": "7b9340f1",
   "metadata": {},
   "outputs": [],
   "source": []
  }
 ],
 "metadata": {
  "kernelspec": {
   "display_name": "Python 3 (ipykernel)",
   "language": "python",
   "name": "python3"
  },
  "language_info": {
   "codemirror_mode": {
    "name": "ipython",
    "version": 3
   },
   "file_extension": ".py",
   "mimetype": "text/x-python",
   "name": "python",
   "nbconvert_exporter": "python",
   "pygments_lexer": "ipython3",
   "version": "3.7.3"
  }
 },
 "nbformat": 4,
 "nbformat_minor": 5
}
