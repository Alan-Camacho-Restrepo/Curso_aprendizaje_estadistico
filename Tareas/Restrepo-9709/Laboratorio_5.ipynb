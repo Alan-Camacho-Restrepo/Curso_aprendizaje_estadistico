{
 "cells": [
  {
   "cell_type": "markdown",
   "id": "d22cbb1d",
   "metadata": {},
   "source": [
    "Alejandro Restrepo Giraldo CC: 1001389709\n",
    "\n",
    "# Laboratorio 5.0"
   ]
  },
  {
   "cell_type": "code",
   "execution_count": 2,
   "id": "41c27448",
   "metadata": {},
   "outputs": [],
   "source": [
    "# Librerías \n",
    "import pandas as pd\n",
    "import numpy as np\n",
    "import matplotlib.pyplot as plt\n",
    "import sympy as sy"
   ]
  },
  {
   "cell_type": "code",
   "execution_count": 3,
   "id": "e3ec0816",
   "metadata": {},
   "outputs": [],
   "source": [
    "# Números aleatorios en el plano y = 2x_1 + 3x_2\n",
    "\n",
    "def func(x1,x2):\n",
    "    return 2.1*x1 - 3.1*x2"
   ]
  },
  {
   "cell_type": "code",
   "execution_count": 4,
   "id": "e36a9e8b",
   "metadata": {},
   "outputs": [],
   "source": [
    "# Número de datos \n",
    "m = 20\n",
    "# Número de características\n",
    "n = 2\n",
    "\n",
    "x = np.random.uniform(-1,1,(m,2))\n",
    "Y = func(x[:,0], x[:,1])"
   ]
  },
  {
   "cell_type": "code",
   "execution_count": 6,
   "id": "69cad84e",
   "metadata": {},
   "outputs": [
    {
     "data": {
      "text/plain": [
       "array([[ 1.        ,  1.        ,  1.        ,  1.        ,  1.        ,\n",
       "         1.        ,  1.        ,  1.        ,  1.        ,  1.        ,\n",
       "         1.        ,  1.        ,  1.        ,  1.        ,  1.        ,\n",
       "         1.        ,  1.        ,  1.        ,  1.        ,  1.        ],\n",
       "       [ 0.50709478, -0.58910551, -0.13377024, -0.58184185, -0.0373516 ,\n",
       "        -0.33895597, -0.59673596,  0.36110147, -0.11785524, -0.52819917,\n",
       "        -0.31601004, -0.76610726, -0.26369277, -0.35103075, -0.64562048,\n",
       "         0.01340505,  0.63927832, -0.36176289, -0.9175751 , -0.58215761],\n",
       "       [-0.00969846,  0.18582303, -0.58693638,  0.15547297,  0.17208952,\n",
       "         0.31698214, -0.24352227,  0.70601274,  0.65194209,  0.96568845,\n",
       "        -0.51885953,  0.74377806, -0.93537175,  0.94929181, -0.62536619,\n",
       "         0.93095719, -0.04656316, -0.53686501, -0.96233378,  0.47869652]])"
      ]
     },
     "execution_count": 6,
     "metadata": {},
     "output_type": "execute_result"
    }
   ],
   "source": [
    "# Matriz de características\n",
    "X = np.ones((n+1,m))\n",
    "X[1:, :] = np.transpose(x)\n",
    "X"
   ]
  },
  {
   "cell_type": "code",
   "execution_count": 7,
   "id": "880ecd16",
   "metadata": {},
   "outputs": [],
   "source": [
    "xx = np.matrix(np.transpose(X))\n",
    "yy = np.matrix(Y)"
   ]
  },
  {
   "cell_type": "markdown",
   "id": "64bdf8db",
   "metadata": {},
   "source": [
    "# Ecuación normal\n",
    "\n",
    " $$\\Theta = (X^T X)^{-1} X^T y$$\n"
   ]
  },
  {
   "cell_type": "code",
   "execution_count": 9,
   "id": "15dc09d8",
   "metadata": {},
   "outputs": [
    {
     "data": {
      "text/plain": [
       "matrix([[ 3.33066907e-16],\n",
       "        [ 2.10000000e+00],\n",
       "        [-3.10000000e+00]])"
      ]
     },
     "execution_count": 9,
     "metadata": {},
     "output_type": "execute_result"
    }
   ],
   "source": [
    "((xx.T@xx).I)@xx.T@yy.T"
   ]
  },
  {
   "cell_type": "markdown",
   "id": "5cfe93ed",
   "metadata": {},
   "source": [
    "Se obtienen los mismos parámetros que con el método anterior"
   ]
  },
  {
   "cell_type": "code",
   "execution_count": 15,
   "id": "73c9996c",
   "metadata": {},
   "outputs": [],
   "source": [
    "# Tomar los datos de las casas de boston y hacer una regresion lineal tomando \n",
    "# el average number of rooms per dwelling.\n",
    "data_url = \"http://lib.stat.cmu.edu/datasets/boston\"\n",
    "raw_df = pd.read_csv(data_url, sep=\"\\s+\", skiprows=22, header=None)\n",
    "data = np.hstack([raw_df.values[::2, :], raw_df.values[1::2, :2]])\n",
    "target = raw_df.values[1::2, 2]\n",
    "\n",
    "df = pd.DataFrame({\"mean_\":target, \"rm\":data[:,5]})"
   ]
  },
  {
   "cell_type": "code",
   "execution_count": 16,
   "id": "a84a1c02",
   "metadata": {},
   "outputs": [
    {
     "data": {
      "text/html": [
       "<div>\n",
       "<style scoped>\n",
       "    .dataframe tbody tr th:only-of-type {\n",
       "        vertical-align: middle;\n",
       "    }\n",
       "\n",
       "    .dataframe tbody tr th {\n",
       "        vertical-align: top;\n",
       "    }\n",
       "\n",
       "    .dataframe thead th {\n",
       "        text-align: right;\n",
       "    }\n",
       "</style>\n",
       "<table border=\"1\" class=\"dataframe\">\n",
       "  <thead>\n",
       "    <tr style=\"text-align: right;\">\n",
       "      <th></th>\n",
       "      <th>mean_</th>\n",
       "      <th>rm</th>\n",
       "    </tr>\n",
       "  </thead>\n",
       "  <tbody>\n",
       "    <tr>\n",
       "      <th>0</th>\n",
       "      <td>24.0</td>\n",
       "      <td>6.575</td>\n",
       "    </tr>\n",
       "    <tr>\n",
       "      <th>1</th>\n",
       "      <td>21.6</td>\n",
       "      <td>6.421</td>\n",
       "    </tr>\n",
       "    <tr>\n",
       "      <th>2</th>\n",
       "      <td>34.7</td>\n",
       "      <td>7.185</td>\n",
       "    </tr>\n",
       "    <tr>\n",
       "      <th>3</th>\n",
       "      <td>33.4</td>\n",
       "      <td>6.998</td>\n",
       "    </tr>\n",
       "    <tr>\n",
       "      <th>4</th>\n",
       "      <td>36.2</td>\n",
       "      <td>7.147</td>\n",
       "    </tr>\n",
       "    <tr>\n",
       "      <th>...</th>\n",
       "      <td>...</td>\n",
       "      <td>...</td>\n",
       "    </tr>\n",
       "    <tr>\n",
       "      <th>501</th>\n",
       "      <td>22.4</td>\n",
       "      <td>6.593</td>\n",
       "    </tr>\n",
       "    <tr>\n",
       "      <th>502</th>\n",
       "      <td>20.6</td>\n",
       "      <td>6.120</td>\n",
       "    </tr>\n",
       "    <tr>\n",
       "      <th>503</th>\n",
       "      <td>23.9</td>\n",
       "      <td>6.976</td>\n",
       "    </tr>\n",
       "    <tr>\n",
       "      <th>504</th>\n",
       "      <td>22.0</td>\n",
       "      <td>6.794</td>\n",
       "    </tr>\n",
       "    <tr>\n",
       "      <th>505</th>\n",
       "      <td>11.9</td>\n",
       "      <td>6.030</td>\n",
       "    </tr>\n",
       "  </tbody>\n",
       "</table>\n",
       "<p>506 rows × 2 columns</p>\n",
       "</div>"
      ],
      "text/plain": [
       "     mean_     rm\n",
       "0     24.0  6.575\n",
       "1     21.6  6.421\n",
       "2     34.7  7.185\n",
       "3     33.4  6.998\n",
       "4     36.2  7.147\n",
       "..     ...    ...\n",
       "501   22.4  6.593\n",
       "502   20.6  6.120\n",
       "503   23.9  6.976\n",
       "504   22.0  6.794\n",
       "505   11.9  6.030\n",
       "\n",
       "[506 rows x 2 columns]"
      ]
     },
     "execution_count": 16,
     "metadata": {},
     "output_type": "execute_result"
    }
   ],
   "source": [
    "df"
   ]
  },
  {
   "cell_type": "code",
   "execution_count": 29,
   "id": "e12241e2",
   "metadata": {},
   "outputs": [
    {
     "data": {
      "text/plain": [
       "<AxesSubplot:xlabel='mean_', ylabel='rm'>"
      ]
     },
     "execution_count": 29,
     "metadata": {},
     "output_type": "execute_result"
    },
    {
     "data": {
      "image/png": "[encoded data removed]",
      "text/plain": [
       "<Figure size 576x432 with 1 Axes>"
      ]
     },
     "metadata": {
      "needs_background": "light"
     },
     "output_type": "display_data"
    }
   ],
   "source": [
    "df.plot.scatter(x=\"mean_\", y=\"rm\", figsize=(8,6))"
   ]
  },
  {
   "cell_type": "code",
   "execution_count": 41,
   "id": "fa91e218",
   "metadata": {},
   "outputs": [
    {
     "data": {
      "text/plain": [
       "array([[ 1. ,  1. ,  1. , ...,  1. ,  1. ,  1. ],\n",
       "       [24. , 21.6, 34.7, ..., 23.9, 22. , 11.9]])"
      ]
     },
     "execution_count": 41,
     "metadata": {},
     "output_type": "execute_result"
    }
   ],
   "source": [
    "# Matriz de características\n",
    "X = np.ones((df.shape[1], df.shape[0]))\n",
    "X[1:, :] = np.transpose(df.mean_)\n",
    "X"
   ]
  },
  {
   "cell_type": "code",
   "execution_count": null,
   "id": "f9a56caf",
   "metadata": {},
   "outputs": [],
   "source": []
  },
  {
   "cell_type": "code",
   "execution_count": null,
   "id": "6b9e637b",
   "metadata": {},
   "outputs": [],
   "source": []
  },
  {
   "cell_type": "code",
   "execution_count": null,
   "id": "a5ffe7e3",
   "metadata": {},
   "outputs": [],
   "source": []
  },
  {
   "cell_type": "code",
   "execution_count": null,
   "id": "5216bd8d",
   "metadata": {},
   "outputs": [],
   "source": []
  },
  {
   "cell_type": "code",
   "execution_count": null,
   "id": "cddeb723",
   "metadata": {},
   "outputs": [],
   "source": []
  },
  {
   "cell_type": "code",
   "execution_count": null,
   "id": "6f5f6e47",
   "metadata": {},
   "outputs": [],
   "source": []
  },
  {
   "cell_type": "code",
   "execution_count": null,
   "id": "94b7aeee",
   "metadata": {},
   "outputs": [],
   "source": []
  },
  {
   "cell_type": "code",
   "execution_count": null,
   "id": "ec6ca16c",
   "metadata": {},
   "outputs": [],
   "source": []
  }
 ],
 "metadata": {
  "kernelspec": {
   "display_name": "Python 3 (ipykernel)",
   "language": "python",
   "name": "python3"
  },
  "language_info": {
   "codemirror_mode": {
    "name": "ipython",
    "version": 3
   },
   "file_extension": ".py",
   "mimetype": "text/x-python",
   "name": "python",
   "nbconvert_exporter": "python",
   "pygments_lexer": "ipython3",
   "version": "3.7.3"
  }
 },
 "nbformat": 4,
 "nbformat_minor": 5
}
