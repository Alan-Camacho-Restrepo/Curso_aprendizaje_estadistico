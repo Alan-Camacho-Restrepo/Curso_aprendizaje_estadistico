{
 "cells": [
  {
   "cell_type": "markdown",
   "id": "9f643113",
   "metadata": {},
   "source": [
    "La metrica  puede ser generalizada como sigue,\n",
    "\n",
    "$ d = \\left [ \\sum_{i = 1}^{D}(x_{i}-x_{i}^{,})^{p} \\right ] ^{\\frac{1}{p}} $\n",
    "\n",
    "Determine los valores mínimos de $\\theta_{0}$  y  $\\theta_{1}$ para los siguientes casos:\n",
    "1.  Emplea la metrica ecuclidiana con p = 2 compare su resultado con los valores empleando la libreria   sklearn:Linear Regresion.\n",
    "2. Emple p = 1, p = 3. ¿Como varian los resultaodos en este caso?\n",
    "3. Construya las curvas de aprendizaje para función del número de datos para las situaciones descritas, ¿qué peude concluir?"
   ]
  },
  {
   "cell_type": "markdown",
   "id": "0a8bf568",
   "metadata": {},
   "source": [
    "## implementación de gradiente descendente"
   ]
  },
  {
   "cell_type": "markdown",
   "id": "50707221",
   "metadata": {},
   "source": [
    "1. Emplea la metrica ecuclidiana con p = 2 compare su resultado con los valores empleando la libreria sklearn:Linear Regresion."
   ]
  },
  {
   "cell_type": "code",
   "execution_count": 25,
   "id": "c5ff98c3",
   "metadata": {},
   "outputs": [
    {
     "data": {
      "text/plain": [
       "[<matplotlib.lines.Line2D at 0x7f7886e0f780>]"
      ]
     },
     "execution_count": 25,
     "metadata": {},
     "output_type": "execute_result"
    },
    {
     "data": {
      "image/png": "[encoded data removed]",
      "text/plain": [
       "<Figure size 432x288 with 1 Axes>"
      ]
     },
     "metadata": {},
     "output_type": "display_data"
    }
   ],
   "source": [
    "import numpy as np\n",
    "import pandas as pd\n",
    "import matplotlib.pyplot as plt\n",
    "from scipy.optimize import least_squares\n",
    "from scipy.optimize  import curve_fit\n",
    "\n",
    "#data = pd.read_csv('data.csv',header = None)\n",
    "#DF_data = pd.DataFrame(data, columns= ['X','Y'])\n",
    "\n",
    "x = np.linspace(-1, 1, 100)\n",
    "y = 0.2 + 0.2*x + 0.02*np.random.random(100)\n",
    "\n",
    "# ploteo los datos\n",
    "\n",
    "fig, ax = plt.subplots()\n",
    "ax.plot(x,y,'+')\n"
   ]
  },
  {
   "cell_type": "code",
   "execution_count": 9,
   "id": "4555852f",
   "metadata": {
    "scrolled": true
   },
   "outputs": [],
   "source": [
    "\n",
    "#  Gradiente descendente\n",
    "\n",
    "def Sumatoria_x0(xx,yy,t_0,t_1,m):\n",
    "    s = 0\n",
    "    for i in range(0,len(xx)):\n",
    "        s = s + t_1*x[i] + t_0 - y[i]\n",
    "        #s += s \n",
    "    return s\n",
    "\n",
    "    \n",
    "def Sumatoria_x1(xx,yy,t_0,t_1,m):\n",
    "    s = 0\n",
    "    for i in range(0,len(xx)):\n",
    "        s = s + (t_1*x[i] + t_0 - y[i])*x[i]\n",
    "        #s += s \n",
    "    return s\n",
    "\n"
   ]
  },
  {
   "cell_type": "code",
   "execution_count": 10,
   "id": "d99087b6",
   "metadata": {},
   "outputs": [
    {
     "name": "stdout",
     "output_type": "stream",
     "text": [
      "tethe_0 = 0.21 / tetha_1 = 0.20\n"
     ]
    }
   ],
   "source": [
    "def fuu(tetha_0,tetha_1, alfa ):\n",
    "    \n",
    "    #alfa = 0.0001 \n",
    "    tetha_0 = 10\n",
    "    tetha_1 = 10\n",
    "    m = 10\n",
    "    \n",
    "    MAE = []\n",
    "    MSE = []\n",
    "    MAPE = []\n",
    "\n",
    "    for n in range(0,100):\n",
    "        \n",
    "        \n",
    "        tetha_0 = tetha_0 - alfa*Sumatoria_x0(x,y,tetha_0,tetha_1,len(x))/m\n",
    "        tetha_1 = tetha_1 - alfa*Sumatoria_x1(x,y,tetha_0,tetha_1,len(y))/m\n",
    "        \n",
    "        MSE.append(sum(tetha_1*x + tetha_0 - y))\n",
    "        MAE.append(abs(sum(tetha_1*x + tetha_0 - y)))\n",
    "        MAPE.append(abs(sum((tetha_1*x + tetha_0 - y) /x)))\n",
    "             \n",
    "    return tetha_1,tetha_0 , MSE, MAE ,MAPE\n",
    "\n",
    "# Llamo la funcion fuu\n",
    "tetha_1, tetha_0, MSE, MAE ,MAPE = fuu(10,10,alfa = 0.1)\n",
    " \n",
    "print(\"tethe_0 = %.2f / tetha_1 = %.2f\"%(tetha_0,tetha_1))"
   ]
  },
  {
   "cell_type": "code",
   "execution_count": 13,
   "id": "922964d1",
   "metadata": {},
   "outputs": [
    {
     "name": "stdout",
     "output_type": "stream",
     "text": [
      "Obtenidos mediante Curve-fit tetha_1= 0.20 / tetha_0 = 0.21\n"
     ]
    }
   ],
   "source": [
    "print(\"Obtenidos mediante Curve-fit tetha_1= %.2f / tetha_0 = %.2f\"%(aa,bb))"
   ]
  },
  {
   "cell_type": "markdown",
   "id": "3e8b7b78",
   "metadata": {},
   "source": [
    "2. Emple p = 1, p = 3. ¿Como varian los resultaodos en este caso?"
   ]
  },
  {
   "cell_type": "code",
   "execution_count": 12,
   "id": "de59160b",
   "metadata": {},
   "outputs": [],
   "source": [
    "#  Gradiente descendente\n",
    "\n",
    "def Sumatoria_x0(xx,yy,t_0,t_1,m):\n",
    "    s = 0\n",
    "    for i in range(0,len(xx)):\n",
    "        s = s + t_1*x[i] + t_0 - y[i]\n",
    "        #s += s \n",
    "    return s\n",
    "\n",
    "    \n",
    "def Sumatoria_x1(xx,yy,t_0,t_1,m):\n",
    "    s = 0\n",
    "    for i in range(0,len(xx)):\n",
    "        s = s + (t_1*x[i] + t_0 - y[i])*x[i]\n",
    "        #s += s \n",
    "    return s\n",
    "\n"
   ]
  },
  {
   "cell_type": "code",
   "execution_count": 21,
   "id": "3d7c19bf",
   "metadata": {},
   "outputs": [
    {
     "name": "stdout",
     "output_type": "stream",
     "text": [
      "Los valores encontrados para theta_0 y theta_1 son:\n",
      "tethe_0 = 0.21 / tetha_1 = 0.20\n"
     ]
    }
   ],
   "source": [
    "def Gradient_descent(tetha_0,tetha_1, alfa ):\n",
    "    \n",
    "    #alfa = 0.0001 \n",
    "    tetha_0 = 10\n",
    "    tetha_1 = 10\n",
    "    m = 10\n",
    "    \n",
    "    for n in range(0,100):\n",
    "        \n",
    "        \n",
    "        tetha_0 = tetha_0 - alfa*Sumatoria_x0(x,y,tetha_0,tetha_1,len(x))/m\n",
    "        tetha_1 = tetha_1 - alfa*Sumatoria_x1(x,y,tetha_0,tetha_1,len(y))/m\n",
    "        \n",
    "       \n",
    "             \n",
    "    return tetha_1,tetha_0 \n",
    "\n",
    "# Llamo la funcion fuu\n",
    "tetha_1, tetha_0 = Gradient_descent(10,10,alfa = 0.1) \n",
    "\n",
    "print('Los valores encontrados para theta_0 y theta_1 son:')\n",
    "print(\"tethe_0 = %.2f / tetha_1 = %.2f\"%(tetha_0,tetha_1))"
   ]
  },
  {
   "cell_type": "code",
   "execution_count": 22,
   "id": "8702c9d2",
   "metadata": {},
   "outputs": [
    {
     "data": {
      "text/plain": [
       "[<matplotlib.lines.Line2D at 0x7f788708d2b0>]"
      ]
     },
     "execution_count": 22,
     "metadata": {},
     "output_type": "execute_result"
    },
    {
     "data": {
      "image/png": "[encoded data removed]",
      "text/plain": [
       "<Figure size 720x432 with 2 Axes>"
      ]
     },
     "metadata": {},
     "output_type": "display_data"
    }
   ],
   "source": [
    "# plot 1 the final fitting line to the data and compare it with the scipy.optimize (lm) build-in function\n",
    "fig, ax = plt.subplots(1,2,figsize=(10,6)) \n",
    "\n",
    "\n",
    "xx = np.linspace(0,70,len(x)+33)\n",
    "\n",
    "tetha_0 = 0.21\n",
    "tetha_1 = 0.20\n",
    "\n",
    "\n",
    "def final_fitting(xx):\n",
    "    yy = []\n",
    "    for i in xx:\n",
    "        y = tetha_1*i + tetha_0\n",
    "        yy.append(y)\n",
    "    return yy\n",
    "\n",
    " \n",
    "\n",
    "ax[0].plot(x,final_fitting(x))\n",
    "ax[0].set_title(\"Gradiente descendente\")\n",
    "ax[0].plot(x,y,\".\")\n",
    "\n",
    "\n",
    "\n",
    "###################################\n",
    "###Scipy.optimize\n",
    "#################################\n",
    "\n",
    "\n",
    "\n",
    "def cuadratic(x,a,b):\n",
    "    \n",
    "    return  a*x + b\n",
    "\n",
    "[aa,bb] , cov = curve_fit(cuadratic,x,y)\n",
    "\n",
    "#print()\n",
    "\n",
    "ax[1].plot(x,cuadratic(x,aa,bb),label='Curve-fit') \n",
    "ax[1].set_title(\"Curve-fit\")\n",
    "ax[1].plot(x,y,\".\")\n"
   ]
  },
  {
   "cell_type": "markdown",
   "id": "d51f20b5",
   "metadata": {},
   "source": [
    "2. **Emplee p = 1, p = 3. ¿Como varian los resultaodos en este caso?**\n",
    "\n",
    "No importa que valores tome p ya que al deriva  la función j p se cancela."
   ]
  },
  {
   "cell_type": "markdown",
   "id": "1717379c",
   "metadata": {},
   "source": [
    "3. **Construya las curvas de aprendizaje para función del número de datos para las situaciones descritas, ¿qué peude concluir?**"
   ]
  },
  {
   "cell_type": "code",
   "execution_count": null,
   "id": "1ea0f57a",
   "metadata": {},
   "outputs": [],
   "source": []
  },
  {
   "cell_type": "code",
   "execution_count": null,
   "id": "35f84937",
   "metadata": {},
   "outputs": [],
   "source": [
    "#Metodo para generar k divisiones en forma de diccionario.\n",
    "from sklearn.metrics import r2_score \n",
    "\n",
    "def get_K_divs(X_t, y, K, test_size_):\n",
    "    divs = []\n",
    "    for i in range(K):\n",
    "        X_train, X_test, y_train, y_test = train_test_split(X_t, y, test_size = test_size_,  \n",
    "                                                    random_state=None)\n",
    "        divs.append({\"X_train\": X_train, \"X_test\": X_test, \"y_train\": y_train, \"y_test\": y_test})\n",
    "    return divs\n",
    "\n",
    "\n",
    "#Mi propia funcion de curva de aprendizaje\n",
    "#usamos r2 score\n",
    "\n",
    "def score(y, y_predicted):\n",
    "    R_square = r2_score(y, y_predicted) \n",
    "    return R_square\n",
    "\n",
    "def learning_curve(X_t, y, K, test_size_, alpha, p, theta_0, theta_1):\n",
    "    #obtenemos las divisiones\n",
    "    divs = get_K_divs(X_t, y, K, test_size_)\n",
    "    #print(divs)\n",
    "    #para almanecenar la media y std\n",
    "    training_score = []\n",
    "    training_score_std = []\n",
    "    test_score = []\n",
    "    test_score_std = []\n",
    "    test_score = []\n",
    "    #hacemos los splits\n",
    "    #como minimo deben haber dos pares, y como máximo, el tamaño de todo el arreglo\n",
    "    for split in range(2, X_t.shape[0]):\n",
    "        #valores para promediar\n",
    "        sub_training_score = np.array([])\n",
    "        sub_test_score = np.array([])\n",
    "        for div in divs:             \n",
    "            #hacemos una selección, el split representa el indice hasta donde\n",
    "            X_train = div[\"X_train\"][0:split]\n",
    "            y_train = div[\"y_train\"][0:split]            \n",
    "            X_test = div[\"X_test\"]\n",
    "            y_test = div[\"y_test\"]\n",
    "            #en algunos casos, hay valores de una sola clase, lanza error\n",
    "            if(len(np.unique(y_train)) == 1):\n",
    "                continue\n",
    "            theta_0_, theta_1_ = gradient_iteration(X_train, y_train, theta_0, theta_1, alpha, p, len(X_train))\n",
    "            y_X = lambda x: theta_0_ + theta_1_*x \n",
    "            #calculamos los score\n",
    "            sub_training_score = np.append(sub_training_score, score(y_train, y_X(X_train)))\n",
    "            sub_test_score = np.append(sub_test_score, score(y_test, y_X(X_test)))\n",
    "        training_score.append(np.mean(sub_training_score))\n",
    "        training_score_std.append(np.std(sub_training_score))\n",
    "        \n",
    "        test_score.append(np.mean(sub_test_score))\n",
    "        test_score_std.append(np.std(sub_test_score))\n",
    "    train_size = np.arange(2, X_t.shape[0], 1)\n",
    "    return train_size, np.array(training_score), np.array(training_score_std), np.array(test_score), np.array(test_score_std)\n",
    "    \n",
    "    \n",
    "    #for train_index, test_index in cv.split(X_t):\n",
    "     #   print(train_index, test_index)\n"
   ]
  },
  {
   "cell_type": "code",
   "execution_count": 23,
   "id": "cb037423",
   "metadata": {},
   "outputs": [
    {
     "ename": "NameError",
     "evalue": "name 'X_t' is not defined",
     "output_type": "error",
     "traceback": [
      "\u001b[0;31m---------------------------------------------------------------------------\u001b[0m",
      "\u001b[0;31mNameError\u001b[0m                                 Traceback (most recent call last)",
      "\u001b[0;32m<ipython-input-23-076a503afd53>\u001b[0m in \u001b[0;36m<module>\u001b[0;34m()\u001b[0m\n\u001b[0;32m----> 1\u001b[0;31m \u001b[0mq\u001b[0m \u001b[0;34m=\u001b[0m \u001b[0mX_t\u001b[0m\u001b[0;34m[\u001b[0m\u001b[0;36m0\u001b[0m\u001b[0;34m:\u001b[0m\u001b[0;36m10\u001b[0m\u001b[0;34m]\u001b[0m\u001b[0;34m\u001b[0m\u001b[0;34m\u001b[0m\u001b[0m\n\u001b[0m",
      "\u001b[0;31mNameError\u001b[0m: name 'X_t' is not defined"
     ]
    }
   ],
   "source": [
    "q = X_t[0:10]"
   ]
  },
  {
   "cell_type": "code",
   "execution_count": null,
   "id": "2cf526f4",
   "metadata": {},
   "outputs": [],
   "source": []
  }
 ],
 "metadata": {
  "kernelspec": {
   "display_name": "Python 3",
   "language": "python",
   "name": "python3"
  },
  "language_info": {
   "codemirror_mode": {
    "name": "ipython",
    "version": 3
   },
   "file_extension": ".py",
   "mimetype": "text/x-python",
   "name": "python",
   "nbconvert_exporter": "python",
   "pygments_lexer": "ipython3",
   "version": "3.6.9"
  }
 },
 "nbformat": 4,
 "nbformat_minor": 5
}
