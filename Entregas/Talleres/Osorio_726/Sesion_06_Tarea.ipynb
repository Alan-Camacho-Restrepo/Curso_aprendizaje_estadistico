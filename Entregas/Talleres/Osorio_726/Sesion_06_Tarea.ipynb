{
 "cells": [
  {
   "cell_type": "markdown",
   "metadata": {},
   "source": [
    "## Realizado por John Osorio\n",
    "C.C. 1035435726"
   ]
  },
  {
   "cell_type": "markdown",
   "metadata": {},
   "source": [
    "Los pasos para esta minimizacion se dejan como tarea, y pueden ser calculados según lo siguiente:\n",
    "\n",
    "Si J es la funcion de coste dada por:\n",
    "\n",
    "\\begin{equation}\n",
    "J(\\theta_1,\\theta_2,\\theta_3, ...,\\theta_n )=\\frac{1}{2m} \\sum_{i = 1}^m (\\Theta^{T} X^{(i)} - \\hat{y}^{(i)})^2 \\ \\ \\ \\ (1)\n",
    "\\end{equation}\n",
    "\n",
    "\n",
    "Demostrar que:\n",
    "\n",
    "- $J(\\theta_1,\\theta_2,\\theta_3, ...,\\theta_n ) = \\frac{1}{2m} (\\Theta ^ T X - y)^T (\\Theta ^ T X - y)$\n",
    "\n",
    "- $ \\nabla _{\\theta} J = \\frac{1}{m}( (X^T X) \\Theta - X^T y)$\n",
    "\n",
    "\n",
    "Para encontrar el valor minimo de $\\theta$,  $\\nabla _{\\theta} J = 0$, \n",
    "\n",
    "- $\\Theta = (X^T X)^{-1} X^T y$\n",
    "\n",
    "\n",
    "Para la demostracion anterior emplee las siguientes propiedades:\n",
    "\n",
    "- $z^T z= \\sum_i z_i^2  \\ \\ \\ \\ (2)$\n",
    "- $a^T b = b^Ta  \\ \\ \\ \\ (3) $ \n",
    "- $\\nabla _x b^T x = b  \\ \\ \\ \\ (4)$\n",
    "- $\\nabla _x  x^T A x = 2Ax  \\ \\ \\ \\ (5)$\n",
    "\n",
    "donde a, b, x son matrices, $\\nabla_x$ es la derivada respecto al vector x, y A es una matriz simétrica"
   ]
  },
  {
   "cell_type": "markdown",
   "metadata": {},
   "source": [
    "Usando la propiedad (2) en (1), entonces resulta:\n",
    "\n",
    "$$ \\frac{1}{2m} \\sum_{i = 1}^m (\\Theta^{T} X - \\hat{y}^{(i)})^2 = \\frac{1}{2m} (\\Theta^{T} X - y)^T(\\Theta^{T} X - y)$$\n",
    "\n",
    "Asumiendo además que $\\Theta^{T} X = X^{T} \\Theta = X\\Theta$"
   ]
  },
  {
   "cell_type": "markdown",
   "metadata": {},
   "source": [
    "Reescribamos el factor del lado derecho usando las propiedades de la operación traspuesta\n",
    "\n",
    "$$ (X\\Theta - y)^T(X\\Theta - y) = ((X\\Theta )^T - y^T)(X\\Theta  - y) \\\\\n",
    "= (\\Theta^T X^T - y^T)(X\\Theta - y) = \\Theta^T X^T X\\Theta - \\Theta^T X^T y - y^T X \\Theta + y^Ty$$"
   ]
  },
  {
   "cell_type": "markdown",
   "metadata": {},
   "source": [
    "Donde se han tomado las propiedades de la operación $^T$: \n",
    "    \n",
    "$$ (A + B)^T = A^T + B^T \\\\\n",
    "(A^T)^T = A  \\\\ \n",
    "(AB)^T = B^TA^T $$"
   ]
  },
  {
   "cell_type": "markdown",
   "metadata": {},
   "source": [
    "Si usamos la propiedad (3), entonces $\\Theta^T X^Ty = y^T X \\Theta$"
   ]
  },
  {
   "cell_type": "markdown",
   "metadata": {},
   "source": [
    "Calculemos ahora la derivada $$ \\nabla _{\\theta} J = \\nabla_{\\theta}(\\Theta^T X^T X\\Theta) - 2 \\nabla_{\\theta}(y^T X \\Theta)$$"
   ]
  },
  {
   "cell_type": "markdown",
   "metadata": {},
   "source": [
    "Usando las propiedades (5) y (4), entonces, \n",
    "\n",
    "$$ \\nabla _{\\theta} J = 2 X^T X \\Theta - 2Y^TX  = 2 X^T X \\Theta - 2X^Ty$$ "
   ]
  },
  {
   "cell_type": "markdown",
   "metadata": {},
   "source": [
    "Haciendo finalmente $\\nabla _{\\theta} J = 0$, entonces,\n",
    "\n",
    "$$ 2 X^T X \\Theta - 2X^Ty = 0 \\\\ \n",
    "X^TX \\Theta = X^Ty$$"
   ]
  },
  {
   "cell_type": "markdown",
   "metadata": {},
   "source": [
    "Asumiendo que $(X^TX)^{-1}$ existe, entonces llegamos finalmente a que:\n",
    "    $$\\Theta = (X^TX)^{-1} X^Ty$$\n",
    "    "
   ]
  }
 ],
 "metadata": {
  "kernelspec": {
   "display_name": "Python 3",
   "language": "python",
   "name": "python3"
  },
  "language_info": {
   "codemirror_mode": {
    "name": "ipython",
    "version": 3
   },
   "file_extension": ".py",
   "mimetype": "text/x-python",
   "name": "python",
   "nbconvert_exporter": "python",
   "pygments_lexer": "ipython3",
   "version": "3.8.5"
  }
 },
 "nbformat": 4,
 "nbformat_minor": 4
}
