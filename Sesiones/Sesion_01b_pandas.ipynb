{
  "nbformat": 4,
  "nbformat_minor": 0,
  "metadata": {
    "colab": {
      "name": "Sesion_01b_pandas.ipynb",
      "provenance": []
    },
    "kernelspec": {
      "name": "python3",
      "display_name": "Python 3"
    },
    "language_info": {
      "name": "python"
    }
  },
  "cells": [
    {
      "cell_type": "markdown",
      "metadata": {
        "id": "KTQcqxS7uW2x"
      },
      "source": [
        "<a href=\"https://colab.research.google.com/github/hernansalinas/Curso_aprendizaje_estadistico/blob/main/Sesiones/Sesion_01b_pandas.ipynb\" target=\"_parent\"><img src=\"https://colab.research.google.com/assets/colab-badge.svg\" alt=\"Open In Colab\"/></a>\n",
        "\n",
        "\n",
        "\n"
      ]
    },
    {
      "cell_type": "markdown",
      "metadata": {
        "id": "mO08F9Bh2fU6"
      },
      "source": [
        "# Construyendo Data Frame desde diccionarios  y cargando datos del un data frame\n"
      ]
    },
    {
      "cell_type": "code",
      "metadata": {
        "id": "aU4aSvHu56Hw"
      },
      "source": [
        "import numpy as np\n",
        "import pandas as pd\n",
        "import os"
      ],
      "execution_count": null,
      "outputs": []
    },
    {
      "cell_type": "code",
      "metadata": {
        "id": "NO59NdYu2W1z"
      },
      "source": [
        "x = np.linspace(0, 10, 10)\n",
        "y = np.linspace(0, 10, 10)\n",
        "\n",
        "d = {\"x\": x, \"y\": y}"
      ],
      "execution_count": null,
      "outputs": []
    },
    {
      "cell_type": "code",
      "metadata": {
        "id": "hYctW3-G6OzD"
      },
      "source": [
        "df = pd.DataFrame(d)"
      ],
      "execution_count": null,
      "outputs": []
    },
    {
      "cell_type": "code",
      "metadata": {
        "colab": {
          "base_uri": "https://localhost:8080/"
        },
        "id": "YCtY7mjr6QTA",
        "outputId": "26f818aa-f02e-4fc4-b65c-e7978ff76f26"
      },
      "source": [
        "df.y"
      ],
      "execution_count": null,
      "outputs": [
        {
          "output_type": "execute_result",
          "data": {
            "text/plain": [
              "0     0.000000\n",
              "1     1.111111\n",
              "2     2.222222\n",
              "3     3.333333\n",
              "4     4.444444\n",
              "5     5.555556\n",
              "6     6.666667\n",
              "7     7.777778\n",
              "8     8.888889\n",
              "9    10.000000\n",
              "Name: y, dtype: float64"
            ]
          },
          "metadata": {},
          "execution_count": 25
        }
      ]
    },
    {
      "cell_type": "code",
      "metadata": {
        "id": "ZWDT-7Z16khQ"
      },
      "source": [
        "path = os.getcwd()\n",
        "# https://www.kaggle.com/gpreda/covid-world-vaccination-progress?select=country_vaccinations\n",
        "path=\"https://github.com/hernansalinas/Curso_aprendizaje_estadistico/blob/main/datasets/sesion_01b_country_vaccinations.xlsx?raw=true\"\n",
        "df = pd.read_excel(f\"{path}\") \n"
      ],
      "execution_count": null,
      "outputs": []
    },
    {
      "cell_type": "code",
      "metadata": {
        "colab": {
          "base_uri": "https://localhost:8080/",
          "height": 400
        },
        "id": "dVSqlOC7-key",
        "outputId": "4d3c75ba-4f00-4895-8421-4a70c1ef36b0"
      },
      "source": [
        "df.head()"
      ],
      "execution_count": null,
      "outputs": [
        {
          "output_type": "execute_result",
          "data": {
            "text/html": [
              "<div>\n",
              "<style scoped>\n",
              "    .dataframe tbody tr th:only-of-type {\n",
              "        vertical-align: middle;\n",
              "    }\n",
              "\n",
              "    .dataframe tbody tr th {\n",
              "        vertical-align: top;\n",
              "    }\n",
              "\n",
              "    .dataframe thead th {\n",
              "        text-align: right;\n",
              "    }\n",
              "</style>\n",
              "<table border=\"1\" class=\"dataframe\">\n",
              "  <thead>\n",
              "    <tr style=\"text-align: right;\">\n",
              "      <th></th>\n",
              "      <th>country</th>\n",
              "      <th>iso_code</th>\n",
              "      <th>date</th>\n",
              "      <th>total_vaccinations</th>\n",
              "      <th>people_vaccinated</th>\n",
              "      <th>people_fully_vaccinated</th>\n",
              "      <th>daily_vaccinations_raw</th>\n",
              "      <th>daily_vaccinations</th>\n",
              "      <th>total_vaccinations_per_hundred</th>\n",
              "      <th>people_vaccinated_per_hundred</th>\n",
              "      <th>people_fully_vaccinated_per_hundred</th>\n",
              "      <th>daily_vaccinations_per_million</th>\n",
              "      <th>vaccines</th>\n",
              "      <th>source_name</th>\n",
              "      <th>source_website</th>\n",
              "    </tr>\n",
              "  </thead>\n",
              "  <tbody>\n",
              "    <tr>\n",
              "      <th>0</th>\n",
              "      <td>Afghanistan</td>\n",
              "      <td>AFG</td>\n",
              "      <td>2021-02-22</td>\n",
              "      <td>0.0</td>\n",
              "      <td>0.0</td>\n",
              "      <td>NaN</td>\n",
              "      <td>NaN</td>\n",
              "      <td>NaN</td>\n",
              "      <td>0.0</td>\n",
              "      <td>0.0</td>\n",
              "      <td>NaN</td>\n",
              "      <td>NaN</td>\n",
              "      <td>Oxford/AstraZeneca</td>\n",
              "      <td>Government of Afghanistan</td>\n",
              "      <td>http://www.xinhuanet.com/english/asiapacific/2...</td>\n",
              "    </tr>\n",
              "    <tr>\n",
              "      <th>1</th>\n",
              "      <td>Afghanistan</td>\n",
              "      <td>AFG</td>\n",
              "      <td>2021-02-23</td>\n",
              "      <td>NaN</td>\n",
              "      <td>NaN</td>\n",
              "      <td>NaN</td>\n",
              "      <td>NaN</td>\n",
              "      <td>1367.0</td>\n",
              "      <td>NaN</td>\n",
              "      <td>NaN</td>\n",
              "      <td>NaN</td>\n",
              "      <td>35.0</td>\n",
              "      <td>Oxford/AstraZeneca</td>\n",
              "      <td>Government of Afghanistan</td>\n",
              "      <td>http://www.xinhuanet.com/english/asiapacific/2...</td>\n",
              "    </tr>\n",
              "    <tr>\n",
              "      <th>2</th>\n",
              "      <td>Afghanistan</td>\n",
              "      <td>AFG</td>\n",
              "      <td>2021-02-24</td>\n",
              "      <td>NaN</td>\n",
              "      <td>NaN</td>\n",
              "      <td>NaN</td>\n",
              "      <td>NaN</td>\n",
              "      <td>1367.0</td>\n",
              "      <td>NaN</td>\n",
              "      <td>NaN</td>\n",
              "      <td>NaN</td>\n",
              "      <td>35.0</td>\n",
              "      <td>Oxford/AstraZeneca</td>\n",
              "      <td>Government of Afghanistan</td>\n",
              "      <td>http://www.xinhuanet.com/english/asiapacific/2...</td>\n",
              "    </tr>\n",
              "    <tr>\n",
              "      <th>3</th>\n",
              "      <td>Afghanistan</td>\n",
              "      <td>AFG</td>\n",
              "      <td>2021-02-25</td>\n",
              "      <td>NaN</td>\n",
              "      <td>NaN</td>\n",
              "      <td>NaN</td>\n",
              "      <td>NaN</td>\n",
              "      <td>1367.0</td>\n",
              "      <td>NaN</td>\n",
              "      <td>NaN</td>\n",
              "      <td>NaN</td>\n",
              "      <td>35.0</td>\n",
              "      <td>Oxford/AstraZeneca</td>\n",
              "      <td>Government of Afghanistan</td>\n",
              "      <td>http://www.xinhuanet.com/english/asiapacific/2...</td>\n",
              "    </tr>\n",
              "    <tr>\n",
              "      <th>4</th>\n",
              "      <td>Afghanistan</td>\n",
              "      <td>AFG</td>\n",
              "      <td>2021-02-26</td>\n",
              "      <td>NaN</td>\n",
              "      <td>NaN</td>\n",
              "      <td>NaN</td>\n",
              "      <td>NaN</td>\n",
              "      <td>1367.0</td>\n",
              "      <td>NaN</td>\n",
              "      <td>NaN</td>\n",
              "      <td>NaN</td>\n",
              "      <td>35.0</td>\n",
              "      <td>Oxford/AstraZeneca</td>\n",
              "      <td>Government of Afghanistan</td>\n",
              "      <td>http://www.xinhuanet.com/english/asiapacific/2...</td>\n",
              "    </tr>\n",
              "  </tbody>\n",
              "</table>\n",
              "</div>"
            ],
            "text/plain": [
              "       country  ...                                     source_website\n",
              "0  Afghanistan  ...  http://www.xinhuanet.com/english/asiapacific/2...\n",
              "1  Afghanistan  ...  http://www.xinhuanet.com/english/asiapacific/2...\n",
              "2  Afghanistan  ...  http://www.xinhuanet.com/english/asiapacific/2...\n",
              "3  Afghanistan  ...  http://www.xinhuanet.com/english/asiapacific/2...\n",
              "4  Afghanistan  ...  http://www.xinhuanet.com/english/asiapacific/2...\n",
              "\n",
              "[5 rows x 15 columns]"
            ]
          },
          "metadata": {},
          "execution_count": 28
        }
      ]
    },
    {
      "cell_type": "code",
      "metadata": {
        "colab": {
          "base_uri": "https://localhost:8080/",
          "height": 441
        },
        "id": "juFHDrhT-m5j",
        "outputId": "8bb5fb97-c6f6-4152-b4bb-cce6fccbe56a"
      },
      "source": [
        " # https://www.kaggle.com/sakhawat18/asteroid-dataset \n",
        " # https://ssd.jpl.nasa.gov/tools/sbdb_query.html\n",
        " \n",
        " path_git = \"https://raw.githubusercontent.com/hernansalinas/Curso_aprendizaje_estadistico/main/datasets/sesion_01b_dataset.csv\"\n",
        " df = pd.read_csv(f\"{path_git}\")\n",
        " df"
      ],
      "execution_count": null,
      "outputs": [
        {
          "output_type": "execute_result",
          "data": {
            "text/html": [
              "<div>\n",
              "<style scoped>\n",
              "    .dataframe tbody tr th:only-of-type {\n",
              "        vertical-align: middle;\n",
              "    }\n",
              "\n",
              "    .dataframe tbody tr th {\n",
              "        vertical-align: top;\n",
              "    }\n",
              "\n",
              "    .dataframe thead th {\n",
              "        text-align: right;\n",
              "    }\n",
              "</style>\n",
              "<table border=\"1\" class=\"dataframe\">\n",
              "  <thead>\n",
              "    <tr style=\"text-align: right;\">\n",
              "      <th></th>\n",
              "      <th>Temperature (K)</th>\n",
              "      <th>Luminosity(L/Lo)</th>\n",
              "      <th>Radius(R/Ro)</th>\n",
              "      <th>Absolute magnitude(Mv)</th>\n",
              "      <th>Star type</th>\n",
              "      <th>Star color</th>\n",
              "      <th>Spectral Class</th>\n",
              "    </tr>\n",
              "  </thead>\n",
              "  <tbody>\n",
              "    <tr>\n",
              "      <th>0</th>\n",
              "      <td>3068</td>\n",
              "      <td>0.002400</td>\n",
              "      <td>0.1700</td>\n",
              "      <td>16.12</td>\n",
              "      <td>0</td>\n",
              "      <td>Red</td>\n",
              "      <td>M</td>\n",
              "    </tr>\n",
              "    <tr>\n",
              "      <th>1</th>\n",
              "      <td>3042</td>\n",
              "      <td>0.000500</td>\n",
              "      <td>0.1542</td>\n",
              "      <td>16.60</td>\n",
              "      <td>0</td>\n",
              "      <td>Red</td>\n",
              "      <td>M</td>\n",
              "    </tr>\n",
              "    <tr>\n",
              "      <th>2</th>\n",
              "      <td>2600</td>\n",
              "      <td>0.000300</td>\n",
              "      <td>0.1020</td>\n",
              "      <td>18.70</td>\n",
              "      <td>0</td>\n",
              "      <td>Red</td>\n",
              "      <td>M</td>\n",
              "    </tr>\n",
              "    <tr>\n",
              "      <th>3</th>\n",
              "      <td>2800</td>\n",
              "      <td>0.000200</td>\n",
              "      <td>0.1600</td>\n",
              "      <td>16.65</td>\n",
              "      <td>0</td>\n",
              "      <td>Red</td>\n",
              "      <td>M</td>\n",
              "    </tr>\n",
              "    <tr>\n",
              "      <th>4</th>\n",
              "      <td>1939</td>\n",
              "      <td>0.000138</td>\n",
              "      <td>0.1030</td>\n",
              "      <td>20.06</td>\n",
              "      <td>0</td>\n",
              "      <td>Red</td>\n",
              "      <td>M</td>\n",
              "    </tr>\n",
              "    <tr>\n",
              "      <th>...</th>\n",
              "      <td>...</td>\n",
              "      <td>...</td>\n",
              "      <td>...</td>\n",
              "      <td>...</td>\n",
              "      <td>...</td>\n",
              "      <td>...</td>\n",
              "      <td>...</td>\n",
              "    </tr>\n",
              "    <tr>\n",
              "      <th>235</th>\n",
              "      <td>38940</td>\n",
              "      <td>374830.000000</td>\n",
              "      <td>1356.0000</td>\n",
              "      <td>-9.93</td>\n",
              "      <td>5</td>\n",
              "      <td>Blue</td>\n",
              "      <td>O</td>\n",
              "    </tr>\n",
              "    <tr>\n",
              "      <th>236</th>\n",
              "      <td>30839</td>\n",
              "      <td>834042.000000</td>\n",
              "      <td>1194.0000</td>\n",
              "      <td>-10.63</td>\n",
              "      <td>5</td>\n",
              "      <td>Blue</td>\n",
              "      <td>O</td>\n",
              "    </tr>\n",
              "    <tr>\n",
              "      <th>237</th>\n",
              "      <td>8829</td>\n",
              "      <td>537493.000000</td>\n",
              "      <td>1423.0000</td>\n",
              "      <td>-10.73</td>\n",
              "      <td>5</td>\n",
              "      <td>White</td>\n",
              "      <td>A</td>\n",
              "    </tr>\n",
              "    <tr>\n",
              "      <th>238</th>\n",
              "      <td>9235</td>\n",
              "      <td>404940.000000</td>\n",
              "      <td>1112.0000</td>\n",
              "      <td>-11.23</td>\n",
              "      <td>5</td>\n",
              "      <td>White</td>\n",
              "      <td>A</td>\n",
              "    </tr>\n",
              "    <tr>\n",
              "      <th>239</th>\n",
              "      <td>37882</td>\n",
              "      <td>294903.000000</td>\n",
              "      <td>1783.0000</td>\n",
              "      <td>-7.80</td>\n",
              "      <td>5</td>\n",
              "      <td>Blue</td>\n",
              "      <td>O</td>\n",
              "    </tr>\n",
              "  </tbody>\n",
              "</table>\n",
              "<p>240 rows × 7 columns</p>\n",
              "</div>"
            ],
            "text/plain": [
              "     Temperature (K)  Luminosity(L/Lo)  ...  Star color  Spectral Class\n",
              "0               3068          0.002400  ...         Red               M\n",
              "1               3042          0.000500  ...         Red               M\n",
              "2               2600          0.000300  ...         Red               M\n",
              "3               2800          0.000200  ...         Red               M\n",
              "4               1939          0.000138  ...         Red               M\n",
              "..               ...               ...  ...         ...             ...\n",
              "235            38940     374830.000000  ...        Blue               O\n",
              "236            30839     834042.000000  ...        Blue               O\n",
              "237             8829     537493.000000  ...       White               A\n",
              "238             9235     404940.000000  ...       White               A\n",
              "239            37882     294903.000000  ...        Blue               O\n",
              "\n",
              "[240 rows x 7 columns]"
            ]
          },
          "metadata": {},
          "execution_count": 29
        }
      ]
    },
    {
      "cell_type": "markdown",
      "metadata": {
        "id": "KsZoK3jYAzSv"
      },
      "source": [
        "Lectura de un dataset ubicado en el drive"
      ]
    },
    {
      "cell_type": "code",
      "metadata": {
        "colab": {
          "base_uri": "https://localhost:8080/",
          "height": 423
        },
        "id": "Q0LnL4yC-tlB",
        "outputId": "16b64b2b-f879-44b7-ea33-5abe0015930c"
      },
      "source": [
        "url = \"https://docs.google.com/spreadsheets/d/e/2PACX-1vSHCOR8_Ha6TvBQwIcpjvJ0bzHYel1S8DXl4NHnMhVvdbibrgL_SP6rffuESpaJvPwLuUizXblQtHox/pub?output=csv\"\n",
        "df = pd.read_csv(url)\n",
        "df"
      ],
      "execution_count": null,
      "outputs": [
        {
          "output_type": "execute_result",
          "data": {
            "text/html": [
              "<div>\n",
              "<style scoped>\n",
              "    .dataframe tbody tr th:only-of-type {\n",
              "        vertical-align: middle;\n",
              "    }\n",
              "\n",
              "    .dataframe tbody tr th {\n",
              "        vertical-align: top;\n",
              "    }\n",
              "\n",
              "    .dataframe thead th {\n",
              "        text-align: right;\n",
              "    }\n",
              "</style>\n",
              "<table border=\"1\" class=\"dataframe\">\n",
              "  <thead>\n",
              "    <tr style=\"text-align: right;\">\n",
              "      <th></th>\n",
              "      <th>location</th>\n",
              "      <th>date</th>\n",
              "      <th>vaccine</th>\n",
              "      <th>total_vaccinations</th>\n",
              "    </tr>\n",
              "  </thead>\n",
              "  <tbody>\n",
              "    <tr>\n",
              "      <th>0</th>\n",
              "      <td>Austria</td>\n",
              "      <td>2021-01-08</td>\n",
              "      <td>Johnson&amp;Johnson</td>\n",
              "      <td>0</td>\n",
              "    </tr>\n",
              "    <tr>\n",
              "      <th>1</th>\n",
              "      <td>Austria</td>\n",
              "      <td>2021-01-08</td>\n",
              "      <td>Moderna</td>\n",
              "      <td>0</td>\n",
              "    </tr>\n",
              "    <tr>\n",
              "      <th>2</th>\n",
              "      <td>Austria</td>\n",
              "      <td>2021-01-08</td>\n",
              "      <td>Oxford/AstraZeneca</td>\n",
              "      <td>0</td>\n",
              "    </tr>\n",
              "    <tr>\n",
              "      <th>3</th>\n",
              "      <td>Austria</td>\n",
              "      <td>2021-01-08</td>\n",
              "      <td>Pfizer/BioNTech</td>\n",
              "      <td>31284</td>\n",
              "    </tr>\n",
              "    <tr>\n",
              "      <th>4</th>\n",
              "      <td>Austria</td>\n",
              "      <td>2021-01-15</td>\n",
              "      <td>Johnson&amp;Johnson</td>\n",
              "      <td>0</td>\n",
              "    </tr>\n",
              "    <tr>\n",
              "      <th>...</th>\n",
              "      <td>...</td>\n",
              "      <td>...</td>\n",
              "      <td>...</td>\n",
              "      <td>...</td>\n",
              "    </tr>\n",
              "    <tr>\n",
              "      <th>21892</th>\n",
              "      <td>European Union</td>\n",
              "      <td>2021-11-20</td>\n",
              "      <td>Oxford/AstraZeneca</td>\n",
              "      <td>67212673</td>\n",
              "    </tr>\n",
              "    <tr>\n",
              "      <th>21893</th>\n",
              "      <td>European Union</td>\n",
              "      <td>2021-11-20</td>\n",
              "      <td>Pfizer/BioNTech</td>\n",
              "      <td>438725101</td>\n",
              "    </tr>\n",
              "    <tr>\n",
              "      <th>21894</th>\n",
              "      <td>European Union</td>\n",
              "      <td>2021-11-20</td>\n",
              "      <td>Sinopharm/Beijing</td>\n",
              "      <td>2157500</td>\n",
              "    </tr>\n",
              "    <tr>\n",
              "      <th>21895</th>\n",
              "      <td>European Union</td>\n",
              "      <td>2021-11-20</td>\n",
              "      <td>Sinovac</td>\n",
              "      <td>9</td>\n",
              "    </tr>\n",
              "    <tr>\n",
              "      <th>21896</th>\n",
              "      <td>European Union</td>\n",
              "      <td>2021-11-20</td>\n",
              "      <td>Sputnik V</td>\n",
              "      <td>1845062</td>\n",
              "    </tr>\n",
              "  </tbody>\n",
              "</table>\n",
              "<p>21897 rows × 4 columns</p>\n",
              "</div>"
            ],
            "text/plain": [
              "             location        date             vaccine  total_vaccinations\n",
              "0             Austria  2021-01-08     Johnson&Johnson                   0\n",
              "1             Austria  2021-01-08             Moderna                   0\n",
              "2             Austria  2021-01-08  Oxford/AstraZeneca                   0\n",
              "3             Austria  2021-01-08     Pfizer/BioNTech               31284\n",
              "4             Austria  2021-01-15     Johnson&Johnson                   0\n",
              "...               ...         ...                 ...                 ...\n",
              "21892  European Union  2021-11-20  Oxford/AstraZeneca            67212673\n",
              "21893  European Union  2021-11-20     Pfizer/BioNTech           438725101\n",
              "21894  European Union  2021-11-20   Sinopharm/Beijing             2157500\n",
              "21895  European Union  2021-11-20             Sinovac                   9\n",
              "21896  European Union  2021-11-20           Sputnik V             1845062\n",
              "\n",
              "[21897 rows x 4 columns]"
            ]
          },
          "metadata": {},
          "execution_count": 30
        }
      ]
    },
    {
      "cell_type": "markdown",
      "metadata": {
        "id": "m4_dXXZQH_hY"
      },
      "source": [
        "Asignacion a la columna index  la columna date"
      ]
    },
    {
      "cell_type": "code",
      "metadata": {
        "id": "WNs47UiYAVwZ"
      },
      "source": [
        "df = pd.read_csv(url, index_col=\"date\")"
      ],
      "execution_count": null,
      "outputs": []
    },
    {
      "cell_type": "code",
      "metadata": {
        "colab": {
          "base_uri": "https://localhost:8080/",
          "height": 455
        },
        "id": "lOHKEiSDAZja",
        "outputId": "405ccf7f-e783-4e9d-d257-5dcc816707e3"
      },
      "source": [
        "df"
      ],
      "execution_count": null,
      "outputs": [
        {
          "output_type": "execute_result",
          "data": {
            "text/html": [
              "<div>\n",
              "<style scoped>\n",
              "    .dataframe tbody tr th:only-of-type {\n",
              "        vertical-align: middle;\n",
              "    }\n",
              "\n",
              "    .dataframe tbody tr th {\n",
              "        vertical-align: top;\n",
              "    }\n",
              "\n",
              "    .dataframe thead th {\n",
              "        text-align: right;\n",
              "    }\n",
              "</style>\n",
              "<table border=\"1\" class=\"dataframe\">\n",
              "  <thead>\n",
              "    <tr style=\"text-align: right;\">\n",
              "      <th></th>\n",
              "      <th>location</th>\n",
              "      <th>vaccine</th>\n",
              "      <th>total_vaccinations</th>\n",
              "    </tr>\n",
              "    <tr>\n",
              "      <th>date</th>\n",
              "      <th></th>\n",
              "      <th></th>\n",
              "      <th></th>\n",
              "    </tr>\n",
              "  </thead>\n",
              "  <tbody>\n",
              "    <tr>\n",
              "      <th>2021-01-08</th>\n",
              "      <td>Austria</td>\n",
              "      <td>Johnson&amp;Johnson</td>\n",
              "      <td>0</td>\n",
              "    </tr>\n",
              "    <tr>\n",
              "      <th>2021-01-08</th>\n",
              "      <td>Austria</td>\n",
              "      <td>Moderna</td>\n",
              "      <td>0</td>\n",
              "    </tr>\n",
              "    <tr>\n",
              "      <th>2021-01-08</th>\n",
              "      <td>Austria</td>\n",
              "      <td>Oxford/AstraZeneca</td>\n",
              "      <td>0</td>\n",
              "    </tr>\n",
              "    <tr>\n",
              "      <th>2021-01-08</th>\n",
              "      <td>Austria</td>\n",
              "      <td>Pfizer/BioNTech</td>\n",
              "      <td>31284</td>\n",
              "    </tr>\n",
              "    <tr>\n",
              "      <th>2021-01-15</th>\n",
              "      <td>Austria</td>\n",
              "      <td>Johnson&amp;Johnson</td>\n",
              "      <td>0</td>\n",
              "    </tr>\n",
              "    <tr>\n",
              "      <th>...</th>\n",
              "      <td>...</td>\n",
              "      <td>...</td>\n",
              "      <td>...</td>\n",
              "    </tr>\n",
              "    <tr>\n",
              "      <th>2021-11-20</th>\n",
              "      <td>European Union</td>\n",
              "      <td>Oxford/AstraZeneca</td>\n",
              "      <td>67212673</td>\n",
              "    </tr>\n",
              "    <tr>\n",
              "      <th>2021-11-20</th>\n",
              "      <td>European Union</td>\n",
              "      <td>Pfizer/BioNTech</td>\n",
              "      <td>438725101</td>\n",
              "    </tr>\n",
              "    <tr>\n",
              "      <th>2021-11-20</th>\n",
              "      <td>European Union</td>\n",
              "      <td>Sinopharm/Beijing</td>\n",
              "      <td>2157500</td>\n",
              "    </tr>\n",
              "    <tr>\n",
              "      <th>2021-11-20</th>\n",
              "      <td>European Union</td>\n",
              "      <td>Sinovac</td>\n",
              "      <td>9</td>\n",
              "    </tr>\n",
              "    <tr>\n",
              "      <th>2021-11-20</th>\n",
              "      <td>European Union</td>\n",
              "      <td>Sputnik V</td>\n",
              "      <td>1845062</td>\n",
              "    </tr>\n",
              "  </tbody>\n",
              "</table>\n",
              "<p>21897 rows × 3 columns</p>\n",
              "</div>"
            ],
            "text/plain": [
              "                  location             vaccine  total_vaccinations\n",
              "date                                                              \n",
              "2021-01-08         Austria     Johnson&Johnson                   0\n",
              "2021-01-08         Austria             Moderna                   0\n",
              "2021-01-08         Austria  Oxford/AstraZeneca                   0\n",
              "2021-01-08         Austria     Pfizer/BioNTech               31284\n",
              "2021-01-15         Austria     Johnson&Johnson                   0\n",
              "...                    ...                 ...                 ...\n",
              "2021-11-20  European Union  Oxford/AstraZeneca            67212673\n",
              "2021-11-20  European Union     Pfizer/BioNTech           438725101\n",
              "2021-11-20  European Union   Sinopharm/Beijing             2157500\n",
              "2021-11-20  European Union             Sinovac                   9\n",
              "2021-11-20  European Union           Sputnik V             1845062\n",
              "\n",
              "[21897 rows x 3 columns]"
            ]
          },
          "metadata": {},
          "execution_count": 33
        }
      ]
    },
    {
      "cell_type": "markdown",
      "metadata": {
        "id": "lCikUuRTIOYO"
      },
      "source": [
        "Renombrar columnas"
      ]
    },
    {
      "cell_type": "code",
      "metadata": {
        "colab": {
          "base_uri": "https://localhost:8080/",
          "height": 455
        },
        "id": "jkWwczhTCK2R",
        "outputId": "c7b67cd6-968e-48b5-e186-2bc236c801bb"
      },
      "source": [
        "df1 = df.rename(columns={\"location\": \"Location\", \n",
        "                         \"vaccine\":\" Vaccine \", \n",
        "                         \"total_vaccinations\":\"Total Vaccinations\"} ).copy()  #inplace=True\n",
        "df1\n",
        "#Note el espacio en Vaccine"
      ],
      "execution_count": null,
      "outputs": [
        {
          "output_type": "execute_result",
          "data": {
            "text/html": [
              "<div>\n",
              "<style scoped>\n",
              "    .dataframe tbody tr th:only-of-type {\n",
              "        vertical-align: middle;\n",
              "    }\n",
              "\n",
              "    .dataframe tbody tr th {\n",
              "        vertical-align: top;\n",
              "    }\n",
              "\n",
              "    .dataframe thead th {\n",
              "        text-align: right;\n",
              "    }\n",
              "</style>\n",
              "<table border=\"1\" class=\"dataframe\">\n",
              "  <thead>\n",
              "    <tr style=\"text-align: right;\">\n",
              "      <th></th>\n",
              "      <th>Location</th>\n",
              "      <th>Vaccine</th>\n",
              "      <th>Total Vaccinations</th>\n",
              "    </tr>\n",
              "    <tr>\n",
              "      <th>date</th>\n",
              "      <th></th>\n",
              "      <th></th>\n",
              "      <th></th>\n",
              "    </tr>\n",
              "  </thead>\n",
              "  <tbody>\n",
              "    <tr>\n",
              "      <th>2021-01-08</th>\n",
              "      <td>Austria</td>\n",
              "      <td>Johnson&amp;Johnson</td>\n",
              "      <td>0</td>\n",
              "    </tr>\n",
              "    <tr>\n",
              "      <th>2021-01-08</th>\n",
              "      <td>Austria</td>\n",
              "      <td>Moderna</td>\n",
              "      <td>0</td>\n",
              "    </tr>\n",
              "    <tr>\n",
              "      <th>2021-01-08</th>\n",
              "      <td>Austria</td>\n",
              "      <td>Oxford/AstraZeneca</td>\n",
              "      <td>0</td>\n",
              "    </tr>\n",
              "    <tr>\n",
              "      <th>2021-01-08</th>\n",
              "      <td>Austria</td>\n",
              "      <td>Pfizer/BioNTech</td>\n",
              "      <td>31284</td>\n",
              "    </tr>\n",
              "    <tr>\n",
              "      <th>2021-01-15</th>\n",
              "      <td>Austria</td>\n",
              "      <td>Johnson&amp;Johnson</td>\n",
              "      <td>0</td>\n",
              "    </tr>\n",
              "    <tr>\n",
              "      <th>...</th>\n",
              "      <td>...</td>\n",
              "      <td>...</td>\n",
              "      <td>...</td>\n",
              "    </tr>\n",
              "    <tr>\n",
              "      <th>2021-11-20</th>\n",
              "      <td>European Union</td>\n",
              "      <td>Oxford/AstraZeneca</td>\n",
              "      <td>67212673</td>\n",
              "    </tr>\n",
              "    <tr>\n",
              "      <th>2021-11-20</th>\n",
              "      <td>European Union</td>\n",
              "      <td>Pfizer/BioNTech</td>\n",
              "      <td>438725101</td>\n",
              "    </tr>\n",
              "    <tr>\n",
              "      <th>2021-11-20</th>\n",
              "      <td>European Union</td>\n",
              "      <td>Sinopharm/Beijing</td>\n",
              "      <td>2157500</td>\n",
              "    </tr>\n",
              "    <tr>\n",
              "      <th>2021-11-20</th>\n",
              "      <td>European Union</td>\n",
              "      <td>Sinovac</td>\n",
              "      <td>9</td>\n",
              "    </tr>\n",
              "    <tr>\n",
              "      <th>2021-11-20</th>\n",
              "      <td>European Union</td>\n",
              "      <td>Sputnik V</td>\n",
              "      <td>1845062</td>\n",
              "    </tr>\n",
              "  </tbody>\n",
              "</table>\n",
              "<p>21897 rows × 3 columns</p>\n",
              "</div>"
            ],
            "text/plain": [
              "                  Location            Vaccine   Total Vaccinations\n",
              "date                                                              \n",
              "2021-01-08         Austria     Johnson&Johnson                   0\n",
              "2021-01-08         Austria             Moderna                   0\n",
              "2021-01-08         Austria  Oxford/AstraZeneca                   0\n",
              "2021-01-08         Austria     Pfizer/BioNTech               31284\n",
              "2021-01-15         Austria     Johnson&Johnson                   0\n",
              "...                    ...                 ...                 ...\n",
              "2021-11-20  European Union  Oxford/AstraZeneca            67212673\n",
              "2021-11-20  European Union     Pfizer/BioNTech           438725101\n",
              "2021-11-20  European Union   Sinopharm/Beijing             2157500\n",
              "2021-11-20  European Union             Sinovac                   9\n",
              "2021-11-20  European Union           Sputnik V             1845062\n",
              "\n",
              "[21897 rows x 3 columns]"
            ]
          },
          "metadata": {},
          "execution_count": 34
        }
      ]
    },
    {
      "cell_type": "markdown",
      "metadata": {
        "id": "ofqn2YCJIYJU"
      },
      "source": [
        "Convirtiendo a minusculas todas las columnas"
      ]
    },
    {
      "cell_type": "code",
      "metadata": {
        "colab": {
          "base_uri": "https://localhost:8080/",
          "height": 455
        },
        "id": "ZdEO9FzpCavn",
        "outputId": "f4477ec4-6bc5-489a-e310-02b81717e520"
      },
      "source": [
        "new_df = df1.rename(mapper = str.lower, axis=\"columns\")\n",
        "new_df\n"
      ],
      "execution_count": null,
      "outputs": [
        {
          "output_type": "execute_result",
          "data": {
            "text/html": [
              "<div>\n",
              "<style scoped>\n",
              "    .dataframe tbody tr th:only-of-type {\n",
              "        vertical-align: middle;\n",
              "    }\n",
              "\n",
              "    .dataframe tbody tr th {\n",
              "        vertical-align: top;\n",
              "    }\n",
              "\n",
              "    .dataframe thead th {\n",
              "        text-align: right;\n",
              "    }\n",
              "</style>\n",
              "<table border=\"1\" class=\"dataframe\">\n",
              "  <thead>\n",
              "    <tr style=\"text-align: right;\">\n",
              "      <th></th>\n",
              "      <th>location</th>\n",
              "      <th>vaccine</th>\n",
              "      <th>total vaccinations</th>\n",
              "    </tr>\n",
              "    <tr>\n",
              "      <th>date</th>\n",
              "      <th></th>\n",
              "      <th></th>\n",
              "      <th></th>\n",
              "    </tr>\n",
              "  </thead>\n",
              "  <tbody>\n",
              "    <tr>\n",
              "      <th>2021-01-08</th>\n",
              "      <td>Austria</td>\n",
              "      <td>Johnson&amp;Johnson</td>\n",
              "      <td>0</td>\n",
              "    </tr>\n",
              "    <tr>\n",
              "      <th>2021-01-08</th>\n",
              "      <td>Austria</td>\n",
              "      <td>Moderna</td>\n",
              "      <td>0</td>\n",
              "    </tr>\n",
              "    <tr>\n",
              "      <th>2021-01-08</th>\n",
              "      <td>Austria</td>\n",
              "      <td>Oxford/AstraZeneca</td>\n",
              "      <td>0</td>\n",
              "    </tr>\n",
              "    <tr>\n",
              "      <th>2021-01-08</th>\n",
              "      <td>Austria</td>\n",
              "      <td>Pfizer/BioNTech</td>\n",
              "      <td>31284</td>\n",
              "    </tr>\n",
              "    <tr>\n",
              "      <th>2021-01-15</th>\n",
              "      <td>Austria</td>\n",
              "      <td>Johnson&amp;Johnson</td>\n",
              "      <td>0</td>\n",
              "    </tr>\n",
              "    <tr>\n",
              "      <th>...</th>\n",
              "      <td>...</td>\n",
              "      <td>...</td>\n",
              "      <td>...</td>\n",
              "    </tr>\n",
              "    <tr>\n",
              "      <th>2021-11-20</th>\n",
              "      <td>European Union</td>\n",
              "      <td>Oxford/AstraZeneca</td>\n",
              "      <td>67212673</td>\n",
              "    </tr>\n",
              "    <tr>\n",
              "      <th>2021-11-20</th>\n",
              "      <td>European Union</td>\n",
              "      <td>Pfizer/BioNTech</td>\n",
              "      <td>438725101</td>\n",
              "    </tr>\n",
              "    <tr>\n",
              "      <th>2021-11-20</th>\n",
              "      <td>European Union</td>\n",
              "      <td>Sinopharm/Beijing</td>\n",
              "      <td>2157500</td>\n",
              "    </tr>\n",
              "    <tr>\n",
              "      <th>2021-11-20</th>\n",
              "      <td>European Union</td>\n",
              "      <td>Sinovac</td>\n",
              "      <td>9</td>\n",
              "    </tr>\n",
              "    <tr>\n",
              "      <th>2021-11-20</th>\n",
              "      <td>European Union</td>\n",
              "      <td>Sputnik V</td>\n",
              "      <td>1845062</td>\n",
              "    </tr>\n",
              "  </tbody>\n",
              "</table>\n",
              "<p>21897 rows × 3 columns</p>\n",
              "</div>"
            ],
            "text/plain": [
              "                  location            vaccine   total vaccinations\n",
              "date                                                              \n",
              "2021-01-08         Austria     Johnson&Johnson                   0\n",
              "2021-01-08         Austria             Moderna                   0\n",
              "2021-01-08         Austria  Oxford/AstraZeneca                   0\n",
              "2021-01-08         Austria     Pfizer/BioNTech               31284\n",
              "2021-01-15         Austria     Johnson&Johnson                   0\n",
              "...                    ...                 ...                 ...\n",
              "2021-11-20  European Union  Oxford/AstraZeneca            67212673\n",
              "2021-11-20  European Union     Pfizer/BioNTech           438725101\n",
              "2021-11-20  European Union   Sinopharm/Beijing             2157500\n",
              "2021-11-20  European Union             Sinovac                   9\n",
              "2021-11-20  European Union           Sputnik V             1845062\n",
              "\n",
              "[21897 rows x 3 columns]"
            ]
          },
          "metadata": {},
          "execution_count": 36
        }
      ]
    },
    {
      "cell_type": "code",
      "metadata": {
        "colab": {
          "base_uri": "https://localhost:8080/"
        },
        "id": "7PDI3y862Iyr",
        "outputId": "fbcdcf03-bee9-4be4-b85a-af43649c970b"
      },
      "source": [
        "new_df.columns"
      ],
      "execution_count": null,
      "outputs": [
        {
          "output_type": "execute_result",
          "data": {
            "text/plain": [
              "Index(['location', ' vaccine ', 'total vaccinations'], dtype='object')"
            ]
          },
          "metadata": {},
          "execution_count": 37
        }
      ]
    },
    {
      "cell_type": "markdown",
      "metadata": {
        "id": "YMkz2Sg4IcG2"
      },
      "source": [
        "Elimnando el espacio inicial de todas las columnas"
      ]
    },
    {
      "cell_type": "code",
      "metadata": {
        "colab": {
          "base_uri": "https://localhost:8080/",
          "height": 455
        },
        "id": "Em4Z5QgbDIbF",
        "outputId": "379a0197-f70e-47a8-cf7f-b6dcf40cbfbb"
      },
      "source": [
        "new_df = new_df.rename(mapper = str.strip, axis=\"columns\")\n",
        "new_df"
      ],
      "execution_count": null,
      "outputs": [
        {
          "output_type": "execute_result",
          "data": {
            "text/html": [
              "<div>\n",
              "<style scoped>\n",
              "    .dataframe tbody tr th:only-of-type {\n",
              "        vertical-align: middle;\n",
              "    }\n",
              "\n",
              "    .dataframe tbody tr th {\n",
              "        vertical-align: top;\n",
              "    }\n",
              "\n",
              "    .dataframe thead th {\n",
              "        text-align: right;\n",
              "    }\n",
              "</style>\n",
              "<table border=\"1\" class=\"dataframe\">\n",
              "  <thead>\n",
              "    <tr style=\"text-align: right;\">\n",
              "      <th></th>\n",
              "      <th>location</th>\n",
              "      <th>vaccine</th>\n",
              "      <th>total vaccinations</th>\n",
              "    </tr>\n",
              "    <tr>\n",
              "      <th>date</th>\n",
              "      <th></th>\n",
              "      <th></th>\n",
              "      <th></th>\n",
              "    </tr>\n",
              "  </thead>\n",
              "  <tbody>\n",
              "    <tr>\n",
              "      <th>2021-01-08</th>\n",
              "      <td>Austria</td>\n",
              "      <td>Johnson&amp;Johnson</td>\n",
              "      <td>0</td>\n",
              "    </tr>\n",
              "    <tr>\n",
              "      <th>2021-01-08</th>\n",
              "      <td>Austria</td>\n",
              "      <td>Moderna</td>\n",
              "      <td>0</td>\n",
              "    </tr>\n",
              "    <tr>\n",
              "      <th>2021-01-08</th>\n",
              "      <td>Austria</td>\n",
              "      <td>Oxford/AstraZeneca</td>\n",
              "      <td>0</td>\n",
              "    </tr>\n",
              "    <tr>\n",
              "      <th>2021-01-08</th>\n",
              "      <td>Austria</td>\n",
              "      <td>Pfizer/BioNTech</td>\n",
              "      <td>31284</td>\n",
              "    </tr>\n",
              "    <tr>\n",
              "      <th>2021-01-15</th>\n",
              "      <td>Austria</td>\n",
              "      <td>Johnson&amp;Johnson</td>\n",
              "      <td>0</td>\n",
              "    </tr>\n",
              "    <tr>\n",
              "      <th>...</th>\n",
              "      <td>...</td>\n",
              "      <td>...</td>\n",
              "      <td>...</td>\n",
              "    </tr>\n",
              "    <tr>\n",
              "      <th>2021-11-20</th>\n",
              "      <td>European Union</td>\n",
              "      <td>Oxford/AstraZeneca</td>\n",
              "      <td>67212673</td>\n",
              "    </tr>\n",
              "    <tr>\n",
              "      <th>2021-11-20</th>\n",
              "      <td>European Union</td>\n",
              "      <td>Pfizer/BioNTech</td>\n",
              "      <td>438725101</td>\n",
              "    </tr>\n",
              "    <tr>\n",
              "      <th>2021-11-20</th>\n",
              "      <td>European Union</td>\n",
              "      <td>Sinopharm/Beijing</td>\n",
              "      <td>2157500</td>\n",
              "    </tr>\n",
              "    <tr>\n",
              "      <th>2021-11-20</th>\n",
              "      <td>European Union</td>\n",
              "      <td>Sinovac</td>\n",
              "      <td>9</td>\n",
              "    </tr>\n",
              "    <tr>\n",
              "      <th>2021-11-20</th>\n",
              "      <td>European Union</td>\n",
              "      <td>Sputnik V</td>\n",
              "      <td>1845062</td>\n",
              "    </tr>\n",
              "  </tbody>\n",
              "</table>\n",
              "<p>21897 rows × 3 columns</p>\n",
              "</div>"
            ],
            "text/plain": [
              "                  location             vaccine  total vaccinations\n",
              "date                                                              \n",
              "2021-01-08         Austria     Johnson&Johnson                   0\n",
              "2021-01-08         Austria             Moderna                   0\n",
              "2021-01-08         Austria  Oxford/AstraZeneca                   0\n",
              "2021-01-08         Austria     Pfizer/BioNTech               31284\n",
              "2021-01-15         Austria     Johnson&Johnson                   0\n",
              "...                    ...                 ...                 ...\n",
              "2021-11-20  European Union  Oxford/AstraZeneca            67212673\n",
              "2021-11-20  European Union     Pfizer/BioNTech           438725101\n",
              "2021-11-20  European Union   Sinopharm/Beijing             2157500\n",
              "2021-11-20  European Union             Sinovac                   9\n",
              "2021-11-20  European Union           Sputnik V             1845062\n",
              "\n",
              "[21897 rows x 3 columns]"
            ]
          },
          "metadata": {},
          "execution_count": 38
        }
      ]
    },
    {
      "cell_type": "markdown",
      "metadata": {
        "id": "m7Lz7n1wIiYE"
      },
      "source": [
        "inicializando el indice a valores enteros"
      ]
    },
    {
      "cell_type": "code",
      "metadata": {
        "colab": {
          "base_uri": "https://localhost:8080/",
          "height": 423
        },
        "id": "PEQ4snAjIhHf",
        "outputId": "bd26360d-5dda-4e3d-f89f-5b35e4db7c36"
      },
      "source": [
        "new_df = new_df.reset_index()\n",
        "new_df"
      ],
      "execution_count": null,
      "outputs": [
        {
          "output_type": "execute_result",
          "data": {
            "text/html": [
              "<div>\n",
              "<style scoped>\n",
              "    .dataframe tbody tr th:only-of-type {\n",
              "        vertical-align: middle;\n",
              "    }\n",
              "\n",
              "    .dataframe tbody tr th {\n",
              "        vertical-align: top;\n",
              "    }\n",
              "\n",
              "    .dataframe thead th {\n",
              "        text-align: right;\n",
              "    }\n",
              "</style>\n",
              "<table border=\"1\" class=\"dataframe\">\n",
              "  <thead>\n",
              "    <tr style=\"text-align: right;\">\n",
              "      <th></th>\n",
              "      <th>date</th>\n",
              "      <th>location</th>\n",
              "      <th>vaccine</th>\n",
              "      <th>total vaccinations</th>\n",
              "    </tr>\n",
              "  </thead>\n",
              "  <tbody>\n",
              "    <tr>\n",
              "      <th>0</th>\n",
              "      <td>2021-01-08</td>\n",
              "      <td>Austria</td>\n",
              "      <td>Johnson&amp;Johnson</td>\n",
              "      <td>0</td>\n",
              "    </tr>\n",
              "    <tr>\n",
              "      <th>1</th>\n",
              "      <td>2021-01-08</td>\n",
              "      <td>Austria</td>\n",
              "      <td>Moderna</td>\n",
              "      <td>0</td>\n",
              "    </tr>\n",
              "    <tr>\n",
              "      <th>2</th>\n",
              "      <td>2021-01-08</td>\n",
              "      <td>Austria</td>\n",
              "      <td>Oxford/AstraZeneca</td>\n",
              "      <td>0</td>\n",
              "    </tr>\n",
              "    <tr>\n",
              "      <th>3</th>\n",
              "      <td>2021-01-08</td>\n",
              "      <td>Austria</td>\n",
              "      <td>Pfizer/BioNTech</td>\n",
              "      <td>31284</td>\n",
              "    </tr>\n",
              "    <tr>\n",
              "      <th>4</th>\n",
              "      <td>2021-01-15</td>\n",
              "      <td>Austria</td>\n",
              "      <td>Johnson&amp;Johnson</td>\n",
              "      <td>0</td>\n",
              "    </tr>\n",
              "    <tr>\n",
              "      <th>...</th>\n",
              "      <td>...</td>\n",
              "      <td>...</td>\n",
              "      <td>...</td>\n",
              "      <td>...</td>\n",
              "    </tr>\n",
              "    <tr>\n",
              "      <th>21892</th>\n",
              "      <td>2021-11-20</td>\n",
              "      <td>European Union</td>\n",
              "      <td>Oxford/AstraZeneca</td>\n",
              "      <td>67212673</td>\n",
              "    </tr>\n",
              "    <tr>\n",
              "      <th>21893</th>\n",
              "      <td>2021-11-20</td>\n",
              "      <td>European Union</td>\n",
              "      <td>Pfizer/BioNTech</td>\n",
              "      <td>438725101</td>\n",
              "    </tr>\n",
              "    <tr>\n",
              "      <th>21894</th>\n",
              "      <td>2021-11-20</td>\n",
              "      <td>European Union</td>\n",
              "      <td>Sinopharm/Beijing</td>\n",
              "      <td>2157500</td>\n",
              "    </tr>\n",
              "    <tr>\n",
              "      <th>21895</th>\n",
              "      <td>2021-11-20</td>\n",
              "      <td>European Union</td>\n",
              "      <td>Sinovac</td>\n",
              "      <td>9</td>\n",
              "    </tr>\n",
              "    <tr>\n",
              "      <th>21896</th>\n",
              "      <td>2021-11-20</td>\n",
              "      <td>European Union</td>\n",
              "      <td>Sputnik V</td>\n",
              "      <td>1845062</td>\n",
              "    </tr>\n",
              "  </tbody>\n",
              "</table>\n",
              "<p>21897 rows × 4 columns</p>\n",
              "</div>"
            ],
            "text/plain": [
              "             date        location             vaccine  total vaccinations\n",
              "0      2021-01-08         Austria     Johnson&Johnson                   0\n",
              "1      2021-01-08         Austria             Moderna                   0\n",
              "2      2021-01-08         Austria  Oxford/AstraZeneca                   0\n",
              "3      2021-01-08         Austria     Pfizer/BioNTech               31284\n",
              "4      2021-01-15         Austria     Johnson&Johnson                   0\n",
              "...           ...             ...                 ...                 ...\n",
              "21892  2021-11-20  European Union  Oxford/AstraZeneca            67212673\n",
              "21893  2021-11-20  European Union     Pfizer/BioNTech           438725101\n",
              "21894  2021-11-20  European Union   Sinopharm/Beijing             2157500\n",
              "21895  2021-11-20  European Union             Sinovac                   9\n",
              "21896  2021-11-20  European Union           Sputnik V             1845062\n",
              "\n",
              "[21897 rows x 4 columns]"
            ]
          },
          "metadata": {},
          "execution_count": 39
        }
      ]
    },
    {
      "cell_type": "markdown",
      "metadata": {
        "id": "8365UsknEldi"
      },
      "source": [
        "Otra forma de generar el cambio"
      ]
    },
    {
      "cell_type": "code",
      "metadata": {
        "colab": {
          "base_uri": "https://localhost:8080/"
        },
        "id": "0hQJDv2SDZcU",
        "outputId": "5f98198c-c878-44eb-a3f5-f34c9819c82f"
      },
      "source": [
        "df1.columns"
      ],
      "execution_count": null,
      "outputs": [
        {
          "output_type": "execute_result",
          "data": {
            "text/plain": [
              "Index(['Location', ' Vaccine ', 'Total Vaccinations'], dtype='object')"
            ]
          },
          "metadata": {},
          "execution_count": 40
        }
      ]
    },
    {
      "cell_type": "code",
      "metadata": {
        "id": "3ZqnXBAUEiRs"
      },
      "source": [
        "cols = [c.lower().strip() for c in df1.columns]"
      ],
      "execution_count": null,
      "outputs": []
    },
    {
      "cell_type": "code",
      "metadata": {
        "id": "5AQRngv0E1yO"
      },
      "source": [
        "df1.columns = cols"
      ],
      "execution_count": null,
      "outputs": []
    },
    {
      "cell_type": "code",
      "metadata": {
        "colab": {
          "base_uri": "https://localhost:8080/"
        },
        "id": "HOPBbPaZE2WE",
        "outputId": "1436c37c-bf1a-4c56-cfde-106a916fdee5"
      },
      "source": [
        "df1.columns"
      ],
      "execution_count": null,
      "outputs": [
        {
          "output_type": "execute_result",
          "data": {
            "text/plain": [
              "Index(['location', 'vaccine', 'total vaccinations'], dtype='object')"
            ]
          },
          "metadata": {},
          "execution_count": 43
        }
      ]
    },
    {
      "cell_type": "markdown",
      "metadata": {
        "id": "t7TBxazlNLyS"
      },
      "source": [
        "![img](https://github.com/hernansalinas/Curso_aprendizaje_estadistico/blob/main/Sesiones/imagenes/codeCase.png?raw=true \"CodeCase\")"
      ]
    },
    {
      "cell_type": "markdown",
      "metadata": {
        "id": "g3lsrvjRF4KB"
      },
      "source": [
        "# Pascal Case notation"
      ]
    },
    {
      "cell_type": "code",
      "metadata": {
        "colab": {
          "base_uri": "https://localhost:8080/",
          "height": 423
        },
        "id": "NejJMDLPFmWl",
        "outputId": "884d4aa3-4b12-4709-8ebc-4e27b4979abb"
      },
      "source": [
        "#https://www.kaggle.com/saliblue/country-vaccinations-by-manufacturer\n",
        "url = \"https://docs.google.com/spreadsheets/d/e/2PACX-1vSHCOR8_Ha6TvBQwIcpjvJ0bzHYel1S8DXl4NHnMhVvdbibrgL_SP6rffuESpaJvPwLuUizXblQtHox/pub?output=csv\"\n",
        "df = pd.read_csv(url)\n",
        "df\n"
      ],
      "execution_count": null,
      "outputs": [
        {
          "output_type": "execute_result",
          "data": {
            "text/html": [
              "<div>\n",
              "<style scoped>\n",
              "    .dataframe tbody tr th:only-of-type {\n",
              "        vertical-align: middle;\n",
              "    }\n",
              "\n",
              "    .dataframe tbody tr th {\n",
              "        vertical-align: top;\n",
              "    }\n",
              "\n",
              "    .dataframe thead th {\n",
              "        text-align: right;\n",
              "    }\n",
              "</style>\n",
              "<table border=\"1\" class=\"dataframe\">\n",
              "  <thead>\n",
              "    <tr style=\"text-align: right;\">\n",
              "      <th></th>\n",
              "      <th>location</th>\n",
              "      <th>date</th>\n",
              "      <th>vaccine</th>\n",
              "      <th>total_vaccinations</th>\n",
              "    </tr>\n",
              "  </thead>\n",
              "  <tbody>\n",
              "    <tr>\n",
              "      <th>0</th>\n",
              "      <td>Austria</td>\n",
              "      <td>2021-01-08</td>\n",
              "      <td>Johnson&amp;Johnson</td>\n",
              "      <td>0</td>\n",
              "    </tr>\n",
              "    <tr>\n",
              "      <th>1</th>\n",
              "      <td>Austria</td>\n",
              "      <td>2021-01-08</td>\n",
              "      <td>Moderna</td>\n",
              "      <td>0</td>\n",
              "    </tr>\n",
              "    <tr>\n",
              "      <th>2</th>\n",
              "      <td>Austria</td>\n",
              "      <td>2021-01-08</td>\n",
              "      <td>Oxford/AstraZeneca</td>\n",
              "      <td>0</td>\n",
              "    </tr>\n",
              "    <tr>\n",
              "      <th>3</th>\n",
              "      <td>Austria</td>\n",
              "      <td>2021-01-08</td>\n",
              "      <td>Pfizer/BioNTech</td>\n",
              "      <td>31284</td>\n",
              "    </tr>\n",
              "    <tr>\n",
              "      <th>4</th>\n",
              "      <td>Austria</td>\n",
              "      <td>2021-01-15</td>\n",
              "      <td>Johnson&amp;Johnson</td>\n",
              "      <td>0</td>\n",
              "    </tr>\n",
              "    <tr>\n",
              "      <th>...</th>\n",
              "      <td>...</td>\n",
              "      <td>...</td>\n",
              "      <td>...</td>\n",
              "      <td>...</td>\n",
              "    </tr>\n",
              "    <tr>\n",
              "      <th>21892</th>\n",
              "      <td>European Union</td>\n",
              "      <td>2021-11-20</td>\n",
              "      <td>Oxford/AstraZeneca</td>\n",
              "      <td>67212673</td>\n",
              "    </tr>\n",
              "    <tr>\n",
              "      <th>21893</th>\n",
              "      <td>European Union</td>\n",
              "      <td>2021-11-20</td>\n",
              "      <td>Pfizer/BioNTech</td>\n",
              "      <td>438725101</td>\n",
              "    </tr>\n",
              "    <tr>\n",
              "      <th>21894</th>\n",
              "      <td>European Union</td>\n",
              "      <td>2021-11-20</td>\n",
              "      <td>Sinopharm/Beijing</td>\n",
              "      <td>2157500</td>\n",
              "    </tr>\n",
              "    <tr>\n",
              "      <th>21895</th>\n",
              "      <td>European Union</td>\n",
              "      <td>2021-11-20</td>\n",
              "      <td>Sinovac</td>\n",
              "      <td>9</td>\n",
              "    </tr>\n",
              "    <tr>\n",
              "      <th>21896</th>\n",
              "      <td>European Union</td>\n",
              "      <td>2021-11-20</td>\n",
              "      <td>Sputnik V</td>\n",
              "      <td>1845062</td>\n",
              "    </tr>\n",
              "  </tbody>\n",
              "</table>\n",
              "<p>21897 rows × 4 columns</p>\n",
              "</div>"
            ],
            "text/plain": [
              "             location        date             vaccine  total_vaccinations\n",
              "0             Austria  2021-01-08     Johnson&Johnson                   0\n",
              "1             Austria  2021-01-08             Moderna                   0\n",
              "2             Austria  2021-01-08  Oxford/AstraZeneca                   0\n",
              "3             Austria  2021-01-08     Pfizer/BioNTech               31284\n",
              "4             Austria  2021-01-15     Johnson&Johnson                   0\n",
              "...               ...         ...                 ...                 ...\n",
              "21892  European Union  2021-11-20  Oxford/AstraZeneca            67212673\n",
              "21893  European Union  2021-11-20     Pfizer/BioNTech           438725101\n",
              "21894  European Union  2021-11-20   Sinopharm/Beijing             2157500\n",
              "21895  European Union  2021-11-20             Sinovac                   9\n",
              "21896  European Union  2021-11-20           Sputnik V             1845062\n",
              "\n",
              "[21897 rows x 4 columns]"
            ]
          },
          "metadata": {},
          "execution_count": 113
        }
      ]
    },
    {
      "cell_type": "code",
      "metadata": {
        "id": "9gw7BDqnNddr",
        "colab": {
          "base_uri": "https://localhost:8080/"
        },
        "outputId": "e2e5d35c-569d-4f3d-934c-51bf3da4e27e"
      },
      "source": [
        "#df.columns\n",
        "a = \"hello world \"\n",
        "col = [c.capitalize() for c in a.split()]\n",
        "col"
      ],
      "execution_count": null,
      "outputs": [
        {
          "output_type": "execute_result",
          "data": {
            "text/plain": [
              "['Hello', 'World']"
            ]
          },
          "metadata": {},
          "execution_count": 114
        }
      ]
    },
    {
      "cell_type": "code",
      "metadata": {
        "colab": {
          "base_uri": "https://localhost:8080/"
        },
        "id": "zCQO2fULOIBo",
        "outputId": "1e325dfc-a4b8-485c-f3b1-60fdad93e215"
      },
      "source": [
        "df.columns"
      ],
      "execution_count": null,
      "outputs": [
        {
          "output_type": "execute_result",
          "data": {
            "text/plain": [
              "Index(['location', 'date', 'vaccine', 'total_vaccinations'], dtype='object')"
            ]
          },
          "metadata": {},
          "execution_count": 115
        }
      ]
    },
    {
      "cell_type": "code",
      "metadata": {
        "id": "bAs9cXaTF5Io"
      },
      "source": [
        "df.columns = [c.replace(\"_\",\" \") for c in df.columns]"
      ],
      "execution_count": null,
      "outputs": []
    },
    {
      "cell_type": "code",
      "metadata": {
        "colab": {
          "base_uri": "https://localhost:8080/"
        },
        "id": "eiVCDVMgGMjn",
        "outputId": "60430311-1b22-4ad6-edd9-ad68d95fa87c"
      },
      "source": [
        "df.columns"
      ],
      "execution_count": null,
      "outputs": [
        {
          "output_type": "execute_result",
          "data": {
            "text/plain": [
              "Index(['location', 'date', 'vaccine', 'total vaccinations'], dtype='object')"
            ]
          },
          "metadata": {},
          "execution_count": 117
        }
      ]
    },
    {
      "cell_type": "markdown",
      "metadata": {
        "id": "-wOxELRVR5Pa"
      },
      "source": [
        "Paso a paso para una expresion más compacta, ejemplo de PascaCase"
      ]
    },
    {
      "cell_type": "code",
      "metadata": {
        "colab": {
          "base_uri": "https://localhost:8080/"
        },
        "id": "Ly3_hoPjRyn5",
        "outputId": "7c8054fc-b159-4014-aaca-f8c9a14acc33"
      },
      "source": [
        "a = [ cols  for cols in df.columns ]\n",
        "a"
      ],
      "execution_count": null,
      "outputs": [
        {
          "output_type": "execute_result",
          "data": {
            "text/plain": [
              "['location', 'date', 'vaccine', 'total vaccinations']"
            ]
          },
          "metadata": {},
          "execution_count": 118
        }
      ]
    },
    {
      "cell_type": "code",
      "metadata": {
        "colab": {
          "base_uri": "https://localhost:8080/"
        },
        "id": "zyOnE5G0SC6g",
        "outputId": "fc37b0b0-755e-4ff9-ec1b-9818e3caba52"
      },
      "source": [
        "a = [ [c  for c in cols.split()]   for cols in df.columns ]\n",
        "a"
      ],
      "execution_count": null,
      "outputs": [
        {
          "output_type": "execute_result",
          "data": {
            "text/plain": [
              "[['location'], ['date'], ['vaccine'], ['total', 'vaccinations']]"
            ]
          },
          "metadata": {},
          "execution_count": 119
        }
      ]
    },
    {
      "cell_type": "code",
      "metadata": {
        "colab": {
          "base_uri": "https://localhost:8080/"
        },
        "id": "tm6Aj82QSgQD",
        "outputId": "aaa64fc8-2639-422d-d114-cf058a791426"
      },
      "source": [
        "a = [ [c.capitalize()  for c in cols.split()]   for cols in df.columns ]\n",
        "a"
      ],
      "execution_count": null,
      "outputs": [
        {
          "output_type": "execute_result",
          "data": {
            "text/plain": [
              "[['Location'], ['Date'], ['Vaccine'], ['Total', 'Vaccinations']]"
            ]
          },
          "metadata": {},
          "execution_count": 120
        }
      ]
    },
    {
      "cell_type": "code",
      "metadata": {
        "colab": {
          "base_uri": "https://localhost:8080/",
          "height": 36
        },
        "id": "tYD6MXJWS2pJ",
        "outputId": "72c5d0b8-e6ed-4721-8715-3062576054ab"
      },
      "source": [
        "a = [\"adfads\",\"Bsdfadf\"]\n",
        "\" \".join(a)"
      ],
      "execution_count": null,
      "outputs": [
        {
          "output_type": "execute_result",
          "data": {
            "application/vnd.google.colaboratory.intrinsic+json": {
              "type": "string"
            },
            "text/plain": [
              "'adfads Bsdfadf'"
            ]
          },
          "metadata": {},
          "execution_count": 121
        }
      ]
    },
    {
      "cell_type": "code",
      "metadata": {
        "colab": {
          "base_uri": "https://localhost:8080/"
        },
        "id": "T7N-XoT6O8zM",
        "outputId": "be610b8d-2ede-4b04-b457-5dd53a8259d8"
      },
      "source": [
        "a =[ \"\".join([c.capitalize() for c in cols.split()])  for cols in df.columns ]\n",
        "a"
      ],
      "execution_count": null,
      "outputs": [
        {
          "output_type": "execute_result",
          "data": {
            "text/plain": [
              "['Location', 'Date', 'Vaccine', 'TotalVaccinations']"
            ]
          },
          "metadata": {},
          "execution_count": 122
        }
      ]
    },
    {
      "cell_type": "code",
      "metadata": {
        "id": "CBza5uw9RILW"
      },
      "source": [
        "cols=a"
      ],
      "execution_count": null,
      "outputs": []
    },
    {
      "cell_type": "code",
      "metadata": {
        "colab": {
          "base_uri": "https://localhost:8080/",
          "height": 423
        },
        "id": "IpnKQBt4Rmzh",
        "outputId": "20c27b87-30a9-4efb-d0e1-4384cdd3112a"
      },
      "source": [
        "df.columns=cols\n",
        "df"
      ],
      "execution_count": null,
      "outputs": [
        {
          "output_type": "execute_result",
          "data": {
            "text/html": [
              "<div>\n",
              "<style scoped>\n",
              "    .dataframe tbody tr th:only-of-type {\n",
              "        vertical-align: middle;\n",
              "    }\n",
              "\n",
              "    .dataframe tbody tr th {\n",
              "        vertical-align: top;\n",
              "    }\n",
              "\n",
              "    .dataframe thead th {\n",
              "        text-align: right;\n",
              "    }\n",
              "</style>\n",
              "<table border=\"1\" class=\"dataframe\">\n",
              "  <thead>\n",
              "    <tr style=\"text-align: right;\">\n",
              "      <th></th>\n",
              "      <th>Location</th>\n",
              "      <th>Date</th>\n",
              "      <th>Vaccine</th>\n",
              "      <th>TotalVaccinations</th>\n",
              "    </tr>\n",
              "  </thead>\n",
              "  <tbody>\n",
              "    <tr>\n",
              "      <th>0</th>\n",
              "      <td>Austria</td>\n",
              "      <td>2021-01-08</td>\n",
              "      <td>Johnson&amp;Johnson</td>\n",
              "      <td>0</td>\n",
              "    </tr>\n",
              "    <tr>\n",
              "      <th>1</th>\n",
              "      <td>Austria</td>\n",
              "      <td>2021-01-08</td>\n",
              "      <td>Moderna</td>\n",
              "      <td>0</td>\n",
              "    </tr>\n",
              "    <tr>\n",
              "      <th>2</th>\n",
              "      <td>Austria</td>\n",
              "      <td>2021-01-08</td>\n",
              "      <td>Oxford/AstraZeneca</td>\n",
              "      <td>0</td>\n",
              "    </tr>\n",
              "    <tr>\n",
              "      <th>3</th>\n",
              "      <td>Austria</td>\n",
              "      <td>2021-01-08</td>\n",
              "      <td>Pfizer/BioNTech</td>\n",
              "      <td>31284</td>\n",
              "    </tr>\n",
              "    <tr>\n",
              "      <th>4</th>\n",
              "      <td>Austria</td>\n",
              "      <td>2021-01-15</td>\n",
              "      <td>Johnson&amp;Johnson</td>\n",
              "      <td>0</td>\n",
              "    </tr>\n",
              "    <tr>\n",
              "      <th>...</th>\n",
              "      <td>...</td>\n",
              "      <td>...</td>\n",
              "      <td>...</td>\n",
              "      <td>...</td>\n",
              "    </tr>\n",
              "    <tr>\n",
              "      <th>21892</th>\n",
              "      <td>European Union</td>\n",
              "      <td>2021-11-20</td>\n",
              "      <td>Oxford/AstraZeneca</td>\n",
              "      <td>67212673</td>\n",
              "    </tr>\n",
              "    <tr>\n",
              "      <th>21893</th>\n",
              "      <td>European Union</td>\n",
              "      <td>2021-11-20</td>\n",
              "      <td>Pfizer/BioNTech</td>\n",
              "      <td>438725101</td>\n",
              "    </tr>\n",
              "    <tr>\n",
              "      <th>21894</th>\n",
              "      <td>European Union</td>\n",
              "      <td>2021-11-20</td>\n",
              "      <td>Sinopharm/Beijing</td>\n",
              "      <td>2157500</td>\n",
              "    </tr>\n",
              "    <tr>\n",
              "      <th>21895</th>\n",
              "      <td>European Union</td>\n",
              "      <td>2021-11-20</td>\n",
              "      <td>Sinovac</td>\n",
              "      <td>9</td>\n",
              "    </tr>\n",
              "    <tr>\n",
              "      <th>21896</th>\n",
              "      <td>European Union</td>\n",
              "      <td>2021-11-20</td>\n",
              "      <td>Sputnik V</td>\n",
              "      <td>1845062</td>\n",
              "    </tr>\n",
              "  </tbody>\n",
              "</table>\n",
              "<p>21897 rows × 4 columns</p>\n",
              "</div>"
            ],
            "text/plain": [
              "             Location        Date             Vaccine  TotalVaccinations\n",
              "0             Austria  2021-01-08     Johnson&Johnson                  0\n",
              "1             Austria  2021-01-08             Moderna                  0\n",
              "2             Austria  2021-01-08  Oxford/AstraZeneca                  0\n",
              "3             Austria  2021-01-08     Pfizer/BioNTech              31284\n",
              "4             Austria  2021-01-15     Johnson&Johnson                  0\n",
              "...               ...         ...                 ...                ...\n",
              "21892  European Union  2021-11-20  Oxford/AstraZeneca           67212673\n",
              "21893  European Union  2021-11-20     Pfizer/BioNTech          438725101\n",
              "21894  European Union  2021-11-20   Sinopharm/Beijing            2157500\n",
              "21895  European Union  2021-11-20             Sinovac                  9\n",
              "21896  European Union  2021-11-20           Sputnik V            1845062\n",
              "\n",
              "[21897 rows x 4 columns]"
            ]
          },
          "metadata": {},
          "execution_count": 124
        }
      ]
    },
    {
      "cell_type": "markdown",
      "metadata": {
        "id": "5RUXQQ5NO3Mq"
      },
      "source": [
        "# Mascaras en columnas"
      ]
    },
    {
      "cell_type": "code",
      "metadata": {
        "id": "3bH8btGwGvH9"
      },
      "source": [
        "tf = df[\"TotalVaccinations\"] > 2157500"
      ],
      "execution_count": null,
      "outputs": []
    },
    {
      "cell_type": "code",
      "metadata": {
        "colab": {
          "base_uri": "https://localhost:8080/",
          "height": 423
        },
        "id": "7NrcMjBCHaKY",
        "outputId": "ab956500-189c-406d-afd8-d9cccf774651"
      },
      "source": [
        "df[tf] #Mascara, nuevo data frame con un numero diferentes de lineas"
      ],
      "execution_count": null,
      "outputs": [
        {
          "output_type": "execute_result",
          "data": {
            "text/html": [
              "<div>\n",
              "<style scoped>\n",
              "    .dataframe tbody tr th:only-of-type {\n",
              "        vertical-align: middle;\n",
              "    }\n",
              "\n",
              "    .dataframe tbody tr th {\n",
              "        vertical-align: top;\n",
              "    }\n",
              "\n",
              "    .dataframe thead th {\n",
              "        text-align: right;\n",
              "    }\n",
              "</style>\n",
              "<table border=\"1\" class=\"dataframe\">\n",
              "  <thead>\n",
              "    <tr style=\"text-align: right;\">\n",
              "      <th></th>\n",
              "      <th>Location</th>\n",
              "      <th>Date</th>\n",
              "      <th>Vaccine</th>\n",
              "      <th>TotalVaccinations</th>\n",
              "    </tr>\n",
              "  </thead>\n",
              "  <tbody>\n",
              "    <tr>\n",
              "      <th>67</th>\n",
              "      <td>Austria</td>\n",
              "      <td>2021-04-30</td>\n",
              "      <td>Pfizer/BioNTech</td>\n",
              "      <td>2273457</td>\n",
              "    </tr>\n",
              "    <tr>\n",
              "      <th>71</th>\n",
              "      <td>Austria</td>\n",
              "      <td>2021-05-07</td>\n",
              "      <td>Pfizer/BioNTech</td>\n",
              "      <td>2604643</td>\n",
              "    </tr>\n",
              "    <tr>\n",
              "      <th>75</th>\n",
              "      <td>Austria</td>\n",
              "      <td>2021-05-14</td>\n",
              "      <td>Pfizer/BioNTech</td>\n",
              "      <td>2904840</td>\n",
              "    </tr>\n",
              "    <tr>\n",
              "      <th>79</th>\n",
              "      <td>Austria</td>\n",
              "      <td>2021-05-21</td>\n",
              "      <td>Pfizer/BioNTech</td>\n",
              "      <td>3283752</td>\n",
              "    </tr>\n",
              "    <tr>\n",
              "      <th>83</th>\n",
              "      <td>Austria</td>\n",
              "      <td>2021-05-28</td>\n",
              "      <td>Pfizer/BioNTech</td>\n",
              "      <td>3620298</td>\n",
              "    </tr>\n",
              "    <tr>\n",
              "      <th>...</th>\n",
              "      <td>...</td>\n",
              "      <td>...</td>\n",
              "      <td>...</td>\n",
              "      <td>...</td>\n",
              "    </tr>\n",
              "    <tr>\n",
              "      <th>21886</th>\n",
              "      <td>European Union</td>\n",
              "      <td>2021-11-19</td>\n",
              "      <td>Pfizer/BioNTech</td>\n",
              "      <td>438577477</td>\n",
              "    </tr>\n",
              "    <tr>\n",
              "      <th>21890</th>\n",
              "      <td>European Union</td>\n",
              "      <td>2021-11-20</td>\n",
              "      <td>Johnson&amp;Johnson</td>\n",
              "      <td>16950779</td>\n",
              "    </tr>\n",
              "    <tr>\n",
              "      <th>21891</th>\n",
              "      <td>European Union</td>\n",
              "      <td>2021-11-20</td>\n",
              "      <td>Moderna</td>\n",
              "      <td>61206560</td>\n",
              "    </tr>\n",
              "    <tr>\n",
              "      <th>21892</th>\n",
              "      <td>European Union</td>\n",
              "      <td>2021-11-20</td>\n",
              "      <td>Oxford/AstraZeneca</td>\n",
              "      <td>67212673</td>\n",
              "    </tr>\n",
              "    <tr>\n",
              "      <th>21893</th>\n",
              "      <td>European Union</td>\n",
              "      <td>2021-11-20</td>\n",
              "      <td>Pfizer/BioNTech</td>\n",
              "      <td>438725101</td>\n",
              "    </tr>\n",
              "  </tbody>\n",
              "</table>\n",
              "<p>7626 rows × 4 columns</p>\n",
              "</div>"
            ],
            "text/plain": [
              "             Location        Date             Vaccine  TotalVaccinations\n",
              "67            Austria  2021-04-30     Pfizer/BioNTech            2273457\n",
              "71            Austria  2021-05-07     Pfizer/BioNTech            2604643\n",
              "75            Austria  2021-05-14     Pfizer/BioNTech            2904840\n",
              "79            Austria  2021-05-21     Pfizer/BioNTech            3283752\n",
              "83            Austria  2021-05-28     Pfizer/BioNTech            3620298\n",
              "...               ...         ...                 ...                ...\n",
              "21886  European Union  2021-11-19     Pfizer/BioNTech          438577477\n",
              "21890  European Union  2021-11-20     Johnson&Johnson           16950779\n",
              "21891  European Union  2021-11-20             Moderna           61206560\n",
              "21892  European Union  2021-11-20  Oxford/AstraZeneca           67212673\n",
              "21893  European Union  2021-11-20     Pfizer/BioNTech          438725101\n",
              "\n",
              "[7626 rows x 4 columns]"
            ]
          },
          "metadata": {},
          "execution_count": 126
        }
      ]
    },
    {
      "cell_type": "code",
      "metadata": {
        "colab": {
          "base_uri": "https://localhost:8080/",
          "height": 423
        },
        "id": "MzAhfVwqHeAD",
        "outputId": "9e374f72-6621-4fe8-c4f3-ced91972228c"
      },
      "source": [
        "df.where(tf)  #asigna NAN a todo el data frame donde no se cumple la condicion establecida"
      ],
      "execution_count": null,
      "outputs": [
        {
          "output_type": "execute_result",
          "data": {
            "text/html": [
              "<div>\n",
              "<style scoped>\n",
              "    .dataframe tbody tr th:only-of-type {\n",
              "        vertical-align: middle;\n",
              "    }\n",
              "\n",
              "    .dataframe tbody tr th {\n",
              "        vertical-align: top;\n",
              "    }\n",
              "\n",
              "    .dataframe thead th {\n",
              "        text-align: right;\n",
              "    }\n",
              "</style>\n",
              "<table border=\"1\" class=\"dataframe\">\n",
              "  <thead>\n",
              "    <tr style=\"text-align: right;\">\n",
              "      <th></th>\n",
              "      <th>Location</th>\n",
              "      <th>Date</th>\n",
              "      <th>Vaccine</th>\n",
              "      <th>TotalVaccinations</th>\n",
              "    </tr>\n",
              "  </thead>\n",
              "  <tbody>\n",
              "    <tr>\n",
              "      <th>0</th>\n",
              "      <td>NaN</td>\n",
              "      <td>NaN</td>\n",
              "      <td>NaN</td>\n",
              "      <td>NaN</td>\n",
              "    </tr>\n",
              "    <tr>\n",
              "      <th>1</th>\n",
              "      <td>NaN</td>\n",
              "      <td>NaN</td>\n",
              "      <td>NaN</td>\n",
              "      <td>NaN</td>\n",
              "    </tr>\n",
              "    <tr>\n",
              "      <th>2</th>\n",
              "      <td>NaN</td>\n",
              "      <td>NaN</td>\n",
              "      <td>NaN</td>\n",
              "      <td>NaN</td>\n",
              "    </tr>\n",
              "    <tr>\n",
              "      <th>3</th>\n",
              "      <td>NaN</td>\n",
              "      <td>NaN</td>\n",
              "      <td>NaN</td>\n",
              "      <td>NaN</td>\n",
              "    </tr>\n",
              "    <tr>\n",
              "      <th>4</th>\n",
              "      <td>NaN</td>\n",
              "      <td>NaN</td>\n",
              "      <td>NaN</td>\n",
              "      <td>NaN</td>\n",
              "    </tr>\n",
              "    <tr>\n",
              "      <th>...</th>\n",
              "      <td>...</td>\n",
              "      <td>...</td>\n",
              "      <td>...</td>\n",
              "      <td>...</td>\n",
              "    </tr>\n",
              "    <tr>\n",
              "      <th>21892</th>\n",
              "      <td>European Union</td>\n",
              "      <td>2021-11-20</td>\n",
              "      <td>Oxford/AstraZeneca</td>\n",
              "      <td>67212673.0</td>\n",
              "    </tr>\n",
              "    <tr>\n",
              "      <th>21893</th>\n",
              "      <td>European Union</td>\n",
              "      <td>2021-11-20</td>\n",
              "      <td>Pfizer/BioNTech</td>\n",
              "      <td>438725101.0</td>\n",
              "    </tr>\n",
              "    <tr>\n",
              "      <th>21894</th>\n",
              "      <td>NaN</td>\n",
              "      <td>NaN</td>\n",
              "      <td>NaN</td>\n",
              "      <td>NaN</td>\n",
              "    </tr>\n",
              "    <tr>\n",
              "      <th>21895</th>\n",
              "      <td>NaN</td>\n",
              "      <td>NaN</td>\n",
              "      <td>NaN</td>\n",
              "      <td>NaN</td>\n",
              "    </tr>\n",
              "    <tr>\n",
              "      <th>21896</th>\n",
              "      <td>NaN</td>\n",
              "      <td>NaN</td>\n",
              "      <td>NaN</td>\n",
              "      <td>NaN</td>\n",
              "    </tr>\n",
              "  </tbody>\n",
              "</table>\n",
              "<p>21897 rows × 4 columns</p>\n",
              "</div>"
            ],
            "text/plain": [
              "             Location        Date             Vaccine  TotalVaccinations\n",
              "0                 NaN         NaN                 NaN                NaN\n",
              "1                 NaN         NaN                 NaN                NaN\n",
              "2                 NaN         NaN                 NaN                NaN\n",
              "3                 NaN         NaN                 NaN                NaN\n",
              "4                 NaN         NaN                 NaN                NaN\n",
              "...               ...         ...                 ...                ...\n",
              "21892  European Union  2021-11-20  Oxford/AstraZeneca         67212673.0\n",
              "21893  European Union  2021-11-20     Pfizer/BioNTech        438725101.0\n",
              "21894             NaN         NaN                 NaN                NaN\n",
              "21895             NaN         NaN                 NaN                NaN\n",
              "21896             NaN         NaN                 NaN                NaN\n",
              "\n",
              "[21897 rows x 4 columns]"
            ]
          },
          "metadata": {},
          "execution_count": 127
        }
      ]
    },
    {
      "cell_type": "code",
      "metadata": {
        "colab": {
          "base_uri": "https://localhost:8080/",
          "height": 423
        },
        "id": "TkMPe3KqHxFY",
        "outputId": "33091a15-7b3c-4350-b07c-2a24d7feee04"
      },
      "source": [
        "n_df = df.where(tf).copy()\n",
        "n_df.dropna()  #Volvemos a obtener el data frame generado con la mascara y #filtrado como un array"
      ],
      "execution_count": null,
      "outputs": [
        {
          "output_type": "execute_result",
          "data": {
            "text/html": [
              "<div>\n",
              "<style scoped>\n",
              "    .dataframe tbody tr th:only-of-type {\n",
              "        vertical-align: middle;\n",
              "    }\n",
              "\n",
              "    .dataframe tbody tr th {\n",
              "        vertical-align: top;\n",
              "    }\n",
              "\n",
              "    .dataframe thead th {\n",
              "        text-align: right;\n",
              "    }\n",
              "</style>\n",
              "<table border=\"1\" class=\"dataframe\">\n",
              "  <thead>\n",
              "    <tr style=\"text-align: right;\">\n",
              "      <th></th>\n",
              "      <th>Location</th>\n",
              "      <th>Date</th>\n",
              "      <th>Vaccine</th>\n",
              "      <th>TotalVaccinations</th>\n",
              "    </tr>\n",
              "  </thead>\n",
              "  <tbody>\n",
              "    <tr>\n",
              "      <th>67</th>\n",
              "      <td>Austria</td>\n",
              "      <td>2021-04-30</td>\n",
              "      <td>Pfizer/BioNTech</td>\n",
              "      <td>2273457.0</td>\n",
              "    </tr>\n",
              "    <tr>\n",
              "      <th>71</th>\n",
              "      <td>Austria</td>\n",
              "      <td>2021-05-07</td>\n",
              "      <td>Pfizer/BioNTech</td>\n",
              "      <td>2604643.0</td>\n",
              "    </tr>\n",
              "    <tr>\n",
              "      <th>75</th>\n",
              "      <td>Austria</td>\n",
              "      <td>2021-05-14</td>\n",
              "      <td>Pfizer/BioNTech</td>\n",
              "      <td>2904840.0</td>\n",
              "    </tr>\n",
              "    <tr>\n",
              "      <th>79</th>\n",
              "      <td>Austria</td>\n",
              "      <td>2021-05-21</td>\n",
              "      <td>Pfizer/BioNTech</td>\n",
              "      <td>3283752.0</td>\n",
              "    </tr>\n",
              "    <tr>\n",
              "      <th>83</th>\n",
              "      <td>Austria</td>\n",
              "      <td>2021-05-28</td>\n",
              "      <td>Pfizer/BioNTech</td>\n",
              "      <td>3620298.0</td>\n",
              "    </tr>\n",
              "    <tr>\n",
              "      <th>...</th>\n",
              "      <td>...</td>\n",
              "      <td>...</td>\n",
              "      <td>...</td>\n",
              "      <td>...</td>\n",
              "    </tr>\n",
              "    <tr>\n",
              "      <th>21886</th>\n",
              "      <td>European Union</td>\n",
              "      <td>2021-11-19</td>\n",
              "      <td>Pfizer/BioNTech</td>\n",
              "      <td>438577477.0</td>\n",
              "    </tr>\n",
              "    <tr>\n",
              "      <th>21890</th>\n",
              "      <td>European Union</td>\n",
              "      <td>2021-11-20</td>\n",
              "      <td>Johnson&amp;Johnson</td>\n",
              "      <td>16950779.0</td>\n",
              "    </tr>\n",
              "    <tr>\n",
              "      <th>21891</th>\n",
              "      <td>European Union</td>\n",
              "      <td>2021-11-20</td>\n",
              "      <td>Moderna</td>\n",
              "      <td>61206560.0</td>\n",
              "    </tr>\n",
              "    <tr>\n",
              "      <th>21892</th>\n",
              "      <td>European Union</td>\n",
              "      <td>2021-11-20</td>\n",
              "      <td>Oxford/AstraZeneca</td>\n",
              "      <td>67212673.0</td>\n",
              "    </tr>\n",
              "    <tr>\n",
              "      <th>21893</th>\n",
              "      <td>European Union</td>\n",
              "      <td>2021-11-20</td>\n",
              "      <td>Pfizer/BioNTech</td>\n",
              "      <td>438725101.0</td>\n",
              "    </tr>\n",
              "  </tbody>\n",
              "</table>\n",
              "<p>7626 rows × 4 columns</p>\n",
              "</div>"
            ],
            "text/plain": [
              "             Location        Date             Vaccine  TotalVaccinations\n",
              "67            Austria  2021-04-30     Pfizer/BioNTech          2273457.0\n",
              "71            Austria  2021-05-07     Pfizer/BioNTech          2604643.0\n",
              "75            Austria  2021-05-14     Pfizer/BioNTech          2904840.0\n",
              "79            Austria  2021-05-21     Pfizer/BioNTech          3283752.0\n",
              "83            Austria  2021-05-28     Pfizer/BioNTech          3620298.0\n",
              "...               ...         ...                 ...                ...\n",
              "21886  European Union  2021-11-19     Pfizer/BioNTech        438577477.0\n",
              "21890  European Union  2021-11-20     Johnson&Johnson         16950779.0\n",
              "21891  European Union  2021-11-20             Moderna         61206560.0\n",
              "21892  European Union  2021-11-20  Oxford/AstraZeneca         67212673.0\n",
              "21893  European Union  2021-11-20     Pfizer/BioNTech        438725101.0\n",
              "\n",
              "[7626 rows x 4 columns]"
            ]
          },
          "metadata": {},
          "execution_count": 128
        }
      ]
    },
    {
      "cell_type": "markdown",
      "metadata": {
        "id": "hyy88nqqKDhH"
      },
      "source": [
        "Volviendo a la mascara"
      ]
    },
    {
      "cell_type": "code",
      "metadata": {
        "id": "YnDQTZ6yJrUC"
      },
      "source": [
        "df = df[tf]"
      ],
      "execution_count": null,
      "outputs": []
    },
    {
      "cell_type": "code",
      "metadata": {
        "colab": {
          "base_uri": "https://localhost:8080/",
          "height": 423
        },
        "id": "f1b7l4CSK7AL",
        "outputId": "dad15279-5a4d-405e-aa25-b4dd2b98454d"
      },
      "source": [
        "df"
      ],
      "execution_count": null,
      "outputs": [
        {
          "output_type": "execute_result",
          "data": {
            "text/html": [
              "<div>\n",
              "<style scoped>\n",
              "    .dataframe tbody tr th:only-of-type {\n",
              "        vertical-align: middle;\n",
              "    }\n",
              "\n",
              "    .dataframe tbody tr th {\n",
              "        vertical-align: top;\n",
              "    }\n",
              "\n",
              "    .dataframe thead th {\n",
              "        text-align: right;\n",
              "    }\n",
              "</style>\n",
              "<table border=\"1\" class=\"dataframe\">\n",
              "  <thead>\n",
              "    <tr style=\"text-align: right;\">\n",
              "      <th></th>\n",
              "      <th>Location</th>\n",
              "      <th>Date</th>\n",
              "      <th>Vaccine</th>\n",
              "      <th>TotalVaccinations</th>\n",
              "    </tr>\n",
              "  </thead>\n",
              "  <tbody>\n",
              "    <tr>\n",
              "      <th>67</th>\n",
              "      <td>Austria</td>\n",
              "      <td>2021-04-30</td>\n",
              "      <td>Pfizer/BioNTech</td>\n",
              "      <td>2273457</td>\n",
              "    </tr>\n",
              "    <tr>\n",
              "      <th>71</th>\n",
              "      <td>Austria</td>\n",
              "      <td>2021-05-07</td>\n",
              "      <td>Pfizer/BioNTech</td>\n",
              "      <td>2604643</td>\n",
              "    </tr>\n",
              "    <tr>\n",
              "      <th>75</th>\n",
              "      <td>Austria</td>\n",
              "      <td>2021-05-14</td>\n",
              "      <td>Pfizer/BioNTech</td>\n",
              "      <td>2904840</td>\n",
              "    </tr>\n",
              "    <tr>\n",
              "      <th>79</th>\n",
              "      <td>Austria</td>\n",
              "      <td>2021-05-21</td>\n",
              "      <td>Pfizer/BioNTech</td>\n",
              "      <td>3283752</td>\n",
              "    </tr>\n",
              "    <tr>\n",
              "      <th>83</th>\n",
              "      <td>Austria</td>\n",
              "      <td>2021-05-28</td>\n",
              "      <td>Pfizer/BioNTech</td>\n",
              "      <td>3620298</td>\n",
              "    </tr>\n",
              "    <tr>\n",
              "      <th>...</th>\n",
              "      <td>...</td>\n",
              "      <td>...</td>\n",
              "      <td>...</td>\n",
              "      <td>...</td>\n",
              "    </tr>\n",
              "    <tr>\n",
              "      <th>21886</th>\n",
              "      <td>European Union</td>\n",
              "      <td>2021-11-19</td>\n",
              "      <td>Pfizer/BioNTech</td>\n",
              "      <td>438577477</td>\n",
              "    </tr>\n",
              "    <tr>\n",
              "      <th>21890</th>\n",
              "      <td>European Union</td>\n",
              "      <td>2021-11-20</td>\n",
              "      <td>Johnson&amp;Johnson</td>\n",
              "      <td>16950779</td>\n",
              "    </tr>\n",
              "    <tr>\n",
              "      <th>21891</th>\n",
              "      <td>European Union</td>\n",
              "      <td>2021-11-20</td>\n",
              "      <td>Moderna</td>\n",
              "      <td>61206560</td>\n",
              "    </tr>\n",
              "    <tr>\n",
              "      <th>21892</th>\n",
              "      <td>European Union</td>\n",
              "      <td>2021-11-20</td>\n",
              "      <td>Oxford/AstraZeneca</td>\n",
              "      <td>67212673</td>\n",
              "    </tr>\n",
              "    <tr>\n",
              "      <th>21893</th>\n",
              "      <td>European Union</td>\n",
              "      <td>2021-11-20</td>\n",
              "      <td>Pfizer/BioNTech</td>\n",
              "      <td>438725101</td>\n",
              "    </tr>\n",
              "  </tbody>\n",
              "</table>\n",
              "<p>7626 rows × 4 columns</p>\n",
              "</div>"
            ],
            "text/plain": [
              "             Location        Date             Vaccine  TotalVaccinations\n",
              "67            Austria  2021-04-30     Pfizer/BioNTech            2273457\n",
              "71            Austria  2021-05-07     Pfizer/BioNTech            2604643\n",
              "75            Austria  2021-05-14     Pfizer/BioNTech            2904840\n",
              "79            Austria  2021-05-21     Pfizer/BioNTech            3283752\n",
              "83            Austria  2021-05-28     Pfizer/BioNTech            3620298\n",
              "...               ...         ...                 ...                ...\n",
              "21886  European Union  2021-11-19     Pfizer/BioNTech          438577477\n",
              "21890  European Union  2021-11-20     Johnson&Johnson           16950779\n",
              "21891  European Union  2021-11-20             Moderna           61206560\n",
              "21892  European Union  2021-11-20  Oxford/AstraZeneca           67212673\n",
              "21893  European Union  2021-11-20     Pfizer/BioNTech          438725101\n",
              "\n",
              "[7626 rows x 4 columns]"
            ]
          },
          "metadata": {},
          "execution_count": 130
        }
      ]
    },
    {
      "cell_type": "markdown",
      "metadata": {
        "id": "2HT7gAqaL_yO"
      },
      "source": [
        "Comparacion para valores de una misma columna"
      ]
    },
    {
      "cell_type": "code",
      "metadata": {
        "colab": {
          "base_uri": "https://localhost:8080/",
          "height": 423
        },
        "id": "kShE-lRWKrGJ",
        "outputId": "d20f72d6-1245-49d1-cf6d-1f94aa009917"
      },
      "source": [
        "df[ (df[\"TotalVaccinations\"]>2273457) & (df[\"TotalVaccinations\"]<61206560 ) ]"
      ],
      "execution_count": null,
      "outputs": [
        {
          "output_type": "execute_result",
          "data": {
            "text/html": [
              "<div>\n",
              "<style scoped>\n",
              "    .dataframe tbody tr th:only-of-type {\n",
              "        vertical-align: middle;\n",
              "    }\n",
              "\n",
              "    .dataframe tbody tr th {\n",
              "        vertical-align: top;\n",
              "    }\n",
              "\n",
              "    .dataframe thead th {\n",
              "        text-align: right;\n",
              "    }\n",
              "</style>\n",
              "<table border=\"1\" class=\"dataframe\">\n",
              "  <thead>\n",
              "    <tr style=\"text-align: right;\">\n",
              "      <th></th>\n",
              "      <th>Location</th>\n",
              "      <th>Date</th>\n",
              "      <th>Vaccine</th>\n",
              "      <th>TotalVaccinations</th>\n",
              "    </tr>\n",
              "  </thead>\n",
              "  <tbody>\n",
              "    <tr>\n",
              "      <th>71</th>\n",
              "      <td>Austria</td>\n",
              "      <td>2021-05-07</td>\n",
              "      <td>Pfizer/BioNTech</td>\n",
              "      <td>2604643</td>\n",
              "    </tr>\n",
              "    <tr>\n",
              "      <th>75</th>\n",
              "      <td>Austria</td>\n",
              "      <td>2021-05-14</td>\n",
              "      <td>Pfizer/BioNTech</td>\n",
              "      <td>2904840</td>\n",
              "    </tr>\n",
              "    <tr>\n",
              "      <th>79</th>\n",
              "      <td>Austria</td>\n",
              "      <td>2021-05-21</td>\n",
              "      <td>Pfizer/BioNTech</td>\n",
              "      <td>3283752</td>\n",
              "    </tr>\n",
              "    <tr>\n",
              "      <th>83</th>\n",
              "      <td>Austria</td>\n",
              "      <td>2021-05-28</td>\n",
              "      <td>Pfizer/BioNTech</td>\n",
              "      <td>3620298</td>\n",
              "    </tr>\n",
              "    <tr>\n",
              "      <th>87</th>\n",
              "      <td>Austria</td>\n",
              "      <td>2021-06-04</td>\n",
              "      <td>Pfizer/BioNTech</td>\n",
              "      <td>4047114</td>\n",
              "    </tr>\n",
              "    <tr>\n",
              "      <th>...</th>\n",
              "      <td>...</td>\n",
              "      <td>...</td>\n",
              "      <td>...</td>\n",
              "      <td>...</td>\n",
              "    </tr>\n",
              "    <tr>\n",
              "      <th>21876</th>\n",
              "      <td>European Union</td>\n",
              "      <td>2021-11-18</td>\n",
              "      <td>Johnson&amp;Johnson</td>\n",
              "      <td>16867390</td>\n",
              "    </tr>\n",
              "    <tr>\n",
              "      <th>21877</th>\n",
              "      <td>European Union</td>\n",
              "      <td>2021-11-18</td>\n",
              "      <td>Moderna</td>\n",
              "      <td>60957149</td>\n",
              "    </tr>\n",
              "    <tr>\n",
              "      <th>21883</th>\n",
              "      <td>European Union</td>\n",
              "      <td>2021-11-19</td>\n",
              "      <td>Johnson&amp;Johnson</td>\n",
              "      <td>16948949</td>\n",
              "    </tr>\n",
              "    <tr>\n",
              "      <th>21884</th>\n",
              "      <td>European Union</td>\n",
              "      <td>2021-11-19</td>\n",
              "      <td>Moderna</td>\n",
              "      <td>61165719</td>\n",
              "    </tr>\n",
              "    <tr>\n",
              "      <th>21890</th>\n",
              "      <td>European Union</td>\n",
              "      <td>2021-11-20</td>\n",
              "      <td>Johnson&amp;Johnson</td>\n",
              "      <td>16950779</td>\n",
              "    </tr>\n",
              "  </tbody>\n",
              "</table>\n",
              "<p>6348 rows × 4 columns</p>\n",
              "</div>"
            ],
            "text/plain": [
              "             Location        Date          Vaccine  TotalVaccinations\n",
              "71            Austria  2021-05-07  Pfizer/BioNTech            2604643\n",
              "75            Austria  2021-05-14  Pfizer/BioNTech            2904840\n",
              "79            Austria  2021-05-21  Pfizer/BioNTech            3283752\n",
              "83            Austria  2021-05-28  Pfizer/BioNTech            3620298\n",
              "87            Austria  2021-06-04  Pfizer/BioNTech            4047114\n",
              "...               ...         ...              ...                ...\n",
              "21876  European Union  2021-11-18  Johnson&Johnson           16867390\n",
              "21877  European Union  2021-11-18          Moderna           60957149\n",
              "21883  European Union  2021-11-19  Johnson&Johnson           16948949\n",
              "21884  European Union  2021-11-19          Moderna           61165719\n",
              "21890  European Union  2021-11-20  Johnson&Johnson           16950779\n",
              "\n",
              "[6348 rows x 4 columns]"
            ]
          },
          "metadata": {},
          "execution_count": 133
        }
      ]
    },
    {
      "cell_type": "code",
      "metadata": {
        "colab": {
          "base_uri": "https://localhost:8080/",
          "height": 423
        },
        "id": "Syh9VQC-5stx",
        "outputId": "5ab8cf09-8fef-4071-ef5b-cc17d4e69986"
      },
      "source": [
        "df.reset_index()"
      ],
      "execution_count": null,
      "outputs": [
        {
          "output_type": "execute_result",
          "data": {
            "text/html": [
              "<div>\n",
              "<style scoped>\n",
              "    .dataframe tbody tr th:only-of-type {\n",
              "        vertical-align: middle;\n",
              "    }\n",
              "\n",
              "    .dataframe tbody tr th {\n",
              "        vertical-align: top;\n",
              "    }\n",
              "\n",
              "    .dataframe thead th {\n",
              "        text-align: right;\n",
              "    }\n",
              "</style>\n",
              "<table border=\"1\" class=\"dataframe\">\n",
              "  <thead>\n",
              "    <tr style=\"text-align: right;\">\n",
              "      <th></th>\n",
              "      <th>index</th>\n",
              "      <th>Location</th>\n",
              "      <th>Date</th>\n",
              "      <th>Vaccine</th>\n",
              "      <th>TotalVaccinations</th>\n",
              "    </tr>\n",
              "  </thead>\n",
              "  <tbody>\n",
              "    <tr>\n",
              "      <th>0</th>\n",
              "      <td>67</td>\n",
              "      <td>Austria</td>\n",
              "      <td>2021-04-30</td>\n",
              "      <td>Pfizer/BioNTech</td>\n",
              "      <td>2273457</td>\n",
              "    </tr>\n",
              "    <tr>\n",
              "      <th>1</th>\n",
              "      <td>71</td>\n",
              "      <td>Austria</td>\n",
              "      <td>2021-05-07</td>\n",
              "      <td>Pfizer/BioNTech</td>\n",
              "      <td>2604643</td>\n",
              "    </tr>\n",
              "    <tr>\n",
              "      <th>2</th>\n",
              "      <td>75</td>\n",
              "      <td>Austria</td>\n",
              "      <td>2021-05-14</td>\n",
              "      <td>Pfizer/BioNTech</td>\n",
              "      <td>2904840</td>\n",
              "    </tr>\n",
              "    <tr>\n",
              "      <th>3</th>\n",
              "      <td>79</td>\n",
              "      <td>Austria</td>\n",
              "      <td>2021-05-21</td>\n",
              "      <td>Pfizer/BioNTech</td>\n",
              "      <td>3283752</td>\n",
              "    </tr>\n",
              "    <tr>\n",
              "      <th>4</th>\n",
              "      <td>83</td>\n",
              "      <td>Austria</td>\n",
              "      <td>2021-05-28</td>\n",
              "      <td>Pfizer/BioNTech</td>\n",
              "      <td>3620298</td>\n",
              "    </tr>\n",
              "    <tr>\n",
              "      <th>...</th>\n",
              "      <td>...</td>\n",
              "      <td>...</td>\n",
              "      <td>...</td>\n",
              "      <td>...</td>\n",
              "      <td>...</td>\n",
              "    </tr>\n",
              "    <tr>\n",
              "      <th>7621</th>\n",
              "      <td>21886</td>\n",
              "      <td>European Union</td>\n",
              "      <td>2021-11-19</td>\n",
              "      <td>Pfizer/BioNTech</td>\n",
              "      <td>438577477</td>\n",
              "    </tr>\n",
              "    <tr>\n",
              "      <th>7622</th>\n",
              "      <td>21890</td>\n",
              "      <td>European Union</td>\n",
              "      <td>2021-11-20</td>\n",
              "      <td>Johnson&amp;Johnson</td>\n",
              "      <td>16950779</td>\n",
              "    </tr>\n",
              "    <tr>\n",
              "      <th>7623</th>\n",
              "      <td>21891</td>\n",
              "      <td>European Union</td>\n",
              "      <td>2021-11-20</td>\n",
              "      <td>Moderna</td>\n",
              "      <td>61206560</td>\n",
              "    </tr>\n",
              "    <tr>\n",
              "      <th>7624</th>\n",
              "      <td>21892</td>\n",
              "      <td>European Union</td>\n",
              "      <td>2021-11-20</td>\n",
              "      <td>Oxford/AstraZeneca</td>\n",
              "      <td>67212673</td>\n",
              "    </tr>\n",
              "    <tr>\n",
              "      <th>7625</th>\n",
              "      <td>21893</td>\n",
              "      <td>European Union</td>\n",
              "      <td>2021-11-20</td>\n",
              "      <td>Pfizer/BioNTech</td>\n",
              "      <td>438725101</td>\n",
              "    </tr>\n",
              "  </tbody>\n",
              "</table>\n",
              "<p>7626 rows × 5 columns</p>\n",
              "</div>"
            ],
            "text/plain": [
              "      index        Location        Date             Vaccine  TotalVaccinations\n",
              "0        67         Austria  2021-04-30     Pfizer/BioNTech            2273457\n",
              "1        71         Austria  2021-05-07     Pfizer/BioNTech            2604643\n",
              "2        75         Austria  2021-05-14     Pfizer/BioNTech            2904840\n",
              "3        79         Austria  2021-05-21     Pfizer/BioNTech            3283752\n",
              "4        83         Austria  2021-05-28     Pfizer/BioNTech            3620298\n",
              "...     ...             ...         ...                 ...                ...\n",
              "7621  21886  European Union  2021-11-19     Pfizer/BioNTech          438577477\n",
              "7622  21890  European Union  2021-11-20     Johnson&Johnson           16950779\n",
              "7623  21891  European Union  2021-11-20             Moderna           61206560\n",
              "7624  21892  European Union  2021-11-20  Oxford/AstraZeneca           67212673\n",
              "7625  21893  European Union  2021-11-20     Pfizer/BioNTech          438725101\n",
              "\n",
              "[7626 rows x 5 columns]"
            ]
          },
          "metadata": {},
          "execution_count": 135
        }
      ]
    },
    {
      "cell_type": "code",
      "metadata": {
        "colab": {
          "base_uri": "https://localhost:8080/",
          "height": 423
        },
        "id": "qFO5yCaMCViS",
        "outputId": "03ca3317-18e1-405d-a612-dccf9d4c2f47"
      },
      "source": [
        "q=df.set_index(\"Location\")\n",
        "q.reset_index()"
      ],
      "execution_count": null,
      "outputs": [
        {
          "output_type": "execute_result",
          "data": {
            "text/html": [
              "<div>\n",
              "<style scoped>\n",
              "    .dataframe tbody tr th:only-of-type {\n",
              "        vertical-align: middle;\n",
              "    }\n",
              "\n",
              "    .dataframe tbody tr th {\n",
              "        vertical-align: top;\n",
              "    }\n",
              "\n",
              "    .dataframe thead th {\n",
              "        text-align: right;\n",
              "    }\n",
              "</style>\n",
              "<table border=\"1\" class=\"dataframe\">\n",
              "  <thead>\n",
              "    <tr style=\"text-align: right;\">\n",
              "      <th></th>\n",
              "      <th>Location</th>\n",
              "      <th>Date</th>\n",
              "      <th>Vaccine</th>\n",
              "      <th>TotalVaccinations</th>\n",
              "    </tr>\n",
              "  </thead>\n",
              "  <tbody>\n",
              "    <tr>\n",
              "      <th>0</th>\n",
              "      <td>Austria</td>\n",
              "      <td>2021-04-30</td>\n",
              "      <td>Pfizer/BioNTech</td>\n",
              "      <td>2273457</td>\n",
              "    </tr>\n",
              "    <tr>\n",
              "      <th>1</th>\n",
              "      <td>Austria</td>\n",
              "      <td>2021-05-07</td>\n",
              "      <td>Pfizer/BioNTech</td>\n",
              "      <td>2604643</td>\n",
              "    </tr>\n",
              "    <tr>\n",
              "      <th>2</th>\n",
              "      <td>Austria</td>\n",
              "      <td>2021-05-14</td>\n",
              "      <td>Pfizer/BioNTech</td>\n",
              "      <td>2904840</td>\n",
              "    </tr>\n",
              "    <tr>\n",
              "      <th>3</th>\n",
              "      <td>Austria</td>\n",
              "      <td>2021-05-21</td>\n",
              "      <td>Pfizer/BioNTech</td>\n",
              "      <td>3283752</td>\n",
              "    </tr>\n",
              "    <tr>\n",
              "      <th>4</th>\n",
              "      <td>Austria</td>\n",
              "      <td>2021-05-28</td>\n",
              "      <td>Pfizer/BioNTech</td>\n",
              "      <td>3620298</td>\n",
              "    </tr>\n",
              "    <tr>\n",
              "      <th>...</th>\n",
              "      <td>...</td>\n",
              "      <td>...</td>\n",
              "      <td>...</td>\n",
              "      <td>...</td>\n",
              "    </tr>\n",
              "    <tr>\n",
              "      <th>7621</th>\n",
              "      <td>European Union</td>\n",
              "      <td>2021-11-19</td>\n",
              "      <td>Pfizer/BioNTech</td>\n",
              "      <td>438577477</td>\n",
              "    </tr>\n",
              "    <tr>\n",
              "      <th>7622</th>\n",
              "      <td>European Union</td>\n",
              "      <td>2021-11-20</td>\n",
              "      <td>Johnson&amp;Johnson</td>\n",
              "      <td>16950779</td>\n",
              "    </tr>\n",
              "    <tr>\n",
              "      <th>7623</th>\n",
              "      <td>European Union</td>\n",
              "      <td>2021-11-20</td>\n",
              "      <td>Moderna</td>\n",
              "      <td>61206560</td>\n",
              "    </tr>\n",
              "    <tr>\n",
              "      <th>7624</th>\n",
              "      <td>European Union</td>\n",
              "      <td>2021-11-20</td>\n",
              "      <td>Oxford/AstraZeneca</td>\n",
              "      <td>67212673</td>\n",
              "    </tr>\n",
              "    <tr>\n",
              "      <th>7625</th>\n",
              "      <td>European Union</td>\n",
              "      <td>2021-11-20</td>\n",
              "      <td>Pfizer/BioNTech</td>\n",
              "      <td>438725101</td>\n",
              "    </tr>\n",
              "  </tbody>\n",
              "</table>\n",
              "<p>7626 rows × 4 columns</p>\n",
              "</div>"
            ],
            "text/plain": [
              "            Location        Date             Vaccine  TotalVaccinations\n",
              "0            Austria  2021-04-30     Pfizer/BioNTech            2273457\n",
              "1            Austria  2021-05-07     Pfizer/BioNTech            2604643\n",
              "2            Austria  2021-05-14     Pfizer/BioNTech            2904840\n",
              "3            Austria  2021-05-21     Pfizer/BioNTech            3283752\n",
              "4            Austria  2021-05-28     Pfizer/BioNTech            3620298\n",
              "...              ...         ...                 ...                ...\n",
              "7621  European Union  2021-11-19     Pfizer/BioNTech          438577477\n",
              "7622  European Union  2021-11-20     Johnson&Johnson           16950779\n",
              "7623  European Union  2021-11-20             Moderna           61206560\n",
              "7624  European Union  2021-11-20  Oxford/AstraZeneca           67212673\n",
              "7625  European Union  2021-11-20     Pfizer/BioNTech          438725101\n",
              "\n",
              "[7626 rows x 4 columns]"
            ]
          },
          "metadata": {},
          "execution_count": 138
        }
      ]
    },
    {
      "cell_type": "markdown",
      "metadata": {
        "id": "LzRnzvzlDXoW"
      },
      "source": [
        "unique()"
      ]
    },
    {
      "cell_type": "code",
      "metadata": {
        "colab": {
          "base_uri": "https://localhost:8080/"
        },
        "id": "bZ-WpOTcCVk2",
        "outputId": "5432bdbe-a283-4bbe-bbe9-a435a4b2ce8e"
      },
      "source": [
        "df.Location.unique()"
      ],
      "execution_count": null,
      "outputs": [
        {
          "output_type": "execute_result",
          "data": {
            "text/plain": [
              "array(['Austria', 'Belgium', 'Chile', 'Croatia', 'Czechia', 'Denmark',\n",
              "       'Ecuador', 'Finland', 'France', 'Germany', 'Hong Kong', 'Hungary',\n",
              "       'Ireland', 'Italy', 'Japan', 'Lithuania', 'Netherlands', 'Norway',\n",
              "       'Poland', 'Portugal', 'Romania', 'Slovakia', 'South Korea',\n",
              "       'Spain', 'Sweden', 'Switzerland', 'Ukraine', 'United States',\n",
              "       'Uruguay', 'European Union'], dtype=object)"
            ]
          },
          "metadata": {},
          "execution_count": 139
        }
      ]
    },
    {
      "cell_type": "code",
      "metadata": {
        "colab": {
          "base_uri": "https://localhost:8080/"
        },
        "id": "IuIjpTIvCVnW",
        "outputId": "efd33359-dac3-4468-b5d8-3d6ba5480cde"
      },
      "source": [
        "df.Vaccine.unique()"
      ],
      "execution_count": null,
      "outputs": [
        {
          "output_type": "execute_result",
          "data": {
            "text/plain": [
              "array(['Pfizer/BioNTech', 'Oxford/AstraZeneca', 'Sinovac', 'Moderna',\n",
              "       'Johnson&Johnson'], dtype=object)"
            ]
          },
          "metadata": {},
          "execution_count": 140
        }
      ]
    },
    {
      "cell_type": "markdown",
      "metadata": {
        "id": "ArthcctTDkPi"
      },
      "source": [
        "Definir columnas"
      ]
    },
    {
      "cell_type": "code",
      "metadata": {
        "colab": {
          "base_uri": "https://localhost:8080/",
          "height": 423
        },
        "id": "A9ygXhyXDi0m",
        "outputId": "0bb09ffe-1242-4b42-cae6-98731a7db37b"
      },
      "source": [
        "cols=['Location', 'Date', 'Vaccine']\n",
        "df[cols]"
      ],
      "execution_count": null,
      "outputs": [
        {
          "output_type": "execute_result",
          "data": {
            "text/html": [
              "<div>\n",
              "<style scoped>\n",
              "    .dataframe tbody tr th:only-of-type {\n",
              "        vertical-align: middle;\n",
              "    }\n",
              "\n",
              "    .dataframe tbody tr th {\n",
              "        vertical-align: top;\n",
              "    }\n",
              "\n",
              "    .dataframe thead th {\n",
              "        text-align: right;\n",
              "    }\n",
              "</style>\n",
              "<table border=\"1\" class=\"dataframe\">\n",
              "  <thead>\n",
              "    <tr style=\"text-align: right;\">\n",
              "      <th></th>\n",
              "      <th>Location</th>\n",
              "      <th>Date</th>\n",
              "      <th>Vaccine</th>\n",
              "    </tr>\n",
              "  </thead>\n",
              "  <tbody>\n",
              "    <tr>\n",
              "      <th>67</th>\n",
              "      <td>Austria</td>\n",
              "      <td>2021-04-30</td>\n",
              "      <td>Pfizer/BioNTech</td>\n",
              "    </tr>\n",
              "    <tr>\n",
              "      <th>71</th>\n",
              "      <td>Austria</td>\n",
              "      <td>2021-05-07</td>\n",
              "      <td>Pfizer/BioNTech</td>\n",
              "    </tr>\n",
              "    <tr>\n",
              "      <th>75</th>\n",
              "      <td>Austria</td>\n",
              "      <td>2021-05-14</td>\n",
              "      <td>Pfizer/BioNTech</td>\n",
              "    </tr>\n",
              "    <tr>\n",
              "      <th>79</th>\n",
              "      <td>Austria</td>\n",
              "      <td>2021-05-21</td>\n",
              "      <td>Pfizer/BioNTech</td>\n",
              "    </tr>\n",
              "    <tr>\n",
              "      <th>83</th>\n",
              "      <td>Austria</td>\n",
              "      <td>2021-05-28</td>\n",
              "      <td>Pfizer/BioNTech</td>\n",
              "    </tr>\n",
              "    <tr>\n",
              "      <th>...</th>\n",
              "      <td>...</td>\n",
              "      <td>...</td>\n",
              "      <td>...</td>\n",
              "    </tr>\n",
              "    <tr>\n",
              "      <th>21886</th>\n",
              "      <td>European Union</td>\n",
              "      <td>2021-11-19</td>\n",
              "      <td>Pfizer/BioNTech</td>\n",
              "    </tr>\n",
              "    <tr>\n",
              "      <th>21890</th>\n",
              "      <td>European Union</td>\n",
              "      <td>2021-11-20</td>\n",
              "      <td>Johnson&amp;Johnson</td>\n",
              "    </tr>\n",
              "    <tr>\n",
              "      <th>21891</th>\n",
              "      <td>European Union</td>\n",
              "      <td>2021-11-20</td>\n",
              "      <td>Moderna</td>\n",
              "    </tr>\n",
              "    <tr>\n",
              "      <th>21892</th>\n",
              "      <td>European Union</td>\n",
              "      <td>2021-11-20</td>\n",
              "      <td>Oxford/AstraZeneca</td>\n",
              "    </tr>\n",
              "    <tr>\n",
              "      <th>21893</th>\n",
              "      <td>European Union</td>\n",
              "      <td>2021-11-20</td>\n",
              "      <td>Pfizer/BioNTech</td>\n",
              "    </tr>\n",
              "  </tbody>\n",
              "</table>\n",
              "<p>7626 rows × 3 columns</p>\n",
              "</div>"
            ],
            "text/plain": [
              "             Location        Date             Vaccine\n",
              "67            Austria  2021-04-30     Pfizer/BioNTech\n",
              "71            Austria  2021-05-07     Pfizer/BioNTech\n",
              "75            Austria  2021-05-14     Pfizer/BioNTech\n",
              "79            Austria  2021-05-21     Pfizer/BioNTech\n",
              "83            Austria  2021-05-28     Pfizer/BioNTech\n",
              "...               ...         ...                 ...\n",
              "21886  European Union  2021-11-19     Pfizer/BioNTech\n",
              "21890  European Union  2021-11-20     Johnson&Johnson\n",
              "21891  European Union  2021-11-20             Moderna\n",
              "21892  European Union  2021-11-20  Oxford/AstraZeneca\n",
              "21893  European Union  2021-11-20     Pfizer/BioNTech\n",
              "\n",
              "[7626 rows x 3 columns]"
            ]
          },
          "metadata": {},
          "execution_count": 142
        }
      ]
    },
    {
      "cell_type": "code",
      "metadata": {
        "colab": {
          "base_uri": "https://localhost:8080/",
          "height": 455
        },
        "id": "HdoB5slgCVqO",
        "outputId": "dafd0f0e-fdfe-4811-a944-f95687310644"
      },
      "source": [
        "g=df.set_index(['Location','Vaccine'])\n",
        "g"
      ],
      "execution_count": null,
      "outputs": [
        {
          "output_type": "execute_result",
          "data": {
            "text/html": [
              "<div>\n",
              "<style scoped>\n",
              "    .dataframe tbody tr th:only-of-type {\n",
              "        vertical-align: middle;\n",
              "    }\n",
              "\n",
              "    .dataframe tbody tr th {\n",
              "        vertical-align: top;\n",
              "    }\n",
              "\n",
              "    .dataframe thead th {\n",
              "        text-align: right;\n",
              "    }\n",
              "</style>\n",
              "<table border=\"1\" class=\"dataframe\">\n",
              "  <thead>\n",
              "    <tr style=\"text-align: right;\">\n",
              "      <th></th>\n",
              "      <th></th>\n",
              "      <th>Date</th>\n",
              "      <th>TotalVaccinations</th>\n",
              "    </tr>\n",
              "    <tr>\n",
              "      <th>Location</th>\n",
              "      <th>Vaccine</th>\n",
              "      <th></th>\n",
              "      <th></th>\n",
              "    </tr>\n",
              "  </thead>\n",
              "  <tbody>\n",
              "    <tr>\n",
              "      <th rowspan=\"5\" valign=\"top\">Austria</th>\n",
              "      <th>Pfizer/BioNTech</th>\n",
              "      <td>2021-04-30</td>\n",
              "      <td>2273457</td>\n",
              "    </tr>\n",
              "    <tr>\n",
              "      <th>Pfizer/BioNTech</th>\n",
              "      <td>2021-05-07</td>\n",
              "      <td>2604643</td>\n",
              "    </tr>\n",
              "    <tr>\n",
              "      <th>Pfizer/BioNTech</th>\n",
              "      <td>2021-05-14</td>\n",
              "      <td>2904840</td>\n",
              "    </tr>\n",
              "    <tr>\n",
              "      <th>Pfizer/BioNTech</th>\n",
              "      <td>2021-05-21</td>\n",
              "      <td>3283752</td>\n",
              "    </tr>\n",
              "    <tr>\n",
              "      <th>Pfizer/BioNTech</th>\n",
              "      <td>2021-05-28</td>\n",
              "      <td>3620298</td>\n",
              "    </tr>\n",
              "    <tr>\n",
              "      <th>...</th>\n",
              "      <th>...</th>\n",
              "      <td>...</td>\n",
              "      <td>...</td>\n",
              "    </tr>\n",
              "    <tr>\n",
              "      <th rowspan=\"5\" valign=\"top\">European Union</th>\n",
              "      <th>Pfizer/BioNTech</th>\n",
              "      <td>2021-11-19</td>\n",
              "      <td>438577477</td>\n",
              "    </tr>\n",
              "    <tr>\n",
              "      <th>Johnson&amp;Johnson</th>\n",
              "      <td>2021-11-20</td>\n",
              "      <td>16950779</td>\n",
              "    </tr>\n",
              "    <tr>\n",
              "      <th>Moderna</th>\n",
              "      <td>2021-11-20</td>\n",
              "      <td>61206560</td>\n",
              "    </tr>\n",
              "    <tr>\n",
              "      <th>Oxford/AstraZeneca</th>\n",
              "      <td>2021-11-20</td>\n",
              "      <td>67212673</td>\n",
              "    </tr>\n",
              "    <tr>\n",
              "      <th>Pfizer/BioNTech</th>\n",
              "      <td>2021-11-20</td>\n",
              "      <td>438725101</td>\n",
              "    </tr>\n",
              "  </tbody>\n",
              "</table>\n",
              "<p>7626 rows × 2 columns</p>\n",
              "</div>"
            ],
            "text/plain": [
              "                                         Date  TotalVaccinations\n",
              "Location       Vaccine                                          \n",
              "Austria        Pfizer/BioNTech     2021-04-30            2273457\n",
              "               Pfizer/BioNTech     2021-05-07            2604643\n",
              "               Pfizer/BioNTech     2021-05-14            2904840\n",
              "               Pfizer/BioNTech     2021-05-21            3283752\n",
              "               Pfizer/BioNTech     2021-05-28            3620298\n",
              "...                                       ...                ...\n",
              "European Union Pfizer/BioNTech     2021-11-19          438577477\n",
              "               Johnson&Johnson     2021-11-20           16950779\n",
              "               Moderna             2021-11-20           61206560\n",
              "               Oxford/AstraZeneca  2021-11-20           67212673\n",
              "               Pfizer/BioNTech     2021-11-20          438725101\n",
              "\n",
              "[7626 rows x 2 columns]"
            ]
          },
          "metadata": {},
          "execution_count": 149
        }
      ]
    },
    {
      "cell_type": "code",
      "metadata": {
        "colab": {
          "base_uri": "https://localhost:8080/",
          "height": 1000
        },
        "id": "ly4BOasaCVtG",
        "outputId": "95975871-61bd-4139-b739-22d2304dfa5e"
      },
      "source": [
        "g.loc[\"Austria\"]"
      ],
      "execution_count": null,
      "outputs": [
        {
          "output_type": "execute_result",
          "data": {
            "text/html": [
              "<div>\n",
              "<style scoped>\n",
              "    .dataframe tbody tr th:only-of-type {\n",
              "        vertical-align: middle;\n",
              "    }\n",
              "\n",
              "    .dataframe tbody tr th {\n",
              "        vertical-align: top;\n",
              "    }\n",
              "\n",
              "    .dataframe thead th {\n",
              "        text-align: right;\n",
              "    }\n",
              "</style>\n",
              "<table border=\"1\" class=\"dataframe\">\n",
              "  <thead>\n",
              "    <tr style=\"text-align: right;\">\n",
              "      <th></th>\n",
              "      <th>Date</th>\n",
              "      <th>TotalVaccinations</th>\n",
              "    </tr>\n",
              "    <tr>\n",
              "      <th>Vaccine</th>\n",
              "      <th></th>\n",
              "      <th></th>\n",
              "    </tr>\n",
              "  </thead>\n",
              "  <tbody>\n",
              "    <tr>\n",
              "      <th>Pfizer/BioNTech</th>\n",
              "      <td>2021-04-30</td>\n",
              "      <td>2273457</td>\n",
              "    </tr>\n",
              "    <tr>\n",
              "      <th>Pfizer/BioNTech</th>\n",
              "      <td>2021-05-07</td>\n",
              "      <td>2604643</td>\n",
              "    </tr>\n",
              "    <tr>\n",
              "      <th>Pfizer/BioNTech</th>\n",
              "      <td>2021-05-14</td>\n",
              "      <td>2904840</td>\n",
              "    </tr>\n",
              "    <tr>\n",
              "      <th>Pfizer/BioNTech</th>\n",
              "      <td>2021-05-21</td>\n",
              "      <td>3283752</td>\n",
              "    </tr>\n",
              "    <tr>\n",
              "      <th>Pfizer/BioNTech</th>\n",
              "      <td>2021-05-28</td>\n",
              "      <td>3620298</td>\n",
              "    </tr>\n",
              "    <tr>\n",
              "      <th>Pfizer/BioNTech</th>\n",
              "      <td>2021-06-04</td>\n",
              "      <td>4047114</td>\n",
              "    </tr>\n",
              "    <tr>\n",
              "      <th>Pfizer/BioNTech</th>\n",
              "      <td>2021-06-11</td>\n",
              "      <td>4487274</td>\n",
              "    </tr>\n",
              "    <tr>\n",
              "      <th>Pfizer/BioNTech</th>\n",
              "      <td>2021-06-18</td>\n",
              "      <td>4944088</td>\n",
              "    </tr>\n",
              "    <tr>\n",
              "      <th>Pfizer/BioNTech</th>\n",
              "      <td>2021-06-25</td>\n",
              "      <td>5391151</td>\n",
              "    </tr>\n",
              "    <tr>\n",
              "      <th>Pfizer/BioNTech</th>\n",
              "      <td>2021-07-02</td>\n",
              "      <td>5784489</td>\n",
              "    </tr>\n",
              "    <tr>\n",
              "      <th>Pfizer/BioNTech</th>\n",
              "      <td>2021-07-09</td>\n",
              "      <td>6116071</td>\n",
              "    </tr>\n",
              "    <tr>\n",
              "      <th>Pfizer/BioNTech</th>\n",
              "      <td>2021-07-16</td>\n",
              "      <td>6392275</td>\n",
              "    </tr>\n",
              "    <tr>\n",
              "      <th>Pfizer/BioNTech</th>\n",
              "      <td>2021-07-23</td>\n",
              "      <td>6644089</td>\n",
              "    </tr>\n",
              "    <tr>\n",
              "      <th>Pfizer/BioNTech</th>\n",
              "      <td>2021-07-30</td>\n",
              "      <td>6856749</td>\n",
              "    </tr>\n",
              "    <tr>\n",
              "      <th>Pfizer/BioNTech</th>\n",
              "      <td>2021-08-06</td>\n",
              "      <td>7035563</td>\n",
              "    </tr>\n",
              "    <tr>\n",
              "      <th>Pfizer/BioNTech</th>\n",
              "      <td>2021-08-13</td>\n",
              "      <td>7161389</td>\n",
              "    </tr>\n",
              "    <tr>\n",
              "      <th>Pfizer/BioNTech</th>\n",
              "      <td>2021-08-20</td>\n",
              "      <td>7255573</td>\n",
              "    </tr>\n",
              "    <tr>\n",
              "      <th>Pfizer/BioNTech</th>\n",
              "      <td>2021-08-27</td>\n",
              "      <td>7314987</td>\n",
              "    </tr>\n",
              "    <tr>\n",
              "      <th>Pfizer/BioNTech</th>\n",
              "      <td>2021-09-03</td>\n",
              "      <td>7367498</td>\n",
              "    </tr>\n",
              "    <tr>\n",
              "      <th>Pfizer/BioNTech</th>\n",
              "      <td>2021-09-10</td>\n",
              "      <td>7423706</td>\n",
              "    </tr>\n",
              "    <tr>\n",
              "      <th>Pfizer/BioNTech</th>\n",
              "      <td>2021-09-17</td>\n",
              "      <td>7495432</td>\n",
              "    </tr>\n",
              "    <tr>\n",
              "      <th>Pfizer/BioNTech</th>\n",
              "      <td>2021-09-24</td>\n",
              "      <td>7570056</td>\n",
              "    </tr>\n",
              "    <tr>\n",
              "      <th>Pfizer/BioNTech</th>\n",
              "      <td>2021-10-01</td>\n",
              "      <td>7652494</td>\n",
              "    </tr>\n",
              "    <tr>\n",
              "      <th>Pfizer/BioNTech</th>\n",
              "      <td>2021-10-08</td>\n",
              "      <td>7765350</td>\n",
              "    </tr>\n",
              "    <tr>\n",
              "      <th>Pfizer/BioNTech</th>\n",
              "      <td>2021-10-15</td>\n",
              "      <td>7873668</td>\n",
              "    </tr>\n",
              "    <tr>\n",
              "      <th>Pfizer/BioNTech</th>\n",
              "      <td>2021-10-22</td>\n",
              "      <td>8000912</td>\n",
              "    </tr>\n",
              "    <tr>\n",
              "      <th>Pfizer/BioNTech</th>\n",
              "      <td>2021-10-29</td>\n",
              "      <td>8117682</td>\n",
              "    </tr>\n",
              "    <tr>\n",
              "      <th>Pfizer/BioNTech</th>\n",
              "      <td>2021-11-05</td>\n",
              "      <td>8336536</td>\n",
              "    </tr>\n",
              "    <tr>\n",
              "      <th>Pfizer/BioNTech</th>\n",
              "      <td>2021-11-12</td>\n",
              "      <td>8758674</td>\n",
              "    </tr>\n",
              "    <tr>\n",
              "      <th>Pfizer/BioNTech</th>\n",
              "      <td>2021-11-19</td>\n",
              "      <td>9284152</td>\n",
              "    </tr>\n",
              "  </tbody>\n",
              "</table>\n",
              "</div>"
            ],
            "text/plain": [
              "                       Date  TotalVaccinations\n",
              "Vaccine                                       \n",
              "Pfizer/BioNTech  2021-04-30            2273457\n",
              "Pfizer/BioNTech  2021-05-07            2604643\n",
              "Pfizer/BioNTech  2021-05-14            2904840\n",
              "Pfizer/BioNTech  2021-05-21            3283752\n",
              "Pfizer/BioNTech  2021-05-28            3620298\n",
              "Pfizer/BioNTech  2021-06-04            4047114\n",
              "Pfizer/BioNTech  2021-06-11            4487274\n",
              "Pfizer/BioNTech  2021-06-18            4944088\n",
              "Pfizer/BioNTech  2021-06-25            5391151\n",
              "Pfizer/BioNTech  2021-07-02            5784489\n",
              "Pfizer/BioNTech  2021-07-09            6116071\n",
              "Pfizer/BioNTech  2021-07-16            6392275\n",
              "Pfizer/BioNTech  2021-07-23            6644089\n",
              "Pfizer/BioNTech  2021-07-30            6856749\n",
              "Pfizer/BioNTech  2021-08-06            7035563\n",
              "Pfizer/BioNTech  2021-08-13            7161389\n",
              "Pfizer/BioNTech  2021-08-20            7255573\n",
              "Pfizer/BioNTech  2021-08-27            7314987\n",
              "Pfizer/BioNTech  2021-09-03            7367498\n",
              "Pfizer/BioNTech  2021-09-10            7423706\n",
              "Pfizer/BioNTech  2021-09-17            7495432\n",
              "Pfizer/BioNTech  2021-09-24            7570056\n",
              "Pfizer/BioNTech  2021-10-01            7652494\n",
              "Pfizer/BioNTech  2021-10-08            7765350\n",
              "Pfizer/BioNTech  2021-10-15            7873668\n",
              "Pfizer/BioNTech  2021-10-22            8000912\n",
              "Pfizer/BioNTech  2021-10-29            8117682\n",
              "Pfizer/BioNTech  2021-11-05            8336536\n",
              "Pfizer/BioNTech  2021-11-12            8758674\n",
              "Pfizer/BioNTech  2021-11-19            9284152"
            ]
          },
          "metadata": {},
          "execution_count": 160
        }
      ]
    },
    {
      "cell_type": "markdown",
      "metadata": {
        "id": "YweapkaM5b8D"
      },
      "source": [
        "Operacion groupby "
      ]
    },
    {
      "cell_type": "code",
      "metadata": {
        "colab": {
          "base_uri": "https://localhost:8080/"
        },
        "id": "jzrVlOVK3_zF",
        "outputId": "150d5b7d-f8bc-4570-8140-5263576eebbd"
      },
      "source": [
        "df.groupby([\"Location\"])"
      ],
      "execution_count": null,
      "outputs": [
        {
          "output_type": "execute_result",
          "data": {
            "text/plain": [
              "<pandas.core.groupby.generic.DataFrameGroupBy object at 0x7fdb029cb790>"
            ]
          },
          "metadata": {},
          "execution_count": 81
        }
      ]
    },
    {
      "cell_type": "code",
      "metadata": {
        "colab": {
          "base_uri": "https://localhost:8080/",
          "height": 1000
        },
        "id": "lll9mMpY4D0R",
        "outputId": "1e8aa034-e338-44dc-e8b3-f175b952a09e"
      },
      "source": [
        "df.groupby([\"Location\"]).count()\n"
      ],
      "execution_count": null,
      "outputs": [
        {
          "output_type": "execute_result",
          "data": {
            "text/html": [
              "<div>\n",
              "<style scoped>\n",
              "    .dataframe tbody tr th:only-of-type {\n",
              "        vertical-align: middle;\n",
              "    }\n",
              "\n",
              "    .dataframe tbody tr th {\n",
              "        vertical-align: top;\n",
              "    }\n",
              "\n",
              "    .dataframe thead th {\n",
              "        text-align: right;\n",
              "    }\n",
              "</style>\n",
              "<table border=\"1\" class=\"dataframe\">\n",
              "  <thead>\n",
              "    <tr style=\"text-align: right;\">\n",
              "      <th></th>\n",
              "      <th>Date</th>\n",
              "      <th>Vaccine</th>\n",
              "      <th>TotalVaccinations</th>\n",
              "    </tr>\n",
              "    <tr>\n",
              "      <th>Location</th>\n",
              "      <th></th>\n",
              "      <th></th>\n",
              "      <th></th>\n",
              "    </tr>\n",
              "  </thead>\n",
              "  <tbody>\n",
              "    <tr>\n",
              "      <th>Austria</th>\n",
              "      <td>30</td>\n",
              "      <td>30</td>\n",
              "      <td>30</td>\n",
              "    </tr>\n",
              "    <tr>\n",
              "      <th>Belgium</th>\n",
              "      <td>51</td>\n",
              "      <td>51</td>\n",
              "      <td>51</td>\n",
              "    </tr>\n",
              "    <tr>\n",
              "      <th>Chile</th>\n",
              "      <td>476</td>\n",
              "      <td>476</td>\n",
              "      <td>476</td>\n",
              "    </tr>\n",
              "    <tr>\n",
              "      <th>Croatia</th>\n",
              "      <td>18</td>\n",
              "      <td>18</td>\n",
              "      <td>18</td>\n",
              "    </tr>\n",
              "    <tr>\n",
              "      <th>Czechia</th>\n",
              "      <td>212</td>\n",
              "      <td>212</td>\n",
              "      <td>212</td>\n",
              "    </tr>\n",
              "    <tr>\n",
              "      <th>Denmark</th>\n",
              "      <td>27</td>\n",
              "      <td>27</td>\n",
              "      <td>27</td>\n",
              "    </tr>\n",
              "    <tr>\n",
              "      <th>Ecuador</th>\n",
              "      <td>287</td>\n",
              "      <td>287</td>\n",
              "      <td>287</td>\n",
              "    </tr>\n",
              "    <tr>\n",
              "      <th>European Union</th>\n",
              "      <td>1019</td>\n",
              "      <td>1019</td>\n",
              "      <td>1019</td>\n",
              "    </tr>\n",
              "    <tr>\n",
              "      <th>Finland</th>\n",
              "      <td>26</td>\n",
              "      <td>26</td>\n",
              "      <td>26</td>\n",
              "    </tr>\n",
              "    <tr>\n",
              "      <th>France</th>\n",
              "      <td>720</td>\n",
              "      <td>720</td>\n",
              "      <td>720</td>\n",
              "    </tr>\n",
              "    <tr>\n",
              "      <th>Germany</th>\n",
              "      <td>867</td>\n",
              "      <td>867</td>\n",
              "      <td>867</td>\n",
              "    </tr>\n",
              "    <tr>\n",
              "      <th>Hong Kong</th>\n",
              "      <td>260</td>\n",
              "      <td>260</td>\n",
              "      <td>260</td>\n",
              "    </tr>\n",
              "    <tr>\n",
              "      <th>Hungary</th>\n",
              "      <td>31</td>\n",
              "      <td>31</td>\n",
              "      <td>31</td>\n",
              "    </tr>\n",
              "    <tr>\n",
              "      <th>Ireland</th>\n",
              "      <td>25</td>\n",
              "      <td>25</td>\n",
              "      <td>25</td>\n",
              "    </tr>\n",
              "    <tr>\n",
              "      <th>Italy</th>\n",
              "      <td>711</td>\n",
              "      <td>711</td>\n",
              "      <td>711</td>\n",
              "    </tr>\n",
              "    <tr>\n",
              "      <th>Japan</th>\n",
              "      <td>135</td>\n",
              "      <td>135</td>\n",
              "      <td>135</td>\n",
              "    </tr>\n",
              "    <tr>\n",
              "      <th>Lithuania</th>\n",
              "      <td>3</td>\n",
              "      <td>3</td>\n",
              "      <td>3</td>\n",
              "    </tr>\n",
              "    <tr>\n",
              "      <th>Netherlands</th>\n",
              "      <td>57</td>\n",
              "      <td>57</td>\n",
              "      <td>57</td>\n",
              "    </tr>\n",
              "    <tr>\n",
              "      <th>Norway</th>\n",
              "      <td>25</td>\n",
              "      <td>25</td>\n",
              "      <td>25</td>\n",
              "    </tr>\n",
              "    <tr>\n",
              "      <th>Poland</th>\n",
              "      <td>98</td>\n",
              "      <td>98</td>\n",
              "      <td>98</td>\n",
              "    </tr>\n",
              "    <tr>\n",
              "      <th>Portugal</th>\n",
              "      <td>45</td>\n",
              "      <td>45</td>\n",
              "      <td>45</td>\n",
              "    </tr>\n",
              "    <tr>\n",
              "      <th>Romania</th>\n",
              "      <td>240</td>\n",
              "      <td>240</td>\n",
              "      <td>240</td>\n",
              "    </tr>\n",
              "    <tr>\n",
              "      <th>Slovakia</th>\n",
              "      <td>23</td>\n",
              "      <td>23</td>\n",
              "      <td>23</td>\n",
              "    </tr>\n",
              "    <tr>\n",
              "      <th>South Korea</th>\n",
              "      <td>472</td>\n",
              "      <td>472</td>\n",
              "      <td>472</td>\n",
              "    </tr>\n",
              "    <tr>\n",
              "      <th>Spain</th>\n",
              "      <td>100</td>\n",
              "      <td>100</td>\n",
              "      <td>100</td>\n",
              "    </tr>\n",
              "    <tr>\n",
              "      <th>Sweden</th>\n",
              "      <td>31</td>\n",
              "      <td>31</td>\n",
              "      <td>31</td>\n",
              "    </tr>\n",
              "    <tr>\n",
              "      <th>Switzerland</th>\n",
              "      <td>358</td>\n",
              "      <td>358</td>\n",
              "      <td>358</td>\n",
              "    </tr>\n",
              "    <tr>\n",
              "      <th>Ukraine</th>\n",
              "      <td>264</td>\n",
              "      <td>264</td>\n",
              "      <td>264</td>\n",
              "    </tr>\n",
              "    <tr>\n",
              "      <th>United States</th>\n",
              "      <td>841</td>\n",
              "      <td>841</td>\n",
              "      <td>841</td>\n",
              "    </tr>\n",
              "    <tr>\n",
              "      <th>Uruguay</th>\n",
              "      <td>174</td>\n",
              "      <td>174</td>\n",
              "      <td>174</td>\n",
              "    </tr>\n",
              "  </tbody>\n",
              "</table>\n",
              "</div>"
            ],
            "text/plain": [
              "                Date  Vaccine  TotalVaccinations\n",
              "Location                                        \n",
              "Austria           30       30                 30\n",
              "Belgium           51       51                 51\n",
              "Chile            476      476                476\n",
              "Croatia           18       18                 18\n",
              "Czechia          212      212                212\n",
              "Denmark           27       27                 27\n",
              "Ecuador          287      287                287\n",
              "European Union  1019     1019               1019\n",
              "Finland           26       26                 26\n",
              "France           720      720                720\n",
              "Germany          867      867                867\n",
              "Hong Kong        260      260                260\n",
              "Hungary           31       31                 31\n",
              "Ireland           25       25                 25\n",
              "Italy            711      711                711\n",
              "Japan            135      135                135\n",
              "Lithuania          3        3                  3\n",
              "Netherlands       57       57                 57\n",
              "Norway            25       25                 25\n",
              "Poland            98       98                 98\n",
              "Portugal          45       45                 45\n",
              "Romania          240      240                240\n",
              "Slovakia          23       23                 23\n",
              "South Korea      472      472                472\n",
              "Spain            100      100                100\n",
              "Sweden            31       31                 31\n",
              "Switzerland      358      358                358\n",
              "Ukraine          264      264                264\n",
              "United States    841      841                841\n",
              "Uruguay          174      174                174"
            ]
          },
          "metadata": {},
          "execution_count": 85
        }
      ]
    },
    {
      "cell_type": "code",
      "metadata": {
        "colab": {
          "base_uri": "https://localhost:8080/",
          "height": 237
        },
        "id": "KPhcLn2V4iWx",
        "outputId": "d21eea83-09b6-4226-a093-6d89e6205fc4"
      },
      "source": [
        "df.groupby([\"Vaccine\"]).count()\n"
      ],
      "execution_count": null,
      "outputs": [
        {
          "output_type": "execute_result",
          "data": {
            "text/html": [
              "<div>\n",
              "<style scoped>\n",
              "    .dataframe tbody tr th:only-of-type {\n",
              "        vertical-align: middle;\n",
              "    }\n",
              "\n",
              "    .dataframe tbody tr th {\n",
              "        vertical-align: top;\n",
              "    }\n",
              "\n",
              "    .dataframe thead th {\n",
              "        text-align: right;\n",
              "    }\n",
              "</style>\n",
              "<table border=\"1\" class=\"dataframe\">\n",
              "  <thead>\n",
              "    <tr style=\"text-align: right;\">\n",
              "      <th></th>\n",
              "      <th>Location</th>\n",
              "      <th>Date</th>\n",
              "      <th>TotalVaccinations</th>\n",
              "    </tr>\n",
              "    <tr>\n",
              "      <th>Vaccine</th>\n",
              "      <th></th>\n",
              "      <th></th>\n",
              "      <th></th>\n",
              "    </tr>\n",
              "  </thead>\n",
              "  <tbody>\n",
              "    <tr>\n",
              "      <th>Johnson&amp;Johnson</th>\n",
              "      <td>552</td>\n",
              "      <td>552</td>\n",
              "      <td>552</td>\n",
              "    </tr>\n",
              "    <tr>\n",
              "      <th>Moderna</th>\n",
              "      <td>1499</td>\n",
              "      <td>1499</td>\n",
              "      <td>1499</td>\n",
              "    </tr>\n",
              "    <tr>\n",
              "      <th>Oxford/AstraZeneca</th>\n",
              "      <td>1383</td>\n",
              "      <td>1383</td>\n",
              "      <td>1383</td>\n",
              "    </tr>\n",
              "    <tr>\n",
              "      <th>Pfizer/BioNTech</th>\n",
              "      <td>3410</td>\n",
              "      <td>3410</td>\n",
              "      <td>3410</td>\n",
              "    </tr>\n",
              "    <tr>\n",
              "      <th>Sinovac</th>\n",
              "      <td>782</td>\n",
              "      <td>782</td>\n",
              "      <td>782</td>\n",
              "    </tr>\n",
              "  </tbody>\n",
              "</table>\n",
              "</div>"
            ],
            "text/plain": [
              "                    Location  Date  TotalVaccinations\n",
              "Vaccine                                              \n",
              "Johnson&Johnson          552   552                552\n",
              "Moderna                 1499  1499               1499\n",
              "Oxford/AstraZeneca      1383  1383               1383\n",
              "Pfizer/BioNTech         3410  3410               3410\n",
              "Sinovac                  782   782                782"
            ]
          },
          "metadata": {},
          "execution_count": 86
        }
      ]
    },
    {
      "cell_type": "code",
      "metadata": {
        "id": "FQvezD1R6Ctj"
      },
      "source": [
        "part_df = df[df.Location==\"Austria\"].reset_index()\n"
      ],
      "execution_count": null,
      "outputs": []
    },
    {
      "cell_type": "code",
      "metadata": {
        "id": "AT900oDKEzv7"
      },
      "source": [
        "mask = df.Location.isnull()"
      ],
      "execution_count": null,
      "outputs": []
    },
    {
      "cell_type": "code",
      "metadata": {
        "colab": {
          "base_uri": "https://localhost:8080/",
          "height": 423
        },
        "id": "CoLsYq6SEz6s",
        "outputId": "11b98c8d-f54e-4f1b-b371-0693481b3e68"
      },
      "source": [
        "df.fillna(0)"
      ],
      "execution_count": null,
      "outputs": [
        {
          "output_type": "execute_result",
          "data": {
            "text/html": [
              "<div>\n",
              "<style scoped>\n",
              "    .dataframe tbody tr th:only-of-type {\n",
              "        vertical-align: middle;\n",
              "    }\n",
              "\n",
              "    .dataframe tbody tr th {\n",
              "        vertical-align: top;\n",
              "    }\n",
              "\n",
              "    .dataframe thead th {\n",
              "        text-align: right;\n",
              "    }\n",
              "</style>\n",
              "<table border=\"1\" class=\"dataframe\">\n",
              "  <thead>\n",
              "    <tr style=\"text-align: right;\">\n",
              "      <th></th>\n",
              "      <th>Location</th>\n",
              "      <th>Date</th>\n",
              "      <th>Vaccine</th>\n",
              "      <th>TotalVaccinations</th>\n",
              "    </tr>\n",
              "  </thead>\n",
              "  <tbody>\n",
              "    <tr>\n",
              "      <th>67</th>\n",
              "      <td>Austria</td>\n",
              "      <td>2021-04-30</td>\n",
              "      <td>Pfizer/BioNTech</td>\n",
              "      <td>2273457</td>\n",
              "    </tr>\n",
              "    <tr>\n",
              "      <th>71</th>\n",
              "      <td>Austria</td>\n",
              "      <td>2021-05-07</td>\n",
              "      <td>Pfizer/BioNTech</td>\n",
              "      <td>2604643</td>\n",
              "    </tr>\n",
              "    <tr>\n",
              "      <th>75</th>\n",
              "      <td>Austria</td>\n",
              "      <td>2021-05-14</td>\n",
              "      <td>Pfizer/BioNTech</td>\n",
              "      <td>2904840</td>\n",
              "    </tr>\n",
              "    <tr>\n",
              "      <th>79</th>\n",
              "      <td>Austria</td>\n",
              "      <td>2021-05-21</td>\n",
              "      <td>Pfizer/BioNTech</td>\n",
              "      <td>3283752</td>\n",
              "    </tr>\n",
              "    <tr>\n",
              "      <th>83</th>\n",
              "      <td>Austria</td>\n",
              "      <td>2021-05-28</td>\n",
              "      <td>Pfizer/BioNTech</td>\n",
              "      <td>3620298</td>\n",
              "    </tr>\n",
              "    <tr>\n",
              "      <th>...</th>\n",
              "      <td>...</td>\n",
              "      <td>...</td>\n",
              "      <td>...</td>\n",
              "      <td>...</td>\n",
              "    </tr>\n",
              "    <tr>\n",
              "      <th>21886</th>\n",
              "      <td>European Union</td>\n",
              "      <td>2021-11-19</td>\n",
              "      <td>Pfizer/BioNTech</td>\n",
              "      <td>438577477</td>\n",
              "    </tr>\n",
              "    <tr>\n",
              "      <th>21890</th>\n",
              "      <td>European Union</td>\n",
              "      <td>2021-11-20</td>\n",
              "      <td>Johnson&amp;Johnson</td>\n",
              "      <td>16950779</td>\n",
              "    </tr>\n",
              "    <tr>\n",
              "      <th>21891</th>\n",
              "      <td>European Union</td>\n",
              "      <td>2021-11-20</td>\n",
              "      <td>Moderna</td>\n",
              "      <td>61206560</td>\n",
              "    </tr>\n",
              "    <tr>\n",
              "      <th>21892</th>\n",
              "      <td>European Union</td>\n",
              "      <td>2021-11-20</td>\n",
              "      <td>Oxford/AstraZeneca</td>\n",
              "      <td>67212673</td>\n",
              "    </tr>\n",
              "    <tr>\n",
              "      <th>21893</th>\n",
              "      <td>European Union</td>\n",
              "      <td>2021-11-20</td>\n",
              "      <td>Pfizer/BioNTech</td>\n",
              "      <td>438725101</td>\n",
              "    </tr>\n",
              "  </tbody>\n",
              "</table>\n",
              "<p>7626 rows × 4 columns</p>\n",
              "</div>"
            ],
            "text/plain": [
              "             Location        Date             Vaccine  TotalVaccinations\n",
              "67            Austria  2021-04-30     Pfizer/BioNTech            2273457\n",
              "71            Austria  2021-05-07     Pfizer/BioNTech            2604643\n",
              "75            Austria  2021-05-14     Pfizer/BioNTech            2904840\n",
              "79            Austria  2021-05-21     Pfizer/BioNTech            3283752\n",
              "83            Austria  2021-05-28     Pfizer/BioNTech            3620298\n",
              "...               ...         ...                 ...                ...\n",
              "21886  European Union  2021-11-19     Pfizer/BioNTech          438577477\n",
              "21890  European Union  2021-11-20     Johnson&Johnson           16950779\n",
              "21891  European Union  2021-11-20             Moderna           61206560\n",
              "21892  European Union  2021-11-20  Oxford/AstraZeneca           67212673\n",
              "21893  European Union  2021-11-20     Pfizer/BioNTech          438725101\n",
              "\n",
              "[7626 rows x 4 columns]"
            ]
          },
          "metadata": {},
          "execution_count": 165
        }
      ]
    },
    {
      "cell_type": "code",
      "metadata": {
        "id": "JGTR5OK1Ez-J"
      },
      "source": [
        ""
      ],
      "execution_count": null,
      "outputs": []
    },
    {
      "cell_type": "markdown",
      "metadata": {
        "id": "UrIgqDWQZGik"
      },
      "source": [
        ""
      ]
    },
    {
      "cell_type": "markdown",
      "metadata": {
        "id": "lYFVJTpNZGlc"
      },
      "source": [
        ""
      ]
    },
    {
      "cell_type": "markdown",
      "metadata": {
        "id": "3jKw7WwEZGpZ"
      },
      "source": [
        "Series de tiempo \n",
        "https://raw.githubusercontent.com/jbrownlee/Datasets/master/daily-min-temperatures.csv"
      ]
    },
    {
      "cell_type": "markdown",
      "metadata": {
        "id": "L4rLg5bQ9d2D"
      },
      "source": [
        "Algunos repositorios y paginas de interes\n",
        "\n",
        "\n",
        "1. https://www.nature.com/sdata/policies/repositories\n",
        "\n",
        "2. https://paperswithcode.com/\n",
        "\n",
        "3. https://towardsdatascience.com/31-datasets-for-your-next-data-science-project-6ef9a6f8cac6\n",
        "\n",
        "4. https://www.data.gov/\n",
        "\n",
        "5. https://archive.ics.uci.edu/ml/index.php\n",
        "\n",
        "6. https://data.world/datasets/geodata\n",
        "\n",
        "7. https://matmatch.com/advanced-search?categories=ceramic\n",
        "\n",
        "8. https://github.com/sedaoturak/data-resources-for-materials-science\n",
        "\n",
        "\n",
        "9. https://guides.library.cmu.edu/machine-learning/datasets"
      ]
    },
    {
      "cell_type": "code",
      "metadata": {
        "id": "v2mDZbXR83m4"
      },
      "source": [
        ""
      ],
      "execution_count": null,
      "outputs": []
    },
    {
      "cell_type": "code",
      "metadata": {
        "id": "urTeXCN5830I"
      },
      "source": [
        ""
      ],
      "execution_count": null,
      "outputs": []
    },
    {
      "cell_type": "code",
      "metadata": {
        "id": "UzDnFEBc832-"
      },
      "source": [
        ""
      ],
      "execution_count": null,
      "outputs": []
    },
    {
      "cell_type": "code",
      "metadata": {
        "id": "rW0o-sUK836Y"
      },
      "source": [
        ""
      ],
      "execution_count": null,
      "outputs": []
    }
  ]
}